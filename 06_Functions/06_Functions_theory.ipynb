{
 "cells": [
  {
   "cell_type": "markdown",
   "id": "e05b41a6-c018-4e04-88a6-b8fd10b90105",
   "metadata": {},
   "source": [
    "# Day 21 Functions Class 01 "
   ]
  },
  {
   "cell_type": "code",
   "execution_count": 3,
   "id": "3a7a799e-9971-497b-9ae1-d94384ec4350",
   "metadata": {},
   "outputs": [
    {
     "name": "stdout",
     "output_type": "stream",
     "text": [
      "['False', 'None', 'True', 'and', 'as', 'assert', 'async', 'await', 'break', 'class', 'continue', 'def', 'del', 'elif', 'else', 'except', 'finally', 'for', 'from', 'global', 'if', 'import', 'in', 'is', 'lambda', 'nonlocal', 'not', 'or', 'pass', 'raise', 'return', 'try', 'while', 'with', 'yield']\n",
      "35\n"
     ]
    }
   ],
   "source": [
    "# Keywords: Reserve Words\n",
    "\n",
    "import keyword\n",
    "print(keyword.kwlist)\n",
    "\n",
    "ls=['False', 'None', 'True', 'and', 'as', 'assert', 'async', 'await', 'break', 'class', 'continue', \n",
    "    'def', 'del', 'elif', 'else', 'except', 'finally', 'for', 'from', 'global', 'if', 'import', 'in', 'is', \n",
    "    'lambda', 'nonlocal', 'not', 'or', 'pass', 'raise', 'return', 'try', 'while', 'with', 'yield']\n",
    "\n",
    "print(len(ls))"
   ]
  },
  {
   "cell_type": "code",
   "execution_count": 7,
   "id": "ab8883e6-d6f5-41a9-b324-5b25f5aaa459",
   "metadata": {},
   "outputs": [
    {
     "name": "stdout",
     "output_type": "stream",
     "text": [
      "Hello World\n"
     ]
    }
   ],
   "source": [
    "def functions():\n",
    "    print(\"Hello World\")\n",
    "\n",
    "functions()"
   ]
  },
  {
   "cell_type": "code",
   "execution_count": 21,
   "id": "b86df14d-17a1-456f-b753-2d02560953f8",
   "metadata": {},
   "outputs": [
    {
     "name": "stdout",
     "output_type": "stream",
     "text": [
      "35\n",
      "DataEngineering\n",
      "(4+14j)\n"
     ]
    }
   ],
   "source": [
    "def Sum(a,b):\n",
    "    res=a+b\n",
    "    return res\n",
    "x=Sum(25,10)\n",
    "print(x)\n",
    "\n",
    "y=Sum(\"Data\",\"Engineering\")\n",
    "print(y)\n",
    "\n",
    "z=Sum(complex(4,6),complex(0,8))\n",
    "print(z)"
   ]
  },
  {
   "cell_type": "code",
   "execution_count": null,
   "id": "f23d10bc-3592-4fe4-889e-1ed5723480ae",
   "metadata": {},
   "outputs": [],
   "source": [
    "# Data Loading\n",
    "\n",
    "def load_data(type_of_data):\n",
    "    if type_of_data==\"csv\":\n",
    "        read_csv()\n",
    "    elif type_of_data==\"xlsx\" or \"xls\":\n",
    "        read_excel()\n",
    "    else type_of_data==\"json\":\n",
    "        read_json()      "
   ]
  },
  {
   "cell_type": "code",
   "execution_count": null,
   "id": "5cba92ad-bcf8-4901-84c3-2fbe604f1fd7",
   "metadata": {},
   "outputs": [],
   "source": [
    "# Transformation\n",
    "\n",
    "def function(columns,transformations):\n",
    "    print(column*0.25)"
   ]
  },
  {
   "cell_type": "code",
   "execution_count": null,
   "id": "ff4ff3e4-c6eb-4f56-b705-a34eb1beb61c",
   "metadata": {},
   "outputs": [],
   "source": [
    "# Null value Treatment\n",
    "# outliers\n",
    "# label encoding\n",
    "# dummy variables\n",
    "# min max scaling"
   ]
  },
  {
   "cell_type": "code",
   "execution_count": 31,
   "id": "7fc9bb53-81b2-4600-bef2-a43969d62926",
   "metadata": {},
   "outputs": [
    {
     "name": "stdout",
     "output_type": "stream",
     "text": [
      "35\n"
     ]
    },
    {
     "data": {
      "text/plain": [
       "40"
      ]
     },
     "execution_count": 31,
     "metadata": {},
     "output_type": "execute_result"
    }
   ],
   "source": [
    "# Print v/s Return\n",
    "\n",
    "def function1(a,b):\n",
    "    print(a+b)\n",
    "\n",
    "def function2(a,b):\n",
    "    return a+b\n",
    "    print(\"End of Exceution\")    # Return Sattement: Terminates the function after returning value.\n",
    "\n",
    "function1(10,25)\n",
    "\n",
    "function2(10,30)"
   ]
  },
  {
   "cell_type": "code",
   "execution_count": 62,
   "id": "d48e27de-d4a1-454a-bc9a-1f8fc0cd47e2",
   "metadata": {},
   "outputs": [],
   "source": [
    "# Visualisation\n",
    "import numpy as np\n",
    "import pandas as pd\n",
    "import matplotlib.pyplot as plt\n",
    "\n",
    "df = pd.read_excel(\"EDUKRON_DATASETS/Source_Retail_Sales.xls\")\n",
    "\n",
    "# df.head()\n",
    "\n",
    "# def visualisation(columnname):\n",
    "#     plt.bar(df['columnname'],heigth=0.5,width=0.8)\n",
    "\n",
    "# visualisation('Sales')"
   ]
  },
  {
   "cell_type": "code",
   "execution_count": 72,
   "id": "32a20951-c1dc-44bd-beeb-0ee324863158",
   "metadata": {},
   "outputs": [
    {
     "name": "stdout",
     "output_type": "stream",
     "text": [
      "**************************\n",
      "Index(['Row ID', 'Order ID', 'Order Date', 'Ship Date', 'Ship Mode',\n",
      "       'Customer ID', 'Customer Name', 'Segment', 'Country', 'City', 'State',\n",
      "       'Postal Code', 'Region', 'Product ID', 'Category', 'Sub-Category',\n",
      "       'Product Name', 'Sales', 'Quantity', 'Discount', 'Profit'],\n",
      "      dtype='object')\n",
      "**************************\n",
      "(9994, 21)\n",
      "**************************\n",
      "Row ID                    int64\n",
      "Order ID                 object\n",
      "Order Date       datetime64[ns]\n",
      "Ship Date        datetime64[ns]\n",
      "Ship Mode                object\n",
      "Customer ID              object\n",
      "Customer Name            object\n",
      "Segment                  object\n",
      "Country                  object\n",
      "City                     object\n",
      "State                    object\n",
      "Postal Code               int64\n",
      "Region                   object\n",
      "Product ID               object\n",
      "Category                 object\n",
      "Sub-Category             object\n",
      "Product Name             object\n",
      "Sales                   float64\n",
      "Quantity                  int64\n",
      "Discount                float64\n",
      "Profit                  float64\n",
      "dtype: object\n",
      "**************************\n",
      "<bound method NDFrame.describe of       Row ID        Order ID Order Date  Ship Date       Ship Mode  \\\n",
      "0          1  CA-2016-152156 2016-11-08 2016-11-11    Second Class   \n",
      "1          2  CA-2016-152156 2016-11-08 2016-11-11    Second Class   \n",
      "2          3  CA-2016-138688 2016-06-12 2016-06-16    Second Class   \n",
      "3          4  US-2015-108966 2015-10-11 2015-10-18  Standard Class   \n",
      "4          5  US-2015-108966 2015-10-11 2015-10-18  Standard Class   \n",
      "...      ...             ...        ...        ...             ...   \n",
      "9989    9990  CA-2014-110422 2014-01-21 2014-01-23    Second Class   \n",
      "9990    9991  CA-2017-121258 2017-02-26 2017-03-03  Standard Class   \n",
      "9991    9992  CA-2017-121258 2017-02-26 2017-03-03  Standard Class   \n",
      "9992    9993  CA-2017-121258 2017-02-26 2017-03-03  Standard Class   \n",
      "9993    9994  CA-2017-119914 2017-05-04 2017-05-09    Second Class   \n",
      "\n",
      "     Customer ID     Customer Name    Segment        Country             City  \\\n",
      "0       CG-12520       Claire Gute   Consumer  United States        Henderson   \n",
      "1       CG-12520       Claire Gute   Consumer  United States        Henderson   \n",
      "2       DV-13045   Darrin Van Huff  Corporate  United States      Los Angeles   \n",
      "3       SO-20335    Sean O'Donnell   Consumer  United States  Fort Lauderdale   \n",
      "4       SO-20335    Sean O'Donnell   Consumer  United States  Fort Lauderdale   \n",
      "...          ...               ...        ...            ...              ...   \n",
      "9989    TB-21400  Tom Boeckenhauer   Consumer  United States            Miami   \n",
      "9990    DB-13060       Dave Brooks   Consumer  United States       Costa Mesa   \n",
      "9991    DB-13060       Dave Brooks   Consumer  United States       Costa Mesa   \n",
      "9992    DB-13060       Dave Brooks   Consumer  United States       Costa Mesa   \n",
      "9993    CC-12220      Chris Cortes   Consumer  United States      Westminster   \n",
      "\n",
      "      ... Postal Code  Region       Product ID         Category Sub-Category  \\\n",
      "0     ...       42420   South  FUR-BO-10001798        Furniture    Bookcases   \n",
      "1     ...       42420   South  FUR-CH-10000454        Furniture       Chairs   \n",
      "2     ...       90036    West  OFF-LA-10000240  Office Supplies       Labels   \n",
      "3     ...       33311   South  FUR-TA-10000577        Furniture       Tables   \n",
      "4     ...       33311   South  OFF-ST-10000760  Office Supplies      Storage   \n",
      "...   ...         ...     ...              ...              ...          ...   \n",
      "9989  ...       33180   South  FUR-FU-10001889        Furniture  Furnishings   \n",
      "9990  ...       92627    West  FUR-FU-10000747        Furniture  Furnishings   \n",
      "9991  ...       92627    West  TEC-PH-10003645       Technology       Phones   \n",
      "9992  ...       92627    West  OFF-PA-10004041  Office Supplies        Paper   \n",
      "9993  ...       92683    West  OFF-AP-10002684  Office Supplies   Appliances   \n",
      "\n",
      "                                           Product Name     Sales  Quantity  \\\n",
      "0                     Bush Somerset Collection Bookcase  261.9600         2   \n",
      "1     Hon Deluxe Fabric Upholstered Stacking Chairs,...  731.9400         3   \n",
      "2     Self-Adhesive Address Labels for Typewriters b...   14.6200         2   \n",
      "3         Bretford CR4500 Series Slim Rectangular Table  957.5775         5   \n",
      "4                        Eldon Fold 'N Roll Cart System   22.3680         2   \n",
      "...                                                 ...       ...       ...   \n",
      "9989                             Ultra Door Pull Handle   25.2480         3   \n",
      "9990  Tenex B1-RE Series Chair Mats for Low Pile Car...   91.9600         2   \n",
      "9991                              Aastra 57i VoIP phone  258.5760         2   \n",
      "9992  It's Hot Message Books with Stickers, 2 3/4\" x 5\"   29.6000         4   \n",
      "9993  Acco 7-Outlet Masterpiece Power Center, Wihtou...  243.1600         2   \n",
      "\n",
      "      Discount    Profit  \n",
      "0         0.00   41.9136  \n",
      "1         0.00  219.5820  \n",
      "2         0.00    6.8714  \n",
      "3         0.45 -383.0310  \n",
      "4         0.20    2.5164  \n",
      "...        ...       ...  \n",
      "9989      0.20    4.1028  \n",
      "9990      0.00   15.6332  \n",
      "9991      0.20   19.3932  \n",
      "9992      0.00   13.3200  \n",
      "9993      0.00   72.9480  \n",
      "\n",
      "[9994 rows x 21 columns]>\n",
      "**************************\n",
      "Row ID           0\n",
      "Order ID         0\n",
      "Order Date       0\n",
      "Ship Date        0\n",
      "Ship Mode        0\n",
      "Customer ID      0\n",
      "Customer Name    0\n",
      "Segment          0\n",
      "Country          0\n",
      "City             0\n",
      "State            0\n",
      "Postal Code      0\n",
      "Region           0\n",
      "Product ID       0\n",
      "Category         0\n",
      "Sub-Category     0\n",
      "Product Name     0\n",
      "Sales            0\n",
      "Quantity         0\n",
      "Discount         0\n",
      "Profit           0\n",
      "dtype: int64\n",
      "**************************\n",
      "              Order ID       Ship Mode Customer ID  Customer Name   Segment  \\\n",
      "count             9994            9994        9994           9994      9994   \n",
      "unique            5009               4         793            793         3   \n",
      "top     CA-2017-100111  Standard Class    WB-21850  William Brown  Consumer   \n",
      "freq                14            5968          37             37      5191   \n",
      "\n",
      "              Country           City       State Region       Product ID  \\\n",
      "count            9994           9994        9994   9994             9994   \n",
      "unique              1            531          49      4             1862   \n",
      "top     United States  New York City  California   West  OFF-PA-10001970   \n",
      "freq             9994            915        2001   3203               19   \n",
      "\n",
      "               Category Sub-Category     Product Name  \n",
      "count              9994         9994             9994  \n",
      "unique                3           17             1850  \n",
      "top     Office Supplies      Binders  Staple envelope  \n",
      "freq               6026         1523               48  \n"
     ]
    }
   ],
   "source": [
    "# Analysis\n",
    "\n",
    "path=\"EDUKRON_DATASETS/Source_Retail_Sales.xls\"\n",
    "def analysis(df):\n",
    "    df=pd.read_excel(path)\n",
    "    print(\"**************************\")\n",
    "    print(df.columns)\n",
    "    print(\"**************************\")\n",
    "    print(df.shape)\n",
    "    print(\"**************************\")\n",
    "    print(df.dtypes)\n",
    "    print(\"**************************\")\n",
    "    print(df.describe)\n",
    "    print(\"**************************\")\n",
    "    print(df.isna().sum())\n",
    "    print(\"**************************\")\n",
    "    print(df.describe(include='object'))\n",
    "analysis(path)"
   ]
  },
  {
   "cell_type": "code",
   "execution_count": 95,
   "id": "620fb8a7-d4ed-45aa-9bb3-7e2188f57b4a",
   "metadata": {},
   "outputs": [
    {
     "name": "stdout",
     "output_type": "stream",
     "text": [
      " Item: Laptops and Quantity: 5\n",
      " Item: Laptops and Quantity: 30\n"
     ]
    }
   ],
   "source": [
    "# Retail \n",
    "\n",
    "# # Positional Arguments\n",
    "\n",
    "# def order(item,quantity):\n",
    "#     print(f\" Item: {item} and Quantity: {quantity}\")\n",
    "\n",
    "# order(\"Mobiles\",20)\n",
    "# # order(-10,20) \n",
    "\n",
    "# # Keyword Arguments\n",
    "\n",
    "# def order(item,quantity):\n",
    "#     print(f\" Item: {item} and Quantity: {quantity}\")\n",
    "\n",
    "# order(quantity=5,item=\"Laptops\")\n",
    "\n",
    "\n",
    "\n",
    "# Default Arguments\n",
    "\n",
    "# We don't have to pass the values while function calling.\n",
    "# if we pass the values which are different to defualt values, the values get overwrite during function calling.\n",
    "\n",
    "\n",
    "# def order(item,quantity=5): \n",
    "#     print(f\" Item: {item} and Quantity: {quantity}\")\n",
    "\n",
    "# order(\"Laptops\")\n",
    "\n",
    "# order(\"Laptops\",30)  # Overwrite "
   ]
  },
  {
   "cell_type": "code",
   "execution_count": 115,
   "id": "879a6055-cf58-4e69-a17e-de220c06b261",
   "metadata": {},
   "outputs": [
    {
     "name": "stdout",
     "output_type": "stream",
     "text": [
      "0\n"
     ]
    }
   ],
   "source": [
    "# Arguments\n",
    "\n",
    "# *args: Dynamically defining the number of arguments: we don't know how many parameters migth require.\n",
    "\n",
    "def order(*args):\n",
    "    print(args[-2])   # Print(args) or return args: Both gives the arguments in tuple.\n",
    "    # return args     # args[-2]: Negative Indexing since tuple supports it.\n",
    "\n",
    "order(10,\"Data\",complex(45,23),True,0,False)\n"
   ]
  },
  {
   "cell_type": "code",
   "execution_count": 167,
   "id": "dfd8c68a-b534-41b5-a9ac-7c944ea62c4b",
   "metadata": {},
   "outputs": [
    {
     "data": {
      "text/plain": [
       "2.829e-06"
      ]
     },
     "execution_count": 167,
     "metadata": {},
     "output_type": "execute_result"
    }
   ],
   "source": [
    "# Basic Mathematical operations\n",
    "\n",
    "# Summation of Numbers\n",
    "\n",
    "# def add_numbers(*args):\n",
    "#     return sum(args)\n",
    "\n",
    "# add_numbers(10,20,45,15)\n",
    "\n",
    "# add_numbers(5,5)\n",
    "\n",
    "# Finding the largest number/ maximum value\n",
    "\n",
    "# def find_max(*args):\n",
    "#     return max(args)\n",
    "\n",
    "# find_max(-0.92,0.66,0.0333,-0.12,-0.00123)\n",
    "\n",
    "# find_max(100,41,23,12,20,0,-3003,1256,0.0231)\n",
    "\n",
    "\n",
    "# Find the maximum of 3 numbers\n",
    "\n",
    "# def find_max(*args):\n",
    "#     return max(args)\n",
    "\n",
    "# find_max(10,25,100)\n",
    "\n",
    "# # or \n",
    "\n",
    "# def max_num(x,y,z):\n",
    "#     return max(x,y,z)\n",
    "\n",
    "# max_num(-1.2,0.1,0.0123)\n",
    "\n",
    "\n",
    "# Multiplication\n",
    "\n",
    "def multiple(*args):\n",
    "    result=1\n",
    "    for i in args:\n",
    "        result=result*i\n",
    "    return result\n",
    "\n",
    "# multiple(2,4,6)\n",
    "# multiple(2,4,complex(2,5))\n",
    "# multiple(1,0.123,0.000023)\n",
    "\n",
    "# multiple(\"Data\",3)"
   ]
  },
  {
   "cell_type": "code",
   "execution_count": 147,
   "id": "2d91d9ff-f8bc-4bec-ab43-a6987a3158ad",
   "metadata": {},
   "outputs": [
    {
     "name": "stdout",
     "output_type": "stream",
     "text": [
      "Hello, Abhishek Shetty!\n",
      "Hello, Nikil Rao!\n",
      "Hello, Nagesh Hebbur!\n"
     ]
    }
   ],
   "source": [
    "# Usage of Loops\n",
    "\n",
    "def greet(*args):\n",
    "    for name in args:\n",
    "        print(f\"Hello, {name}!\")   # Indexing: It applies to all the values. \n",
    "\n",
    "greet(\"Abhishek Shetty\",\"Nikil Rao\",\"Nagesh Hebbur\")\n",
    "# greet(10,20,30)"
   ]
  },
  {
   "cell_type": "markdown",
   "id": "23e9696a-45c5-4b99-a94d-6c429b20df82",
   "metadata": {},
   "source": [
    "# Day 22 Functions Class 02"
   ]
  },
  {
   "cell_type": "markdown",
   "id": "0463a471-dae3-48c5-b5c0-ad6d3e3daa83",
   "metadata": {},
   "source": [
    "# **kwargs: keyword agruments "
   ]
  },
  {
   "cell_type": "code",
   "execution_count": null,
   "id": "7e23001b-8951-4c5c-8ca0-de7760999f46",
   "metadata": {},
   "outputs": [],
   "source": [
    "# kwargs: \n",
    "# It comes in the form of dictionary form"
   ]
  },
  {
   "cell_type": "code",
   "execution_count": 5,
   "id": "b9dcba7f-2bbc-4558-9c37-0273bc508ded",
   "metadata": {},
   "outputs": [
    {
     "name": "stdout",
     "output_type": "stream",
     "text": [
      "order details: 2\n"
     ]
    }
   ],
   "source": [
    "def order_details(**kwargs):\n",
    "    print(f\"order details: {kwargs}\")   #kwargs['Price']\n",
    "\n",
    "# order_details(\"Item\"=\"Laptop\",\"Price\"=50000,\"Quantity\"=2) : SyntaxError: expression cannot contain assignment, perhaps you meant \"==\"?\n",
    "\n",
    "order_details(Item=\"Laptop\",Price=50000,Quantity=2)"
   ]
  },
  {
   "cell_type": "code",
   "execution_count": 15,
   "id": "b21fcd41-939d-41e3-a589-06ea7f679d5d",
   "metadata": {},
   "outputs": [
    {
     "name": "stdout",
     "output_type": "stream",
     "text": [
      "Name=Abhishek Shetty\n",
      "Designation=Senior DE\n",
      "Salary=30LPA\n"
     ]
    }
   ],
   "source": [
    "def greet(**kwargs):\n",
    "    for key,value in kwargs.items():\n",
    "        print(f\"{key}={value}\")\n",
    "\n",
    "\n",
    "greet(Name='Abhishek Shetty',Designation='Senior DE',Salary='30LPA')\n",
    "        "
   ]
  },
  {
   "cell_type": "code",
   "execution_count": 23,
   "id": "dd9dfe03-ac6c-4f3d-9ebf-17d8dbfc37a5",
   "metadata": {},
   "outputs": [
    {
     "name": "stdout",
     "output_type": "stream",
     "text": [
      "Name: Abhishek Shetty\n",
      "Age:  25\n",
      "Job:  Senior DE\n"
     ]
    }
   ],
   "source": [
    "def introduce(Name,**kwargs):\n",
    "    print(f\"Name: {Name}\")\n",
    "    if 'Age' in kwargs:\n",
    "        print(\"Age: \",kwargs['Age'])\n",
    "    if 'Job' in kwargs:\n",
    "        print(\"Job: \",kwargs['Job'])\n",
    "\n",
    "introduce('Abhishek Shetty',Age=25,Job='Senior DE')"
   ]
  },
  {
   "cell_type": "code",
   "execution_count": null,
   "id": "78591ed9-b21d-4783-8dc5-8cea53ef7c9e",
   "metadata": {},
   "outputs": [],
   "source": []
  },
  {
   "cell_type": "code",
   "execution_count": null,
   "id": "b87655e6-e7f3-4f2b-838a-48d33cd8e071",
   "metadata": {},
   "outputs": [],
   "source": []
  },
  {
   "cell_type": "code",
   "execution_count": null,
   "id": "ad175643-287e-466e-8ca6-73538446d37b",
   "metadata": {},
   "outputs": [],
   "source": []
  },
  {
   "cell_type": "code",
   "execution_count": null,
   "id": "6b2b7ee3-9252-4b19-a961-2b1d909110ce",
   "metadata": {},
   "outputs": [],
   "source": []
  },
  {
   "cell_type": "code",
   "execution_count": null,
   "id": "34d676f5-2867-4d12-ac54-9e076f9fa542",
   "metadata": {},
   "outputs": [],
   "source": []
  },
  {
   "cell_type": "code",
   "execution_count": null,
   "id": "b1aa2d75-236b-49ea-91ed-e830d57010ed",
   "metadata": {},
   "outputs": [],
   "source": []
  }
 ],
 "metadata": {
  "kernelspec": {
   "display_name": "Python 3 (ipykernel)",
   "language": "python",
   "name": "python3"
  },
  "language_info": {
   "codemirror_mode": {
    "name": "ipython",
    "version": 3
   },
   "file_extension": ".py",
   "mimetype": "text/x-python",
   "name": "python",
   "nbconvert_exporter": "python",
   "pygments_lexer": "ipython3",
   "version": "3.12.4"
  }
 },
 "nbformat": 4,
 "nbformat_minor": 5
}
