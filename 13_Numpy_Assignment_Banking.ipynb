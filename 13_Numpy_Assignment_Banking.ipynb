{
 "cells": [
  {
   "cell_type": "markdown",
   "id": "6e58a5f3-4875-4535-bbb6-51a298dd8668",
   "metadata": {},
   "source": [
    "Array Creation and Manipulation"
   ]
  },
  {
   "cell_type": "code",
   "execution_count": 115,
   "id": "185d8267-8d47-46ec-b735-028ea5ecaa46",
   "metadata": {},
   "outputs": [],
   "source": [
    "#Question 1: Create a 4x4 identity matrix using np.eye()\n",
    "\n",
    "# Identity matrices:\n",
    "# For matrices, the n X n identity matrix is the matrix that has\n",
    "# 1's on the main diagonal and O's elsewhere.\n",
    "\n",
    "# import numpy as np\n",
    "\n",
    "# np.eye(4,k=0)        # K=0: Main Diagonal,k=1(Incremental) and k=-1(decremental) are upper D and lower D respectively.\n",
    "\n",
    "\n",
    "# import numpy as np\n",
    "\n",
    "# np.eye(6,k=5)\n"
   ]
  },
  {
   "cell_type": "code",
   "execution_count": 172,
   "id": "5d7c9669-8fa7-4623-9178-548c93ae7848",
   "metadata": {},
   "outputs": [
    {
     "data": {
      "text/plain": [
       "array([[(0,), (0,), (0,), (0,), (0,)],\n",
       "       [(0,), (0,), (0,), (0,), (0,)],\n",
       "       [(0,), (0,), (0,), (0,), (0,)],\n",
       "       [(0,), (0,), (0,), (0,), (0,)],\n",
       "       [(0,), (0,), (0,), (0,), (0,)],\n",
       "       [(0,), (0,), (0,), (0,), (0,)],\n",
       "       [(0,), (0,), (0,), (0,), (0,)],\n",
       "       [(0,), (0,), (0,), (0,), (0,)],\n",
       "       [(0,), (0,), (0,), (0,), (0,)],\n",
       "       [(0,), (0,), (0,), (0,), (0,)]], dtype=[('a', 'i1')])"
      ]
     },
     "execution_count": 172,
     "metadata": {},
     "output_type": "execute_result"
    }
   ],
   "source": [
    "#Question 2: Create an array of 8 zeros using np.zeros()\n",
    "\n",
    "# import numpy as np\n",
    "\n",
    "# np.zeros((8,),dtype=int)  #Shape: 8 or (8,)\n",
    "\n",
    "# import numpy as np \n",
    "\n",
    "# np.zeros((2,2))\n",
    "\n",
    "# import numpy as np \n",
    "\n",
    "# np.zeros((10,5),dtype=[('a','b')])  #Custom Datatype"
   ]
  },
  {
   "cell_type": "code",
   "execution_count": 182,
   "id": "52fd040c-eafc-445f-920a-b92c675a7061",
   "metadata": {},
   "outputs": [
    {
     "data": {
      "text/plain": [
       "array([[1, 1, 1],\n",
       "       [1, 1, 1],\n",
       "       [1, 1, 1],\n",
       "       [1, 1, 1],\n",
       "       [1, 1, 1]])"
      ]
     },
     "execution_count": 182,
     "metadata": {},
     "output_type": "execute_result"
    }
   ],
   "source": [
    "#Question 3: Create an array of 6 ones using np.ones()\n",
    "\n",
    "# import numpy as np \n",
    "\n",
    "# np.ones((6,),dtype=int) \n",
    "\n",
    "# import numpy as np\n",
    "\n",
    "# a=(5,3)\n",
    "\n",
    "# np.ones(a,dtype=int)"
   ]
  },
  {
   "cell_type": "code",
   "execution_count": 200,
   "id": "a35c1abd-39f7-4b15-b502-aaeabc1ec09c",
   "metadata": {},
   "outputs": [],
   "source": [
    "#Question 4: Create an array with values from 0 to 15 using np.arange()\n",
    "\n",
    "# import numpy as np\n",
    "\n",
    "# np.arange(16)\n",
    "\n",
    "# import numpy as np\n",
    "\n",
    "# np.arange(5,101,5)\n",
    "\n",
    "\n",
    "#Step as float\n",
    "\n",
    "# import numpy as np\n",
    "\n",
    "# np.arange(1,10.25,0.25)"
   ]
  },
  {
   "cell_type": "code",
   "execution_count": 228,
   "id": "5a6d9018-d6b0-4919-a189-544f15f1fec9",
   "metadata": {},
   "outputs": [
    {
     "name": "stdout",
     "output_type": "stream",
     "text": [
      "[  0.          14.28571429  28.57142857  42.85714286  57.14285714\n",
      "  71.42857143  85.71428571 100.        ]\n",
      "[ 0.  12.5 25.  37.5 50.  62.5 75.  87.5]\n"
     ]
    }
   ],
   "source": [
    "#Question 5: Create an array with 8 evenly spaced values from 0 to 100 using np.linspace()\n",
    "\n",
    "\n",
    "# import numpy as np \n",
    "\n",
    "# arr1=np.linspace(0,100,num=8)  #Here endpoint By default=True\n",
    "\n",
    "# print(arr1)\n",
    "\n",
    "\n",
    "# import numpy as np \n",
    "\n",
    "# arr1=np.linspace(0,100,num=8,endpoint=True)\n",
    "\n",
    "# print(arr1)\n",
    "\n",
    "\n",
    "# import numpy as np \n",
    "\n",
    "# arr2=np.linspace(0,100,num=8,endpoint=False)\n",
    "\n",
    "# print(arr2)"
   ]
  },
  {
   "cell_type": "markdown",
   "id": "2dc743f8-3f28-4c4d-892f-4a074ad196f3",
   "metadata": {},
   "source": [
    "Array Attributes and Information"
   ]
  },
  {
   "cell_type": "code",
   "execution_count": 272,
   "id": "dbf59dce-d03d-4133-b8e0-459de9d5bcd5",
   "metadata": {},
   "outputs": [
    {
     "name": "stdout",
     "output_type": "stream",
     "text": [
      "The Shape of the 3-D ndarray is: (2, 2, 2)\n"
     ]
    }
   ],
   "source": [
    "#Question 6: What is the shape of the banking_data array?\n",
    "\n",
    "#The attributes of the ndarray banking_data:\n",
    "\n",
    "# Customer ID\n",
    "# Account Balance ($)\n",
    "# Credit Score (300-900 range)\n",
    "# Transaction Count (monthly)\n",
    "# Years Active (customer tenure)\n",
    "\n",
    "# import numpy as np\n",
    "\n",
    "# arr=[[1,586,659,12,3],    #Nested List\n",
    "# [2,3777,328,43,4],\n",
    "# [3,1866,760,9,3],\n",
    "# [4,9730,711,49,25],\n",
    "# [5,4193,534,31,2],\n",
    "# [6,3388,762,32,19],\n",
    "# [7,8444,814,39,10],\n",
    "# [8,9992,364,12,11],\n",
    "# [9,3048,832,9,21],\n",
    "# [10,2295,521,15,21]]\n",
    "\n",
    "# banking_data= np.array(arr)  #Converting nested list to ndarray\n",
    "\n",
    "# print(banking_data,\"\\n\")  \n",
    "\n",
    "# print(\"The shape of the banking_data:\",banking_data.shape) #Its a 2-D ndarray\n",
    "\n",
    "\n",
    "#3-D ndarray\n",
    "\n",
    "# import numpy as np\n",
    "\n",
    "# arr=np.array([[[1,2],[3,4]],[[5,6],[7,8]]])\n",
    "\n",
    "# print(\"The Shape of the 3-D ndarray is:\",arr.shape)\n"
   ]
  },
  {
   "cell_type": "code",
   "execution_count": 326,
   "id": "2fd24837-5bca-4a4c-bfc8-4ddf84d34e47",
   "metadata": {},
   "outputs": [
    {
     "name": "stdout",
     "output_type": "stream",
     "text": [
      "The ndarray: [1 2 3 4]\n",
      "The datatype of the ndarray arr: int32\n"
     ]
    }
   ],
   "source": [
    "#Question 7: What is the data type of the banking_data array?\n",
    "\n",
    "# print(\"The datatype of the banking_data is:\",banking_data.dtype)\n",
    "\n",
    "\n",
    "\n",
    "#Unicode Strings\n",
    "\n",
    "# import numpy as np\n",
    "\n",
    "# arr=np.array([\"Tony\",\"Charles\",\"Dustin\",\"Justin\"])\n",
    "\n",
    "# print(\"The datatype of the ndarray containing the string literals:\",arr.dtype)\n",
    "\n",
    "#Another method\n",
    "\n",
    "#By using Array function\n",
    "\n",
    "# import numpy as np\n",
    "\n",
    "# arr = np.array([1, 2, 3, 4], dtype='i4')  \n",
    "\n",
    "# 32-bit integer datatype ('i4')\n",
    "# 64-bit integers ('i8')\n",
    "# 32-bit floating-point ('f4')\n",
    "\n",
    "\n",
    "# print(\"The ndarray:\",arr)\n",
    "\n",
    "# print(\"The datatype of the ndarray arr:\",arr.dtype)"
   ]
  },
  {
   "cell_type": "code",
   "execution_count": 292,
   "id": "cd75f74a-d260-4a1d-890d-c65a214048e4",
   "metadata": {},
   "outputs": [
    {
     "name": "stdout",
     "output_type": "stream",
     "text": [
      "Size of the Array:  50\n"
     ]
    }
   ],
   "source": [
    "#Question 8: What is the size (total number of elements) of the banking_data array?\n",
    "\n",
    "#Size of the Ndarray: This attribute gives the number of the elements present in the Numpy array.\n",
    "\n",
    "# import numpy as np\n",
    "\n",
    "# x=np.array(banking_data)\n",
    "\n",
    "# print(\"Size of the Array: \",x.size)"
   ]
  },
  {
   "cell_type": "code",
   "execution_count": 282,
   "id": "19642351-19a4-4e1c-8397-b6ecda2ded58",
   "metadata": {},
   "outputs": [
    {
     "name": "stdout",
     "output_type": "stream",
     "text": [
      "[[[[[[ 2  4  6  8 10]]]]]]\n",
      "(1, 1, 1, 1, 1, 5)\n"
     ]
    }
   ],
   "source": [
    "#Question 9: What is the number of dimensions of the banking_data array?\n",
    "\n",
    "# print(\"The Number of dimensions of the banking_data:\",banking_data.ndim)\n",
    "\n",
    "#By using ndim: We can specify the number of dimensions while creating the ndarray.\n",
    "\n",
    "# import numpy as npy\n",
    "\n",
    "# arr = npy.array([2, 4, 6, 8, 10], ndmin=6)  #Creating an array of 6 dimension using ndim\n",
    "\n",
    "# print(arr)\n",
    "\n",
    "# print(arr.shape)\n"
   ]
  },
  {
   "cell_type": "code",
   "execution_count": 258,
   "id": "f3087453-ac2d-48ab-8fa9-36d7ab3a6fda",
   "metadata": {},
   "outputs": [
    {
     "name": "stdout",
     "output_type": "stream",
     "text": [
      "The total bytes consumed by the banking_data:  400\n"
     ]
    }
   ],
   "source": [
    "#Question 10: What is the memory size of the banking_data array in bytes?\n",
    "\n",
    "#Size: This attribute gives the number of the elements present in the Numpy array.\n",
    "\n",
    "# import numpy as np\n",
    "\n",
    "# x=np.array(banking_data)\n",
    "\n",
    "# print(\"Size of the Array: \",x.size)\n",
    "\n",
    "# print(\"Memory size of one array element in bytes: \",x.itemsize)\n",
    "\n",
    "#Itemsize: This attribute gives the memory size of numpy array in bytes\n",
    "\n",
    "# print(\"Memory size of numpy array in bytes:\",x.size * x.itemsize)   # Memory= Size * Itemsize = 50*8 = 400\n",
    "\n",
    "#Another Method\n",
    "\n",
    "#nbytes: This attribute gives the total bytes consumed by the elements of the NumPy array.\n",
    "\n",
    "# print(\"The total bytes consumed by the banking_data: \",x.nbytes)"
   ]
  },
  {
   "cell_type": "markdown",
   "id": "7e25c3f1-17e2-4f7a-be78-f0cc788824c9",
   "metadata": {},
   "source": [
    "Indexing and Slicing"
   ]
  },
  {
   "cell_type": "code",
   "execution_count": 380,
   "id": "8dfa7158-9f41-401e-84eb-6d199a5a7e6d",
   "metadata": {},
   "outputs": [
    {
     "name": "stdout",
     "output_type": "stream",
     "text": [
      "[[   1  586  659   12    3]\n",
      " [   2 3777  328   43    4]\n",
      " [   3 1866  760    9    3]\n",
      " [   4 9730  711   49   25]\n",
      " [   5 4193  534   31    2]\n",
      " [   6 3388  762   32   19]\n",
      " [   7 8444  814   39   10]\n",
      " [   8 9992  364   12   11]\n",
      " [   9 3048  832    9   21]\n",
      " [  10 2295  521   15   21]] \n",
      "\n",
      "The first row of banking_data: [[  1 586 659  12   3]]\n"
     ]
    }
   ],
   "source": [
    "#Question 11: Extract the first row of banking_data\n",
    "\n",
    "#The attributes of the ndarray banking_data:\n",
    "\n",
    "# Customer ID\n",
    "# Account Balance ($)\n",
    "# Credit Score (300-900 range)\n",
    "# Transaction Count (monthly)\n",
    "# Years Active (customer tenure)\n",
    "\n",
    "import numpy as np\n",
    "\n",
    "arr=[[1,586,659,12,3],    #Nested List\n",
    "[2,3777,328,43,4],\n",
    "[3,1866,760,9,3],\n",
    "[4,9730,711,49,25],\n",
    "[5,4193,534,31,2],\n",
    "[6,3388,762,32,19],\n",
    "[7,8444,814,39,10],\n",
    "[8,9992,364,12,11],\n",
    "[9,3048,832,9,21],\n",
    "[10,2295,521,15,21]]\n",
    "\n",
    "banking_data= np.array(arr)  #Converting nested list to ndarray\n",
    "\n",
    "print(banking_data,\"\\n\") \n",
    "\n",
    "# print(\"The first row of banking_data:\",banking_data[0:1,0:])"
   ]
  },
  {
   "cell_type": "code",
   "execution_count": 384,
   "id": "6202d1f4-6d46-42d0-b0bc-1e934873ea7b",
   "metadata": {},
   "outputs": [
    {
     "name": "stdout",
     "output_type": "stream",
     "text": [
      "The last row of banking_data: [[  10 2295  521   15   21]]\n"
     ]
    }
   ],
   "source": [
    "#Question 12: Extract the last row of banking_data\n",
    "\n",
    "# print(\"The last row of banking_data:\",banking_data[9:10,0:])"
   ]
  },
  {
   "cell_type": "code",
   "execution_count": 402,
   "id": "d0d781ce-cd45-4cdb-9d14-851c4edd0c89",
   "metadata": {},
   "outputs": [
    {
     "name": "stdout",
     "output_type": "stream",
     "text": [
      "The Account_Balance column of the banking_data: [[ 586]\n",
      " [3777]\n",
      " [1866]\n",
      " [9730]\n",
      " [4193]\n",
      " [3388]\n",
      " [8444]\n",
      " [9992]\n",
      " [3048]\n",
      " [2295]]\n"
     ]
    }
   ],
   "source": [
    "#Question 13: Extract the Account_Balance column (column index 1)\n",
    "\n",
    "# print(\"The Account_Balance column of the banking_data:\",banking_data[0:,1:2])"
   ]
  },
  {
   "cell_type": "code",
   "execution_count": 406,
   "id": "731266e1-b011-4af2-8f58-5bed22aec420",
   "metadata": {},
   "outputs": [
    {
     "name": "stdout",
     "output_type": "stream",
     "text": [
      "The first 4 rows and first 3 columns of the banking_data: [[   1  586  659]\n",
      " [   2 3777  328]\n",
      " [   3 1866  760]\n",
      " [   4 9730  711]]\n"
     ]
    }
   ],
   "source": [
    "#Question 14: Extract the first 4 rows and first 3 columns\n",
    "\n",
    "# print(\"The first 4 rows and first 3 columns of the banking_data:\",banking_data[0:4,0:3])"
   ]
  },
  {
   "cell_type": "code",
   "execution_count": 412,
   "id": "ae817950-4882-481c-93f6-74280ac14e86",
   "metadata": {},
   "outputs": [
    {
     "name": "stdout",
     "output_type": "stream",
     "text": [
      "The rows 3 to 7 (inclusive) of the banking_data: [[   3 1866  760    9    3]\n",
      " [   4 9730  711   49   25]\n",
      " [   5 4193  534   31    2]\n",
      " [   6 3388  762   32   19]\n",
      " [   7 8444  814   39   10]]\n"
     ]
    }
   ],
   "source": [
    "#Question 15: Extract rows 3 to 7 (inclusive)\n",
    "\n",
    "# print(\"The rows 3 to 7 (inclusive) of the banking_data:\",banking_data[2:7,0:])"
   ]
  },
  {
   "cell_type": "markdown",
   "id": "b94e821a-9fa3-44d6-83d4-7f77c70d1a98",
   "metadata": {},
   "source": [
    "Mathematical Operations"
   ]
  },
  {
   "cell_type": "code",
   "execution_count": 370,
   "id": "65f5eba0-ddc5-4666-b913-9d6f428ac51b",
   "metadata": {},
   "outputs": [
    {
     "data": {
      "text/plain": [
       "array([1, 5])"
      ]
     },
     "execution_count": 370,
     "metadata": {},
     "output_type": "execute_result"
    }
   ],
   "source": [
    "#Question 16: Calculate the sum of all account balances\n",
    "\n",
    "#The attributes of the ndarray banking_data:\n",
    "\n",
    "# Customer ID\n",
    "# Account Balance ($)\n",
    "# Credit Score (300-900 range)\n",
    "# Transaction Count (monthly)\n",
    "# Years Active (customer tenure)\n",
    "\n",
    "# import numpy as np\n",
    "\n",
    "# arr=[[1,586,659,12,3],    #Nested List\n",
    "# [2,3777,328,43,4],\n",
    "# [3,1866,760,9,3],\n",
    "# [4,9730,711,49,25],\n",
    "# [5,4193,534,31,2],\n",
    "# [6,3388,762,32,19],\n",
    "# [7,8444,814,39,10],\n",
    "# [8,9992,364,12,11],\n",
    "# [9,3048,832,9,21],\n",
    "# [10,2295,521,15,21]]\n",
    "\n",
    "# banking_data= np.array(arr)  #Converting nested list to ndarray\n",
    "\n",
    "# print(banking_data,\"\\n\")  \n",
    "\n",
    "\n",
    "# print(f\"The Sum of the all account balances: {sum(banking_data[0:,1:2])}\")\n",
    "\n",
    "\n",
    "\n",
    "# import numpy as np\n",
    "\n",
    "# np.sum([[0,1],[0,5]])\n",
    "\n",
    "# np.sum([[0,1],[0,5]],axis=0)  #-0: it also works\n",
    "\n",
    "# np.sum([[0,1],[0,5]],axis=-1)  #1"
   ]
  },
  {
   "cell_type": "code",
   "execution_count": 310,
   "id": "c565cf55-3253-43a6-be87-197ee1de48c2",
   "metadata": {},
   "outputs": [
    {
     "name": "stdout",
     "output_type": "stream",
     "text": [
      "The mean account balance: 1080.58\n"
     ]
    }
   ],
   "source": [
    "#Question 17: Calculate the mean account balance\n",
    "\n",
    "print(f\"The mean account balance: {banking_data.mean()}\")"
   ]
  },
  {
   "cell_type": "code",
   "execution_count": 316,
   "id": "424b3909-8758-4849-a97c-71f3b099b31f",
   "metadata": {},
   "outputs": [
    {
     "name": "stdout",
     "output_type": "stream",
     "text": [
      "The standard deviation of account balances: 2338.376069754393\n"
     ]
    }
   ],
   "source": [
    "#Question 18: Calculate the standard deviation of account balances\n",
    "\n",
    "print(f\"The standard deviation of account balances: {banking_data.std()}\")"
   ]
  },
  {
   "cell_type": "code",
   "execution_count": 318,
   "id": "6c053bc0-32fb-4c22-a7ed-42e1c7258bfd",
   "metadata": {},
   "outputs": [
    {
     "name": "stdout",
     "output_type": "stream",
     "text": [
      "The variance of account balances: 5468002.643600001\n"
     ]
    }
   ],
   "source": [
    "#Question 19: Calculate the variance of account balances\n",
    "\n",
    "print(f\"The variance of account balances: {banking_data.var()}\")"
   ]
  },
  {
   "cell_type": "code",
   "execution_count": 324,
   "id": "d39ddb2e-5a78-43ba-8bac-5ce5c2beaf6a",
   "metadata": {},
   "outputs": [],
   "source": [
    "#Question 20: Calculate the median account balance\n",
    "\n",
    "# print(f\"The median account balance: {banking_data.median}\")"
   ]
  },
  {
   "cell_type": "markdown",
   "id": "ba140256-6dac-4b32-bb99-d4a63ad28f63",
   "metadata": {},
   "source": [
    "Statistical Functions"
   ]
  },
  {
   "cell_type": "code",
   "execution_count": 454,
   "id": "ccbf6dc1-d039-45a9-a7f5-fb03060c98f6",
   "metadata": {},
   "outputs": [
    {
     "name": "stdout",
     "output_type": "stream",
     "text": [
      "3\n"
     ]
    }
   ],
   "source": [
    "#Question 21: Find the minimum and maximum account balances\n",
    "\n",
    "#The attributes of the ndarray banking_data:\n",
    "\n",
    "# Customer ID\n",
    "# Account Balance ($)\n",
    "# Credit Score (300-900 range)\n",
    "# Transaction Count (monthly)\n",
    "# Years Active (customer tenure)\n",
    "\n",
    "# import numpy as np\n",
    "\n",
    "# arr=[[1,586,659,12,3],    #Nested List\n",
    "# [2,3777,328,43,4],\n",
    "# [3,1866,760,9,3],\n",
    "# [4,9730,711,49,25],\n",
    "# [5,4193,534,31,2],\n",
    "# [6,3388,762,32,19],\n",
    "# [7,8444,814,39,10],\n",
    "# [8,9992,364,12,11],\n",
    "# [9,3048,832,9,21],\n",
    "# [10,2295,521,15,21]]\n",
    "\n",
    "# banking_data= np.array(arr)  #Converting nested list to ndarray\n",
    "\n",
    "# print(banking_data,\"\\n\")\n",
    "\n",
    "x=banking_data[0:11,1:11]\n",
    "\n",
    "print(np.min(x))\n",
    "\n",
    "# print(f\"The minimum account balance: {np.min(banking_data[:,0:2])}\")\n",
    "\n",
    "# print(f\"The maximum account balance: {np.max(banking_data[:,0:2])}\")"
   ]
  },
  {
   "cell_type": "code",
   "execution_count": 456,
   "id": "b4d77b4b-7ab0-4df8-b583-af78a7ef0c14",
   "metadata": {},
   "outputs": [],
   "source": [
    "#Question 22: Find the minimum and maximum credit scores\n",
    "\n",
    "# print(f\"The minimum credit scores: {np.min(banking_data[:,2:3]}\")\n",
    "\n",
    "# print(f\"The maximum credit scores: {np.min(banking_data[:,2:3]}\")"
   ]
  },
  {
   "cell_type": "code",
   "execution_count": null,
   "id": "e1803f53-d88e-4d1a-9e17-ab20e6a93f78",
   "metadata": {},
   "outputs": [],
   "source": [
    "#Question 23: Calculate the percentile values for account balances (25th, 50th, 75th)"
   ]
  },
  {
   "cell_type": "code",
   "execution_count": null,
   "id": "35405496-43e2-406b-af11-76b1f36f9246",
   "metadata": {},
   "outputs": [],
   "source": [
    "#Question 24: Calculate the correlation between account balance and credit score"
   ]
  },
  {
   "cell_type": "code",
   "execution_count": null,
   "id": "71035209-215b-4fbe-9923-12663b50fec2",
   "metadata": {},
   "outputs": [],
   "source": [
    "#Question 25: Calculate the covariance between account balance and credit score"
   ]
  },
  {
   "cell_type": "markdown",
   "id": "fb428802-e07c-49d6-975e-f4caf756906e",
   "metadata": {},
   "source": [
    "Array Reshaping and Manipulation"
   ]
  },
  {
   "cell_type": "code",
   "execution_count": 13,
   "id": "e896e422-f5cb-4dca-9784-83456101f2e0",
   "metadata": {},
   "outputs": [
    {
     "name": "stdout",
     "output_type": "stream",
     "text": [
      "[[   1  586  659   12    3    2 3777  328   43    4]\n",
      " [   3 1866  760    9    3    4 9730  711   49   25]\n",
      " [   5 4193  534   31    2    6 3388  762   32   19]\n",
      " [   7 8444  814   39   10    8 9992  364   12   11]\n",
      " [   9 3048  832    9   21   10 2295  521   15   21]]\n"
     ]
    }
   ],
   "source": [
    "#Question 26: Reshape the banking_data to 5 rows × 10 columns\n",
    "\n",
    "#The attributes of the ndarray banking_data:\n",
    "\n",
    "# Customer ID\n",
    "# Account Balance ($)\n",
    "# Credit Score (300-900 range)\n",
    "# Transaction Count (monthly)\n",
    "# Years Active (customer tenure)\n",
    "\n",
    "import numpy as np\n",
    "\n",
    "arr=[[1,586,659,12,3],    #Nested List\n",
    "[2,3777,328,43,4],\n",
    "[3,1866,760,9,3],\n",
    "[4,9730,711,49,25],\n",
    "[5,4193,534,31,2],\n",
    "[6,3388,762,32,19],\n",
    "[7,8444,814,39,10],\n",
    "[8,9992,364,12,11],\n",
    "[9,3048,832,9,21],\n",
    "[10,2295,521,15,21]]\n",
    "\n",
    "banking_data= np.array(arr)  #Converting nested list to ndarray\n",
    "\n",
    "# print(banking_data,\"\\n\")\n",
    "\n",
    "a=banking_data.reshape((5,10))\n",
    "\n",
    "print(a)"
   ]
  },
  {
   "cell_type": "code",
   "execution_count": 19,
   "id": "23adacf3-d985-47f8-96ce-3ea66161a346",
   "metadata": {},
   "outputs": [
    {
     "name": "stdout",
     "output_type": "stream",
     "text": [
      "[   1  586  659   12    3    2 3777  328   43    4    3 1866  760    9\n",
      "    3    4 9730  711   49   25    5 4193  534   31    2    6 3388  762\n",
      "   32   19    7 8444  814   39   10    8 9992  364   12   11    9 3048\n",
      "  832    9   21   10 2295  521   15   21]\n"
     ]
    }
   ],
   "source": [
    "#Question 27: Flatten the banking_data to a 1D array\n",
    "\n",
    "print(banking_data.ravel())"
   ]
  },
  {
   "cell_type": "code",
   "execution_count": 556,
   "id": "5d76f199-f1b9-4e92-aa76-235da3a17e81",
   "metadata": {},
   "outputs": [
    {
     "name": "stdout",
     "output_type": "stream",
     "text": [
      "The transpose of banking_data ndarray:  [[   1    2    3    4    2    6    7    8    9   10]\n",
      " [   3    4    3   25    5   19   10   11    9   15]\n",
      " [  12   43    9   49   31   32   39   12   21   21]\n",
      " [ 586  328  760  711  534  762  814  364  832  521]\n",
      " [ 659 3777 1866 9730 4193 3388 8444 9992 3048 2295]]\n"
     ]
    }
   ],
   "source": [
    "#Question 28: Transpose the banking_data\n",
    "\n",
    "# print(\"The transpose of banking_data ndarray: \",banking_data.T)"
   ]
  },
  {
   "cell_type": "code",
   "execution_count": 51,
   "id": "70c0892f-b333-409d-a605-3a4e3cbf3d2b",
   "metadata": {},
   "outputs": [
    {
     "name": "stdout",
     "output_type": "stream",
     "text": [
      "[array([[   1,  586,  659,   12,    3],\n",
      "       [   2, 3777,  328,   43,    4],\n",
      "       [   3, 1866,  760,    9,    3],\n",
      "       [   4, 9730,  711,   49,   25],\n",
      "       [   5, 4193,  534,   31,    2]]), array([[   6, 3388,  762,   32,   19],\n",
      "       [   7, 8444,  814,   39,   10],\n",
      "       [   8, 9992,  364,   12,   11],\n",
      "       [   9, 3048,  832,    9,   21],\n",
      "       [  10, 2295,  521,   15,   21]])]\n"
     ]
    }
   ],
   "source": [
    "#Question 29: Split the banking_data into 2 equal parts vertically\n",
    "\n",
    "# print(np.hsplit(banking_data,2))   #ValueError: array split does not result in an equal division \n",
    "                                    #Its not work with Split,hsplit,vsplit....\n",
    "\n",
    "\n",
    "print(np.array_split(banking_data,2,axis=0))\n"
   ]
  },
  {
   "cell_type": "code",
   "execution_count": 53,
   "id": "0984d221-3ab2-4db7-a2fd-103354f48b56",
   "metadata": {},
   "outputs": [
    {
     "name": "stdout",
     "output_type": "stream",
     "text": [
      "[array([[   1,  586,  659],\n",
      "       [   2, 3777,  328],\n",
      "       [   3, 1866,  760],\n",
      "       [   4, 9730,  711],\n",
      "       [   5, 4193,  534],\n",
      "       [   6, 3388,  762],\n",
      "       [   7, 8444,  814],\n",
      "       [   8, 9992,  364],\n",
      "       [   9, 3048,  832],\n",
      "       [  10, 2295,  521]]), array([[12,  3],\n",
      "       [43,  4],\n",
      "       [ 9,  3],\n",
      "       [49, 25],\n",
      "       [31,  2],\n",
      "       [32, 19],\n",
      "       [39, 10],\n",
      "       [12, 11],\n",
      "       [ 9, 21],\n",
      "       [15, 21]])]\n"
     ]
    }
   ],
   "source": [
    "#Question 30: Split the banking_data into 2 equal parts horizontally\n",
    "\n",
    "\n",
    "print(np.array_split(banking_data,2,axis=1))"
   ]
  },
  {
   "cell_type": "markdown",
   "id": "ff30303b-37ec-4ace-ab2d-a2b4b404b049",
   "metadata": {},
   "source": [
    "Logical Operations and Filtering"
   ]
  },
  {
   "cell_type": "code",
   "execution_count": 558,
   "id": "f2bc24c7-99db-492b-a607-280b522aa678",
   "metadata": {},
   "outputs": [
    {
     "name": "stdout",
     "output_type": "stream",
     "text": [
      "the customers with account balance greater than $100,000: [[False]\n",
      " [False]\n",
      " [False]\n",
      " [False]\n",
      " [False]\n",
      " [False]\n",
      " [False]\n",
      " [False]\n",
      " [False]\n",
      " [False]]\n"
     ]
    }
   ],
   "source": [
    "#Question 31: Find customers with account balance greater than $100,000\n",
    "\n",
    "print(\"the customers with account balance greater than $100,000:\",np.sort(banking_data[0:,1:2]>100000))"
   ]
  },
  {
   "cell_type": "code",
   "execution_count": null,
   "id": "aa10969f-19f3-4ad3-a943-33781e6a82a7",
   "metadata": {},
   "outputs": [],
   "source": [
    "#Question 32: Find customers with credit score greater than 800\n",
    "\n",
    "print(\"the customers with credit score greater than 800:\",np.sort(banking_data[0:,1:2]>100000))"
   ]
  },
  {
   "cell_type": "code",
   "execution_count": null,
   "id": "861291c8-80db-4380-b6e2-6d6ec78c15a6",
   "metadata": {},
   "outputs": [],
   "source": [
    "#Question 33: Find customers with transaction count greater than 50 AND credit score less than 750"
   ]
  },
  {
   "cell_type": "code",
   "execution_count": null,
   "id": "b479bdcd-fae8-486a-91e6-72716d4cce11",
   "metadata": {},
   "outputs": [],
   "source": [
    "#Question 34: Count how many customers have account balance between $10,000 and $100,000"
   ]
  },
  {
   "cell_type": "code",
   "execution_count": null,
   "id": "00e7d2d6-c6bb-4cc3-ade5-5870f115c5bb",
   "metadata": {},
   "outputs": [],
   "source": [
    "#Question 35: Find the index of the customer with the highest credit score"
   ]
  },
  {
   "cell_type": "markdown",
   "id": "c9a4ee67-675e-4df0-aba6-35813aee467c",
   "metadata": {},
   "source": [
    "Sorting and Searching"
   ]
  },
  {
   "cell_type": "code",
   "execution_count": 590,
   "id": "b107484b-850d-452c-b747-5db33ad10a83",
   "metadata": {},
   "outputs": [
    {
     "name": "stdout",
     "output_type": "stream",
     "text": [
      "the Sorting the banking_data by account balance (ascending): [ 3  3  4  5  9 10 11 15 19 25]\n"
     ]
    }
   ],
   "source": [
    "#Question 36: Sort the banking_data by account balance (ascending)\n",
    "\n",
    "#The attributes of the ndarray banking_data:\n",
    "\n",
    "# Customer ID\n",
    "# Account Balance ($)\n",
    "# Credit Score (300-900 range)\n",
    "# Transaction Count (monthly)\n",
    "# Years Active (customer tenure)\n",
    "\n",
    "# import numpy as np\n",
    "\n",
    "arr=[[1,586,659,12,3],    #Nested List\n",
    "    [2,3777,328,43,4],\n",
    "    [3,1866,760,9,3],\n",
    "    [4,9730,711,49,25],\n",
    "    [5,4193,534,31,2],\n",
    "    [6,3388,762,32,19],\n",
    "    [7,8444,814,39,10],\n",
    "    [8,9992,364,12,11],\n",
    "    [9,3048,832,9,21],\n",
    "    [10,2295,521,15,21]]\n",
    "\n",
    "# banking_data= np.array(arr)  #Converting nested list to ndarray\n",
    "\n",
    "# print(banking_data,\"\\n\")\n",
    "\n",
    "print(\"the Sorting the banking_data by account balance (ascending):\",np.sort(banking_data[0:,1]))"
   ]
  },
  {
   "cell_type": "code",
   "execution_count": 566,
   "id": "14e76e6b-51fc-4361-9f60-89a91258f8f4",
   "metadata": {},
   "outputs": [
    {
     "name": "stdout",
     "output_type": "stream",
     "text": [
      "the Sorting the banking_data by account balance (descending): [[12]\n",
      " [43]\n",
      " [ 9]\n",
      " [49]\n",
      " [31]\n",
      " [32]\n",
      " [39]\n",
      " [12]\n",
      " [21]\n",
      " [21]]\n"
     ]
    }
   ],
   "source": [
    "#Question 37: Sort the banking_data by credit score (descending)\n",
    "\n",
    "print(\"the Sorting the banking_data by account balance (descending):\",np.sort(banking_data[:,2:3]))"
   ]
  },
  {
   "cell_type": "code",
   "execution_count": null,
   "id": "59e3ff57-ab74-4e0c-9ffd-0a9011e8b5a1",
   "metadata": {},
   "outputs": [],
   "source": [
    "#Question 38: Find the indices that would sort the array by years active"
   ]
  },
  {
   "cell_type": "code",
   "execution_count": null,
   "id": "d9d4f0d5-a5eb-4d03-b182-1fe483032e9d",
   "metadata": {},
   "outputs": [],
   "source": [
    "#Question 39: Find the customer with the second highest account balance"
   ]
  },
  {
   "cell_type": "code",
   "execution_count": 560,
   "id": "ecb1a28b-69eb-4367-8dd7-dcfa1efa6ae3",
   "metadata": {},
   "outputs": [
    {
     "name": "stdout",
     "output_type": "stream",
     "text": [
      "the customers with credit score greater than 800: [[ 3]\n",
      " [ 4]\n",
      " [ 3]\n",
      " [25]\n",
      " [ 5]\n",
      " [19]\n",
      " [10]\n",
      " [11]\n",
      " [ 9]\n",
      " [15]]\n"
     ]
    }
   ],
   "source": [
    "#Question 40: Find the customer with the lowest transaction count\n",
    "\n",
    "print(\"the customers with credit score greater than 800:\",np.sort(banking_data[0:,1:2]))"
   ]
  },
  {
   "cell_type": "markdown",
   "id": "acf67ad3-67c7-4c6f-984f-9af55f9ee6d1",
   "metadata": {},
   "source": [
    "Mathematical Functions"
   ]
  },
  {
   "cell_type": "code",
   "execution_count": null,
   "id": "cdb8b36b-42a5-4e73-be28-3090a521cd88",
   "metadata": {},
   "outputs": [],
   "source": [
    "#Question 41: Calculate the absolute values of all elements"
   ]
  },
  {
   "cell_type": "code",
   "execution_count": null,
   "id": "2c2d5e77-f091-4637-9210-171b277c9093",
   "metadata": {},
   "outputs": [],
   "source": [
    "#Question 42: Calculate the square root of all account balances"
   ]
  },
  {
   "cell_type": "code",
   "execution_count": null,
   "id": "28504771-e545-4604-872c-827fddf7a893",
   "metadata": {},
   "outputs": [],
   "source": [
    "#Question 43: Calculate the square of all credit scores"
   ]
  },
  {
   "cell_type": "code",
   "execution_count": null,
   "id": "6d29a885-a76c-472b-a452-604646b5885e",
   "metadata": {},
   "outputs": [],
   "source": [
    "#Question 44: Calculate the exponential of all transaction counts"
   ]
  },
  {
   "cell_type": "code",
   "execution_count": null,
   "id": "e989060e-a0df-40c8-90cf-1ac1877824e0",
   "metadata": {},
   "outputs": [],
   "source": [
    "#Question 45: Calculate the natural logarithm of all account balances"
   ]
  },
  {
   "cell_type": "markdown",
   "id": "71f68479-e585-4357-bb8a-899384e6319d",
   "metadata": {},
   "source": [
    "Advanced Operations"
   ]
  },
  {
   "cell_type": "code",
   "execution_count": null,
   "id": "609a4406-b1b5-4f36-b424-d7ecd9fdcefb",
   "metadata": {},
   "outputs": [],
   "source": [
    "#Question 46: Calculate the cumulative sum of account balances"
   ]
  },
  {
   "cell_type": "code",
   "execution_count": null,
   "id": "ee97b5d1-dc5d-4c7b-a729-4630cea87553",
   "metadata": {},
   "outputs": [],
   "source": [
    "#Question 47: Calculate the cumulative product of transaction counts"
   ]
  },
  {
   "cell_type": "code",
   "execution_count": null,
   "id": "ddc2ca63-90d9-4e0d-bb04-de7f14595868",
   "metadata": {},
   "outputs": [],
   "source": [
    "#Question 48: Calculate the difference between consecutive account balances"
   ]
  },
  {
   "cell_type": "code",
   "execution_count": null,
   "id": "69d0910e-a176-4c18-bbbe-92627b04fd5a",
   "metadata": {},
   "outputs": [],
   "source": [
    "#Question 49: Calculate the gradient of account balances"
   ]
  },
  {
   "cell_type": "code",
   "execution_count": 65,
   "id": "bb3f5b08-6c5e-4974-af58-bfa68db32fb9",
   "metadata": {},
   "outputs": [],
   "source": [
    "#Question 50: Calculate the histogram of account balances with 5 bins"
   ]
  },
  {
   "cell_type": "markdown",
   "id": "74bb587c-5c10-4f01-876a-5be5585ec5ea",
   "metadata": {},
   "source": [
    "Random Numbers and Simulation"
   ]
  },
  {
   "cell_type": "code",
   "execution_count": 119,
   "id": "b4976110-57a8-4c15-a887-e0517da92732",
   "metadata": {},
   "outputs": [
    {
     "data": {
      "text/plain": [
       "array([831, 874, 904, 317, 944, 705], dtype=int32)"
      ]
     },
     "execution_count": 119,
     "metadata": {},
     "output_type": "execute_result"
    }
   ],
   "source": [
    "#Question 51: Generate 6 random integers between 1 and 1000\n",
    "\n",
    "import numpy as np\n",
    "\n",
    "a=np.random.randint(1,1000,6)\n",
    "\n",
    "a"
   ]
  },
  {
   "cell_type": "code",
   "execution_count": 135,
   "id": "8b30c6a8-3edb-41a7-beff-dd0931f4369b",
   "metadata": {},
   "outputs": [
    {
     "data": {
      "text/plain": [
       "array([], shape=(0, 1), dtype=float64)"
      ]
     },
     "execution_count": 135,
     "metadata": {},
     "output_type": "execute_result"
    }
   ],
   "source": [
    "#Question 52: Generate 6 random floats between 0 and 1\n",
    "\n",
    "import numpy as np\n",
    "\n",
    "b=np.random.random([0,1])\n",
    "b"
   ]
  },
  {
   "cell_type": "code",
   "execution_count": null,
   "id": "7675f63e-8fbb-468c-aef3-e0e6d1a8798a",
   "metadata": {},
   "outputs": [],
   "source": [
    "#Question 53: Generate 6 random numbers from normal distribution (mean=700, std=100)"
   ]
  },
  {
   "cell_type": "code",
   "execution_count": null,
   "id": "3b1b77b8-49bf-42be-83e3-f0e40bc31464",
   "metadata": {},
   "outputs": [],
   "source": [
    "#Question 54: Shuffle the banking_data rows randomly"
   ]
  },
  {
   "cell_type": "code",
   "execution_count": null,
   "id": "209d0d1b-f823-4efa-86c6-5d30056e2563",
   "metadata": {},
   "outputs": [],
   "source": [
    "#Question 55: Set random seed to 123 and generate 4 random numbers"
   ]
  },
  {
   "cell_type": "markdown",
   "id": "9c9ef1a9-ff9b-45b4-aa87-9664ce528bea",
   "metadata": {},
   "source": [
    "Linear Algebra Operations"
   ]
  },
  {
   "cell_type": "code",
   "execution_count": null,
   "id": "3385e9c5-5eae-4eda-ae67-56bba357c7e1",
   "metadata": {},
   "outputs": [],
   "source": [
    "#Question 56: Calculate the dot product of account balance and credit score columns"
   ]
  },
  {
   "cell_type": "code",
   "execution_count": null,
   "id": "35562075-9762-496b-81ad-7adb5aa543a5",
   "metadata": {},
   "outputs": [],
   "source": [
    "#Question 57: Calculate the cross product of first two rows"
   ]
  },
  {
   "cell_type": "code",
   "execution_count": null,
   "id": "76f47188-53a1-4643-96a0-084f409b4f9f",
   "metadata": {},
   "outputs": [],
   "source": [
    "#Question 58: Calculate the norm (magnitude) of the account balance column"
   ]
  },
  {
   "cell_type": "code",
   "execution_count": null,
   "id": "0e0ed8ec-3eef-48f7-851d-19644b93e7a8",
   "metadata": {},
   "outputs": [],
   "source": [
    "#Question 59: Create a 3x3 matrix and calculate its determinant"
   ]
  },
  {
   "cell_type": "code",
   "execution_count": null,
   "id": "b3008cf2-6e06-46f5-89f1-b6128ffc3ee6",
   "metadata": {},
   "outputs": [],
   "source": [
    "#Question 60: Calculate the inverse of the 3x3 matrix"
   ]
  },
  {
   "cell_type": "markdown",
   "id": "724cd0f4-db51-4b79-a150-f9a41de9574a",
   "metadata": {},
   "source": [
    "String Operations"
   ]
  },
  {
   "cell_type": "code",
   "execution_count": null,
   "id": "2385a650-3fcf-408c-ad1c-6373ad19a793",
   "metadata": {},
   "outputs": [],
   "source": [
    "#Question 61: Convert all customer IDs to strings"
   ]
  },
  {
   "cell_type": "code",
   "execution_count": null,
   "id": "2c18dcc8-b6c0-4de1-a02d-301f029a86e5",
   "metadata": {},
   "outputs": [],
   "source": [
    "#Question 62: Check if any customer ID contains '100'"
   ]
  },
  {
   "cell_type": "code",
   "execution_count": null,
   "id": "3f969215-0f51-426c-ab55-fb6a8fc8b94f",
   "metadata": {},
   "outputs": [],
   "source": [
    "#Question 63: Convert all customer IDs to uppercase (if they were strings)"
   ]
  },
  {
   "cell_type": "code",
   "execution_count": null,
   "id": "d3e56141-0124-4777-82cd-25fd0fd963e2",
   "metadata": {},
   "outputs": [],
   "source": [
    "#Question 64: Count the length of each customer ID string"
   ]
  },
  {
   "cell_type": "code",
   "execution_count": null,
   "id": "33189945-d207-4d6a-a32c-31ada0dab248",
   "metadata": {},
   "outputs": [],
   "source": [
    "#Question 65: Replace '100' with 'CUST' in customer IDs"
   ]
  },
  {
   "cell_type": "markdown",
   "id": "a814662e-b7fc-448d-ae56-afff2758a372",
   "metadata": {},
   "source": [
    "Date and Time Operations"
   ]
  },
  {
   "cell_type": "code",
   "execution_count": null,
   "id": "d07a987a-a7a0-46f8-b9a8-b8d01c1f697e",
   "metadata": {},
   "outputs": [],
   "source": [
    "#Question 66: Convert years active to months"
   ]
  },
  {
   "cell_type": "code",
   "execution_count": 84,
   "id": "dface814-f08c-4b94-951f-e4283eef26ee",
   "metadata": {},
   "outputs": [],
   "source": [
    "#Question 67: Calculate the average years active"
   ]
  },
  {
   "cell_type": "code",
   "execution_count": null,
   "id": "841541c2-b78f-42df-bf7f-a51a94fa0484",
   "metadata": {},
   "outputs": [],
   "source": [
    "#Question 68: Find customers who have been active for more than 5 years"
   ]
  },
  {
   "cell_type": "code",
   "execution_count": null,
   "id": "2a8334f6-fbf1-4321-acab-6b5ccbb7465a",
   "metadata": {},
   "outputs": [],
   "source": [
    "#Question 69: Calculate the total time all customers have been active (in years)"
   ]
  },
  {
   "cell_type": "code",
   "execution_count": null,
   "id": "67a28c17-cb64-4c9d-87ca-140936d42d99",
   "metadata": {},
   "outputs": [],
   "source": [
    "#Question 70: Find the customer with the shortest time active"
   ]
  },
  {
   "cell_type": "markdown",
   "id": "fe39e682-d150-4bab-ab48-7205ec2293a7",
   "metadata": {},
   "source": [
    "Advanced Array Operations"
   ]
  },
  {
   "cell_type": "code",
   "execution_count": null,
   "id": "6cb88c4c-a868-4a20-a425-9c545a9b8025",
   "metadata": {},
   "outputs": [],
   "source": [
    "#Question 71: Apply a function to calculate 5% interest on all account balances"
   ]
  },
  {
   "cell_type": "code",
   "execution_count": 90,
   "id": "563a2620-1a75-4d39-9b64-c71ebb74c8ea",
   "metadata": {},
   "outputs": [],
   "source": [
    "#Question 72: Use np.where to categorize customers by balance ranges"
   ]
  },
  {
   "cell_type": "code",
   "execution_count": 92,
   "id": "99f552b8-16b7-4ab6-ab2b-abdeabc3daa6",
   "metadata": {},
   "outputs": [],
   "source": [
    "#Question 73: Use np.select to categorize customers by credit score ranges"
   ]
  },
  {
   "cell_type": "code",
   "execution_count": null,
   "id": "06eeaf45-65b2-4fc6-ac61-0297f0ad8cab",
   "metadata": {},
   "outputs": [],
   "source": [
    "#Question 74: Use np.piecewise to apply different interest rates based on balance"
   ]
  },
  {
   "cell_type": "code",
   "execution_count": null,
   "id": "253d277e-9ad3-4078-8bca-ae2e6e3329df",
   "metadata": {},
   "outputs": [],
   "source": [
    "#Question 75: Use np.apply_along_axis to calculate the sum of each row"
   ]
  },
  {
   "cell_type": "markdown",
   "id": "4bf6b7de-d362-4e93-82b7-485345e4ba72",
   "metadata": {},
   "source": [
    "Array Concatenation and Stacking"
   ]
  },
  {
   "cell_type": "code",
   "execution_count": 554,
   "id": "9d855d10-18d2-484b-a36f-64c7e26c54e6",
   "metadata": {},
   "outputs": [],
   "source": [
    "#Question 76: Concatenate two arrays horizontally using np.hstack()\n",
    "\n",
    "# import numpy as np\n",
    "\n",
    "# a=np.array([5,2])\n",
    "\n",
    "# b=np.array([7,2])\n",
    "\n",
    "# a = np.array([[1, 2], [3, 4]])\n",
    "\n",
    "# b = np.array([[5, 6]])\n",
    "# np.concatenate((a, b), axis=0)\n",
    "# print(\"Concatenate two arrays horizontally:\",np.concatenate((a,b),axis=1)"
   ]
  },
  {
   "cell_type": "code",
   "execution_count": null,
   "id": "ec9a4e42-4fed-4bf5-b645-07baf590c224",
   "metadata": {},
   "outputs": [],
   "source": [
    "#Question 77: Concatenate two arrays vertically using np.vstack()"
   ]
  },
  {
   "cell_type": "code",
   "execution_count": null,
   "id": "fab02b29-eab6-43be-8b5e-42e96373b3ec",
   "metadata": {},
   "outputs": [],
   "source": [
    "#Question 78: Concatenate arrays along a specific axis using np.concatenate()"
   ]
  },
  {
   "cell_type": "code",
   "execution_count": null,
   "id": "9dc7d58a-d3c3-468d-b6e0-54bd624282e2",
   "metadata": {},
   "outputs": [],
   "source": [
    "#Question 79: Stack arrays depth-wise using np.dstack()"
   ]
  },
  {
   "cell_type": "code",
   "execution_count": null,
   "id": "b746e751-fec8-47fb-90e8-caaba3a17526",
   "metadata": {},
   "outputs": [],
   "source": [
    "#Question 80: Create a column stack using np.column_stack()"
   ]
  },
  {
   "cell_type": "markdown",
   "id": "7ba34b2f-694a-4510-84e6-24d3dcd9c4b4",
   "metadata": {},
   "source": [
    "Array Splitting Operations"
   ]
  },
  {
   "cell_type": "code",
   "execution_count": 67,
   "id": "b5210293-ac5a-4a90-9cc4-eb72ef428816",
   "metadata": {},
   "outputs": [
    {
     "name": "stdout",
     "output_type": "stream",
     "text": [
      "The Original ndarray a: [[81  8 93 81 43 43 38 60]\n",
      " [58 83 58 93 36 60 51 61]\n",
      " [41 43 34 59 55  8 92 30]\n",
      " [87 42  5  6 23 21  8 21]\n",
      " [57 14  9 72 24  7  1 88]\n",
      " [82 68 31 74 79 16 81 45]] \n",
      "\n",
      "The Original ndarray a divided into 3 equal parts: [array([[81,  8, 93, 81, 43, 43, 38, 60],\n",
      "       [58, 83, 58, 93, 36, 60, 51, 61]], dtype=int32), array([[41, 43, 34, 59, 55,  8, 92, 30],\n",
      "       [87, 42,  5,  6, 23, 21,  8, 21]], dtype=int32), array([[57, 14,  9, 72, 24,  7,  1, 88],\n",
      "       [82, 68, 31, 74, 79, 16, 81, 45]], dtype=int32)]\n"
     ]
    }
   ],
   "source": [
    "#Question 81: Split an array into 3 equal parts using np.split()\n",
    "\n",
    "# import numpy as np\n",
    "\n",
    "# a=np.random.randint(0,100,(6,8))\n",
    "\n",
    "# print(\"The Original ndarray a:\",a,\"\\n\")\n",
    "\n",
    "# print(\"The Original ndarray a divided into 3 equal parts:\",np.split(a,3))"
   ]
  },
  {
   "cell_type": "code",
   "execution_count": 77,
   "id": "08990214-bfce-430e-abca-821f4a31eb46",
   "metadata": {},
   "outputs": [],
   "source": [
    "#Question 82: Split an array at specific indices using np.split()\n",
    "x=a[4:,0:6]  #TypeError: only integer scalar arrays can be converted to a scalar index\n",
    "\n",
    "# print(\"The Original ndarray a divided into 3 equal parts:\",np.split(a,x))"
   ]
  },
  {
   "cell_type": "code",
   "execution_count": 107,
   "id": "f9c21d06-3aaf-4ae7-acd5-63e25fa677c2",
   "metadata": {},
   "outputs": [],
   "source": [
    "#Question 83: Split an array horizontally using np.hsplit()\n",
    "\n",
    "# print(\"The Original ndarray a divided into 3 equal parts horizontally:\",np.hsplit(a,3))\n",
    "\n",
    "#Since its a hsplit,raises an error\n",
    "#ValueError: array split does not result in an equal division\n",
    "\n",
    "\n",
    "# print(\"The Original ndarray a divided into 4 equal parts horizontally:\",np.hsplit(a,2))"
   ]
  },
  {
   "cell_type": "code",
   "execution_count": 91,
   "id": "40a33a52-b16e-48d4-9020-250311d4dfae",
   "metadata": {},
   "outputs": [
    {
     "name": "stdout",
     "output_type": "stream",
     "text": [
      "The Original ndarray a divided into 3 equal parts horizontally: [array([[81,  8, 93, 81, 43, 43, 38, 60],\n",
      "       [58, 83, 58, 93, 36, 60, 51, 61]], dtype=int32), array([[41, 43, 34, 59, 55,  8, 92, 30],\n",
      "       [87, 42,  5,  6, 23, 21,  8, 21]], dtype=int32), array([[57, 14,  9, 72, 24,  7,  1, 88],\n",
      "       [82, 68, 31, 74, 79, 16, 81, 45]], dtype=int32)]\n"
     ]
    }
   ],
   "source": [
    "#Question 84: Split an array vertically using np.vsplit()\n",
    "\n",
    "# print(\"The Original ndarray a divided into 3 equal parts horizontally:\",np.vsplit(a,3)) "
   ]
  },
  {
   "cell_type": "code",
   "execution_count": 113,
   "id": "e317cfbe-64c3-4166-988e-21088d57702a",
   "metadata": {},
   "outputs": [
    {
     "name": "stdout",
     "output_type": "stream",
     "text": [
      "The Original ndarray a divided into 2 equal parts: [array([[81,  8, 93, 81, 43, 43, 38, 60],\n",
      "       [58, 83, 58, 93, 36, 60, 51, 61],\n",
      "       [41, 43, 34, 59, 55,  8, 92, 30]], dtype=int32), array([[87, 42,  5,  6, 23, 21,  8, 21],\n",
      "       [57, 14,  9, 72, 24,  7,  1, 88],\n",
      "       [82, 68, 31, 74, 79, 16, 81, 45]], dtype=int32)]\n",
      "The Original ndarray a divided into 2 equal parts: [array([[81,  8, 93, 81],\n",
      "       [58, 83, 58, 93],\n",
      "       [41, 43, 34, 59],\n",
      "       [87, 42,  5,  6],\n",
      "       [57, 14,  9, 72],\n",
      "       [82, 68, 31, 74]], dtype=int32), array([[43, 43, 38, 60],\n",
      "       [36, 60, 51, 61],\n",
      "       [55,  8, 92, 30],\n",
      "       [23, 21,  8, 21],\n",
      "       [24,  7,  1, 88],\n",
      "       [79, 16, 81, 45]], dtype=int32)]\n"
     ]
    }
   ],
   "source": [
    "#Question 85: Split an array into equal chunks using np.array_split()\n",
    "\n",
    "#Array_split: It doesnt raise any errors while splitting odd column numbers.\n",
    "\n",
    "print(\"The Original ndarray 'a' divided into 2 equal parts:\",np.array_split(a,2,axis=0))\n",
    "\n",
    "print(\"The Original ndarray 'a' divided into 2 equal parts:\",np.array_split(a,2,axis=1))"
   ]
  },
  {
   "cell_type": "markdown",
   "id": "340eac23-5f5d-4694-9851-5e29781fefc3",
   "metadata": {},
   "source": [
    "Array Repetition and Tiling"
   ]
  },
  {
   "cell_type": "code",
   "execution_count": 112,
   "id": "0239ba6f-7f52-4319-9700-5e2051a3c6b1",
   "metadata": {},
   "outputs": [],
   "source": [
    "#Question 86: Repeat each element of an array 3 times using np.repeat()"
   ]
  },
  {
   "cell_type": "code",
   "execution_count": null,
   "id": "eb6a6772-e879-4849-b187-30103084b7af",
   "metadata": {},
   "outputs": [],
   "source": [
    "#Question 87: Repeat an entire array 2 times using np.tile()"
   ]
  },
  {
   "cell_type": "code",
   "execution_count": null,
   "id": "278d9c40-56da-419e-91e2-aac6fb80ac40",
   "metadata": {},
   "outputs": [],
   "source": [
    "#Question 88: Repeat a 2D array using np.tile()"
   ]
  },
  {
   "cell_type": "code",
   "execution_count": null,
   "id": "ac5691a3-1403-4b70-bfb1-98e0b4480951",
   "metadata": {},
   "outputs": [],
   "source": [
    "#Question 89: Create a pattern using np.tile()"
   ]
  },
  {
   "cell_type": "code",
   "execution_count": null,
   "id": "e685cda6-ff24-4c75-9eaf-dc551a89f402",
   "metadata": {},
   "outputs": [],
   "source": [
    "#Question 90: Repeat elements with different counts using np.repeat()"
   ]
  },
  {
   "cell_type": "markdown",
   "id": "be854a0b-8088-41c8-b153-90c82ea9b8d1",
   "metadata": {},
   "source": [
    "Array Comparison and Logical Operations"
   ]
  },
  {
   "cell_type": "code",
   "execution_count": 478,
   "id": "dc583a80-789c-45d2-bcb2-db38674259cc",
   "metadata": {},
   "outputs": [
    {
     "name": "stdout",
     "output_type": "stream",
     "text": [
      "The first ndarray a: [1 2 3]\n",
      "The Second ndarray b: [1 2 3 4] \n",
      "\n",
      "Checking the equality for a and b: False\n",
      "Checking the equality for b and c: False \n",
      "\n",
      "Checking the equality for a and d: True\n"
     ]
    }
   ],
   "source": [
    "#Question 91: Compare two arrays for equality using np.array_equal()\n",
    "\n",
    "# import numpy as np\n",
    "\n",
    "# a=np.array([1,2,3])        #Rank=1\n",
    "\n",
    "# b=np.array([1,2,3,4])\n",
    "\n",
    "# c=np.array([[1,2],[3,4]])  #Rank=2\n",
    "\n",
    "# d=np.array([1,2,3])\n",
    "\n",
    "# print(\"The first ndarray a:\",a)\n",
    "# print(\"The Second ndarray b:\",b,\"\\n\")\n",
    "\n",
    "# print(\"Checking the equality for a and b:\",np.array_equal(a,b))\n",
    "\n",
    "# print(\"Checking the equality for b and c:\",np.array_equal(b,c),\"\\n\")\n",
    "\n",
    "# print(\"Checking the equality for a and d:\",np.array_equal(a,d))"
   ]
  },
  {
   "cell_type": "code",
   "execution_count": 482,
   "id": "cccd94b6-6a42-4822-afdb-da7862304cff",
   "metadata": {},
   "outputs": [],
   "source": [
    "#Question 92: Check if arrays are close using np.allclose()\n",
    "\n",
    "# import numpy as np\n",
    "\n",
    "# a=np.array([1,2,3])        #Rank=1\n",
    "\n",
    "# b=np.array([1,2,3,4])\n",
    "\n",
    "# # c=np.array([[1,2],[3,4]])  #Rank=2\n",
    "\n",
    "# # d=np.array([1,2,3])\n",
    "\n",
    "# print(\"The first ndarray a:\",a)\n",
    "# print(\"The Second ndarray b:\",b,\"\\n\")\n",
    "\n",
    "# print(\"Checking the equality for a and b:\",np.allclose(a,b))\n"
   ]
  },
  {
   "cell_type": "code",
   "execution_count": 506,
   "id": "3dc9d312-5db6-49e7-8a54-5dc557bb8359",
   "metadata": {},
   "outputs": [
    {
     "name": "stdout",
     "output_type": "stream",
     "text": [
      "Applying the logical_and between a and b ndarrays: [ True  True  True]\n"
     ]
    }
   ],
   "source": [
    "#Question 93: Apply logical AND operation between arrays\n",
    "\n",
    "# import numpy as np\n",
    "\n",
    "# a=np.array([1,8,6])        #Rank=1\n",
    "\n",
    "# b=np.array([2,2,6])\n",
    "\n",
    "# print(\"Applying the logical_and between a and b ndarrays:\",np.logical_and(a,b))\n",
    "\n",
    "# c=np.array([1,2])\n",
    "\n",
    "# print(\"Applying the logical_and between a and b ndarrays:\",np.logical_and(a,c)) \n",
    "\n",
    "#ValueError: operands could not be broadcast together with shapes (3,) (2,)\n",
    "\n",
    "\n",
    "\n",
    "# d=np.array([[1,2],[3,4]])   #Rank=2\n",
    "\n",
    "# e=np.array([[0,2],[2,3]])\n",
    "\n",
    "# print(\"Applying the logical_and between a and b ndarrays:\",np.logical_and(d,e))"
   ]
  },
  {
   "cell_type": "code",
   "execution_count": 520,
   "id": "fa7bb09b-8437-474b-aad8-4c4a477f6062",
   "metadata": {},
   "outputs": [
    {
     "name": "stdout",
     "output_type": "stream",
     "text": [
      "Applying the logical_or between a and b ndarrays: [[False  True]\n",
      " [ True  True]]\n"
     ]
    }
   ],
   "source": [
    "#Question 94: Apply logical OR operation between arrays\n",
    "\n",
    "# import numpy as np\n",
    "\n",
    "# a=np.array([1,8,6,0])        #Rank=1\n",
    "\n",
    "# b=np.array([2,2,6,7])\n",
    "\n",
    "# print(\"Applying the logical_or between a and b ndarrays:\",np.logical_or(a,b))\n",
    "\n",
    "# c=np.array([1,2])\n",
    "\n",
    "# print(\"Applying the logical_or between a and b ndarrays:\",np.logical_or(a,c)) \n",
    "\n",
    "#ValueError: operands could not be broadcast together with shapes (3,) (2,)\n",
    "\n",
    "\n",
    "\n",
    "# d=np.array([[1,2],[3,4]])   #Rank=2\n",
    "\n",
    "# e=np.array([[0,2],[2,3]])\n",
    "\n",
    "# print(\"Applying the logical_or between a and b ndarrays:\",np.logical_and(d,e))"
   ]
  },
  {
   "cell_type": "code",
   "execution_count": 534,
   "id": "3d11aa75-a4e8-4d11-b2a6-9cbe381e232a",
   "metadata": {},
   "outputs": [
    {
     "name": "stdout",
     "output_type": "stream",
     "text": [
      "Applying the logical_or between a and b ndarrays: [False False False  True False] \n",
      "\n",
      "Applying the logical_or between a and b ndarrays: [False False False False  True]\n"
     ]
    }
   ],
   "source": [
    "#Question 95: Apply logical NOT operation to an array\n",
    "\n",
    "# import numpy as np\n",
    "\n",
    "# a=np.array([1,8,6,0,True])        #Rank=1\n",
    "\n",
    "# b=np.array([2,2,6,7,False])\n",
    "\n",
    "# print(\"Applying the logical_or between a and b ndarrays:\",np.logical_not(a),\"\\n\")\n",
    "\n",
    "# print(\"Applying the logical_or between a and b ndarrays:\",np.logical_not(b))"
   ]
  },
  {
   "cell_type": "markdown",
   "id": "695e416e-f009-498a-bd1d-5dd6a8118e53",
   "metadata": {},
   "source": [
    "Array Set Operations"
   ]
  },
  {
   "cell_type": "code",
   "execution_count": null,
   "id": "b606ba1c-9f8b-4b7d-a81a-7188206744d1",
   "metadata": {},
   "outputs": [],
   "source": [
    "#Question 96: Find unique elements in an array using np.unique()"
   ]
  },
  {
   "cell_type": "code",
   "execution_count": null,
   "id": "438f3ca1-5afc-486e-82e1-55f8b6fcb69e",
   "metadata": {},
   "outputs": [],
   "source": [
    "#Question 97: Find the intersection of two arrays using np.intersect1d()"
   ]
  },
  {
   "cell_type": "code",
   "execution_count": null,
   "id": "9312461a-feda-4ec4-b55f-2828e588af6a",
   "metadata": {},
   "outputs": [],
   "source": [
    "#Question 98: Find the union of two arrays using np.union1d()"
   ]
  },
  {
   "cell_type": "code",
   "execution_count": null,
   "id": "3ee1c133-aa13-45e3-a90d-7abcddc61d27",
   "metadata": {},
   "outputs": [],
   "source": [
    "#Question 99: Find elements in first array but not in second using np.setdiff1d()"
   ]
  },
  {
   "cell_type": "code",
   "execution_count": null,
   "id": "c970af39-873a-4048-96c9-463db07c7550",
   "metadata": {},
   "outputs": [],
   "source": [
    "#Question 100: Find the symmetric difference between two arrays using np.setxor1d()"
   ]
  },
  {
   "cell_type": "markdown",
   "id": "489250c6-81bb-42f6-a15c-b14d382104a6",
   "metadata": {},
   "source": [
    "THE END"
   ]
  }
 ],
 "metadata": {
  "kernelspec": {
   "display_name": "Python 3 (ipykernel)",
   "language": "python",
   "name": "python3"
  },
  "language_info": {
   "codemirror_mode": {
    "name": "ipython",
    "version": 3
   },
   "file_extension": ".py",
   "mimetype": "text/x-python",
   "name": "python",
   "nbconvert_exporter": "python",
   "pygments_lexer": "ipython3",
   "version": "3.12.4"
  }
 },
 "nbformat": 4,
 "nbformat_minor": 5
}
