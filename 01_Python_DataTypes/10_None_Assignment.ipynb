{
 "cells": [
  {
   "cell_type": "code",
   "execution_count": 1,
   "id": "6399468c-b5d7-4e31-a969-3590e76f931f",
   "metadata": {},
   "outputs": [
    {
     "name": "stdout",
     "output_type": "stream",
     "text": [
      "The variable has a value of None\n"
     ]
    }
   ],
   "source": [
    "# Question 1: Create a variable and assign None to it\n",
    "# var=None\n",
    "\n",
    "# if var is None:\n",
    "#     print(\"The variable has a value of None\")\n",
    "# else:\n",
    "#     print(\"The variable has a value\")"
   ]
  },
  {
   "cell_type": "code",
   "execution_count": 19,
   "id": "2328472e-a6f1-413a-8e87-46e1ac9a29a2",
   "metadata": {},
   "outputs": [
    {
     "name": "stdout",
     "output_type": "stream",
     "text": [
      "Both variables has equal value of None\n"
     ]
    }
   ],
   "source": [
    "# Question 2: Check if None equals None\n",
    "\n",
    "# var1=None\n",
    "# var2=None\n",
    "\n",
    "# if var1==var2:\n",
    "#     print(\"Both variables has equal value of None\")\n",
    "# else:\n",
    "#     print(\"Both variables dont have equal value of None\")"
   ]
  },
  {
   "cell_type": "code",
   "execution_count": 21,
   "id": "16a6016f-a2f5-4b81-912d-0081461168a2",
   "metadata": {},
   "outputs": [
    {
     "name": "stdout",
     "output_type": "stream",
     "text": [
      "Both variables has equal value of None\n"
     ]
    }
   ],
   "source": [
    "# Question 3: Check if None is None\n",
    "# var1=None\n",
    "# var2=None\n",
    "\n",
    "# if var1 is var2:\n",
    "#     print(\"Both variables has equal value of None\")\n",
    "# else:\n",
    "#     print(\"Both variables dont have equal value of None\")"
   ]
  },
  {
   "cell_type": "code",
   "execution_count": 3,
   "id": "46142e26-2a69-437a-af8f-c9bfc5493f41",
   "metadata": {},
   "outputs": [
    {
     "name": "stdout",
     "output_type": "stream",
     "text": [
      "the Zero not equals to None\n"
     ]
    }
   ],
   "source": [
    "# Question 4: Check if 0 is None\n",
    "\n",
    "# a=0\n",
    "# var=None\n",
    "\n",
    "# if a==var:\n",
    "#     print(\"the Zero equals to None\")\n",
    "# else:\n",
    "#     print(\"the Zero not equals to None\")"
   ]
  },
  {
   "cell_type": "code",
   "execution_count": 5,
   "id": "8a17e50b-b6ac-47dc-b0f5-c76fc9f244fd",
   "metadata": {},
   "outputs": [
    {
     "name": "stdout",
     "output_type": "stream",
     "text": [
      "the Empty string is not a None\n"
     ]
    }
   ],
   "source": [
    "# Question 5: Check if empty string is None\n",
    "\n",
    "# str=''\n",
    "# var=None\n",
    "\n",
    "# if a==var:\n",
    "#     print(\"the Empty string is a None\")\n",
    "# else:\n",
    "#     print(\"the Empty string is not a None\")"
   ]
  },
  {
   "cell_type": "code",
   "execution_count": 7,
   "id": "3afa2343-c98e-4c4a-a93a-10f88e2c822c",
   "metadata": {},
   "outputs": [
    {
     "name": "stdout",
     "output_type": "stream",
     "text": [
      "the Boolean value- False is not a None\n"
     ]
    }
   ],
   "source": [
    "# Question 6: Check if False is None\n",
    "\n",
    "# x=False\n",
    "# var=None\n",
    "\n",
    "# if x==var:\n",
    "#     print(\"the Boolean value- False is a None\")\n",
    "# else:\n",
    "#     print(\"the Boolean value- False is not a None\")"
   ]
  },
  {
   "cell_type": "code",
   "execution_count": 9,
   "id": "c357ebe3-5c30-42c8-b61f-02a0829a7fab",
   "metadata": {},
   "outputs": [
    {
     "name": "stdout",
     "output_type": "stream",
     "text": [
      "the Empty list is not a None\n"
     ]
    }
   ],
   "source": [
    "# Question 7: Check if empty list is None\n",
    "\n",
    "# list=[]\n",
    "# var=None\n",
    "\n",
    "# if list==var:\n",
    "#     print(\"the Empty list is a None\")\n",
    "# else:\n",
    "#     print(\"the Empty list is not a None\")"
   ]
  },
  {
   "cell_type": "code",
   "execution_count": 11,
   "id": "892c417d-4ef4-4ad2-96fc-fd78372757af",
   "metadata": {},
   "outputs": [
    {
     "name": "stdout",
     "output_type": "stream",
     "text": [
      "the Empty dictionary is not a None\n"
     ]
    }
   ],
   "source": [
    "# Question 8: Check if empty dictionary is None\n",
    "\n",
    "# dict={}\n",
    "# var=None\n",
    "\n",
    "# if dict==var:\n",
    "#     print(\"the Empty dictionary is a None\")\n",
    "# else:\n",
    "#     print(\"the Empty dictionary is not a None\")"
   ]
  },
  {
   "cell_type": "code",
   "execution_count": 13,
   "id": "eee60807-ef1d-4630-a285-b288271eab97",
   "metadata": {},
   "outputs": [
    {
     "name": "stdout",
     "output_type": "stream",
     "text": [
      "the Empty tuple is not a None\n"
     ]
    }
   ],
   "source": [
    "# Question 9: Check if empty tuple is None\n",
    "\n",
    "# tuple=()\n",
    "# var=None\n",
    "\n",
    "# if tuple==var:\n",
    "#     print(\"the Empty tuple is a None\")\n",
    "# else:\n",
    "#     print(\"the Empty tuple is not a None\")"
   ]
  },
  {
   "cell_type": "code",
   "execution_count": 15,
   "id": "161eeb74-3c14-4fdd-8545-175f3e4fc36d",
   "metadata": {},
   "outputs": [
    {
     "name": "stdout",
     "output_type": "stream",
     "text": [
      "the Empty set is not a None\n"
     ]
    }
   ],
   "source": [
    "# Question 10: Check if empty set is None\n",
    "\n",
    "# set={()}\n",
    "# var=None\n",
    "\n",
    "# if set==var:\n",
    "#     print(\"the Empty set is a None\")\n",
    "# else:\n",
    "#     print(\"the Empty set is not a None\")"
   ]
  }
 ],
 "metadata": {
  "kernelspec": {
   "display_name": "Python 3 (ipykernel)",
   "language": "python",
   "name": "python3"
  },
  "language_info": {
   "codemirror_mode": {
    "name": "ipython",
    "version": 3
   },
   "file_extension": ".py",
   "mimetype": "text/x-python",
   "name": "python",
   "nbconvert_exporter": "python",
   "pygments_lexer": "ipython3",
   "version": "3.12.4"
  }
 },
 "nbformat": 4,
 "nbformat_minor": 5
}
