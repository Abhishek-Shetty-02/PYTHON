{
 "cells": [
  {
   "cell_type": "code",
   "execution_count": 107,
   "id": "0af9d260-60a9-4a5b-b409-740f8976e67f",
   "metadata": {},
   "outputs": [],
   "source": [
    "# Question 1: Create a set of first 10 natural numbers\n",
    "\n",
    "# x = set(range(1,11))\n",
    "# print(x)\n",
    "    "
   ]
  },
  {
   "cell_type": "code",
   "execution_count": 95,
   "id": "d45342a3-a045-480c-83d9-889505c97f28",
   "metadata": {},
   "outputs": [],
   "source": [
    "# Question 2: Add element 11 to set {1, 2, 3, 4, 5}\n",
    "# set={1, 2, 3, 4, 5}\n",
    "\n",
    "# set.add(11)\n",
    "# print(set)"
   ]
  },
  {
   "cell_type": "code",
   "execution_count": 21,
   "id": "5a8fccfb-a66c-469f-9364-33c2b2d42c50",
   "metadata": {},
   "outputs": [
    {
     "name": "stdout",
     "output_type": "stream",
     "text": [
      "{1, 2, 4, 5, 6}\n"
     ]
    }
   ],
   "source": [
    "# Question 3: Remove element 3 from set {1, 2, 3, 4, 5, 6}\n",
    "# set={1, 2, 3, 4, 5, 6}\n",
    "\n",
    "# set.remove(3)\n",
    "# print(set)"
   ]
  },
  {
   "cell_type": "code",
   "execution_count": null,
   "id": "9e4f17a2-255f-4bfc-a771-f118837e3fb3",
   "metadata": {},
   "outputs": [],
   "source": [
    "# Question 4: Find the union of {1, 2, 3, 4, 5} and {4, 5, 6, 7, 8}\n",
    "#Union of 2 sets\n",
    "\n",
    "#BY using union function\n",
    "\n",
    "# set1={1, 2, 3, 4, 5}\n",
    "# set2={4, 5, 6, 7, 8}\n",
    "\n",
    "# union_set=set1.union(set2)\n",
    "\n",
    "# print(\"Unionset is: \",union_set)\n",
    "\n",
    "#By using Pipe operator\n",
    "\n",
    "# set1={1, 2, 3, 4, 5}\n",
    "# set2={4, 5, 6, 7, 8}\n",
    "\n",
    "# union_set=set1 | set2\n",
    "\n",
    "# print(\"Unionset is: \",union_set)"
   ]
  },
  {
   "cell_type": "code",
   "execution_count": 75,
   "id": "f3ee6383-2f97-4787-98f9-b2ceab78f9d8",
   "metadata": {},
   "outputs": [
    {
     "name": "stdout",
     "output_type": "stream",
     "text": [
      "Intersection of 2 given sets:  {4, 5}\n"
     ]
    }
   ],
   "source": [
    "# Question 4: Find the intersection of {1, 2, 3, 4, 5} and {4, 5, 6, 7, 8}\n",
    "\n",
    "#By using intersection method\n",
    "\n",
    "# set1={1, 2, 3, 4, 5}\n",
    "# set2={4, 5, 6, 7, 8}\n",
    "\n",
    "# intersection_set=set1.intersection(set2)\n",
    "\n",
    "# print(\"Intersection of 2 given sets: \",intersection_set)\n",
    "\n",
    "\n",
    "#By using & operator\n",
    "\n",
    "# set1={1, 2, 3, 4, 5}\n",
    "# set2={4, 5, 6, 7, 8}\n",
    "\n",
    "# intersection_set=set1 & set2\n",
    "\n",
    "# print(\"Intersection of 2 given sets: \",intersection_set)\n"
   ]
  },
  {
   "cell_type": "code",
   "execution_count": 79,
   "id": "aeb1ffd4-ec57-4d2d-bffe-eacaca1be865",
   "metadata": {},
   "outputs": [
    {
     "name": "stdout",
     "output_type": "stream",
     "text": [
      "difference of 2 given sets:  {1, 2, 3}\n"
     ]
    }
   ],
   "source": [
    "# Question 5: Find the difference between {1, 2, 3, 4, 5} and {4, 5, 6, 7, 8}\n",
    "\n",
    "#By using difference method\n",
    "\n",
    "# set1={1, 2, 3, 4, 5}\n",
    "# set2={4, 5, 6, 7, 8}\n",
    "\n",
    "# difference_set=set1.difference(set2)\n",
    "\n",
    "# print(\"difference of 2 given sets: \",difference_set)\n",
    "\n",
    "#By using - operator\n",
    "\n",
    "# set1={1, 2, 3, 4, 5}\n",
    "# set2={4, 5, 6, 7, 8}\n",
    "\n",
    "# difference_set=set1-set2\n",
    "\n",
    "# print(\"difference of 2 given sets: \",difference_set)"
   ]
  },
  {
   "cell_type": "code",
   "execution_count": 47,
   "id": "7901b4e7-76ca-4786-8f61-6e8c98a132f1",
   "metadata": {},
   "outputs": [
    {
     "name": "stdout",
     "output_type": "stream",
     "text": [
      "5 doesnt exists\n"
     ]
    }
   ],
   "source": [
    "# Question 6: Check if 5 is in set {1, 2, 3, 4, 6, 7, 8}\n",
    "# set={1, 2, 3, 4, 6, 7, 8}\n",
    "\n",
    "# if 5 in set:\n",
    "#     print(\"5 exists\")\n",
    "# else:\n",
    "#     print(\"5 doesnt exists\")"
   ]
  },
  {
   "cell_type": "code",
   "execution_count": 31,
   "id": "dc4543c0-bb66-490c-a156-bc7db8a4912b",
   "metadata": {},
   "outputs": [
    {
     "name": "stdout",
     "output_type": "stream",
     "text": [
      "8\n",
      "11\n",
      "7\n",
      "4\n",
      "1\n"
     ]
    }
   ],
   "source": [
    "# Question 7: Find the length of set {'a', 'b', 'c', 'd', 'e'}\n",
    "# set={'a', 'b', 'c', 'd', 'e'}\n",
    "# for each in set:\n",
    "#     print(len(each))\n",
    "\n",
    "# set={'Datascience', 'machine', 'Learning', 'd','fggf'}\n",
    "# for each in set:\n",
    "#     print(len(each))  #By default arrangement is based on ASCII and ascending order\n"
   ]
  },
  {
   "cell_type": "code",
   "execution_count": null,
   "id": "0a0d4e31-5cd5-46dd-90cd-e7e681e074dc",
   "metadata": {},
   "outputs": [],
   "source": [
    "# Question 8: Create a set of vowels from string \"hello world\""
   ]
  },
  {
   "cell_type": "code",
   "execution_count": 45,
   "id": "f4957c96-1b56-4902-9fa9-1ec66367fb9b",
   "metadata": {},
   "outputs": [],
   "source": [
    "# Question 9: Remove duplicates from list [1, 2, 2, 3, 4, 4, 5, 6, 6, 7] using set\n",
    "# ls=[1, 2, 2, 3, 4, 4, 5, 6, 6, 7]\n",
    "# set={}\n",
    "# for each in ls:\n",
    "#     set.insert(ls)\n",
    "# print(set)\n",
    "\n"
   ]
  },
  {
   "cell_type": "code",
   "execution_count": 65,
   "id": "91c034a8-e0db-4698-91b9-e1b4662ef7af",
   "metadata": {},
   "outputs": [
    {
     "name": "stdout",
     "output_type": "stream",
     "text": [
      "True\n"
     ]
    }
   ],
   "source": [
    "# Question 10: Check if {1, 2, 3} is a subset of {1, 2, 3, 4, 5, 6}\n",
    "\n",
    "#By using issubset \n",
    "# set={1, 2, 3, 4, 5, 6}\n",
    "# subset={1, 2, 3}\n",
    "\n",
    "# x=set.issubset(set)\n",
    "# print(x)\n",
    "\n",
    "#Wrong\n",
    "# if subset in set:\n",
    "#     print(\"The subset exists\")\n",
    "# else:\n",
    "#     print(\"The subset doesnt exists\")"
   ]
  }
 ],
 "metadata": {
  "kernelspec": {
   "display_name": "Python 3 (ipykernel)",
   "language": "python",
   "name": "python3"
  },
  "language_info": {
   "codemirror_mode": {
    "name": "ipython",
    "version": 3
   },
   "file_extension": ".py",
   "mimetype": "text/x-python",
   "name": "python",
   "nbconvert_exporter": "python",
   "pygments_lexer": "ipython3",
   "version": "3.12.4"
  }
 },
 "nbformat": 4,
 "nbformat_minor": 5
}
