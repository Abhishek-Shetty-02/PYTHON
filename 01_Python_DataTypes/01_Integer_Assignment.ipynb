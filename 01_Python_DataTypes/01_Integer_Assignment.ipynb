{
 "cells": [
  {
   "cell_type": "code",
   "execution_count": 13,
   "id": "ca8fd2fb-a33f-4fb0-9b62-af41bf89fdbb",
   "metadata": {},
   "outputs": [],
   "source": [
    "#Question 1: Calculate the product of first 10 natural numbers\n",
    "\n",
    "# product=1\n",
    "# for i in range(1,11):\n",
    "#     product*=i\n",
    "#     print(product)\n",
    "    "
   ]
  },
  {
   "cell_type": "code",
   "execution_count": 5,
   "id": "9322583d-dfb2-4bf4-a3bc-3696a388a972",
   "metadata": {},
   "outputs": [],
   "source": [
    "# Question 2: Find the remainder when 156 is divided by 7\n",
    "# a=156\n",
    "# b=7\n",
    "# print(a%b)\n"
   ]
  },
  {
   "cell_type": "code",
   "execution_count": 41,
   "id": "bc42c95d-2080-4b24-b13e-5f3aab521bb4",
   "metadata": {},
   "outputs": [
    {
     "name": "stdout",
     "output_type": "stream",
     "text": [
      "15625\n"
     ]
    },
    {
     "name": "stdin",
     "output_type": "stream",
     "text": [
      "Enter the Number:  25\n"
     ]
    },
    {
     "name": "stdout",
     "output_type": "stream",
     "text": [
      "625\n"
     ]
    }
   ],
   "source": [
    "# Question 3: Calculate the square of 25\n",
    "# n=25\n",
    "# m=25**3\n",
    "# print(m)\n",
    "\n",
    "#Another Method\n",
    "# Num=int(input(\"Enter the Number: \"))\n",
    "# square=Num**2\n",
    "# print(square)"
   ]
  },
  {
   "cell_type": "code",
   "execution_count": 37,
   "id": "e6d472ea-6e45-4c5a-9294-c4b139a4a34c",
   "metadata": {},
   "outputs": [
    {
     "name": "stdout",
     "output_type": "stream",
     "text": [
      "1953125\n"
     ]
    },
    {
     "name": "stdin",
     "output_type": "stream",
     "text": [
      "Enter the Number:  125\n"
     ]
    },
    {
     "name": "stdout",
     "output_type": "stream",
     "text": [
      "1953125\n"
     ]
    }
   ],
   "source": [
    "# Question 4: Find the cube root of 125\n",
    "# n=125\n",
    "# m=125**3\n",
    "# print(m)\n",
    "\n",
    "#Another Method\n",
    "# Num=int(input(\"Enter the Number: \"))\n",
    "# cube=Num**3\n",
    "# print(cube)"
   ]
  },
  {
   "cell_type": "code",
   "execution_count": null,
   "id": "4b918ac1-053c-4d06-b16e-c010b9380b5f",
   "metadata": {},
   "outputs": [],
   "source": [
    "# Question 5: Calculate the sum of digits in number 12345\n",
    "# number=12345\n",
    "# n=1\n",
    "# dig=n+1\n",
    "\n",
    "    "
   ]
  },
  {
   "cell_type": "code",
   "execution_count": 8,
   "id": "a62226ef-3b3d-4c31-b7a0-172d276be0dc",
   "metadata": {},
   "outputs": [
    {
     "name": "stdout",
     "output_type": "stream",
     "text": [
      "97 is a prime number\n"
     ]
    },
    {
     "name": "stdin",
     "output_type": "stream",
     "text": [
      "Enter the Number:  17\n"
     ]
    },
    {
     "name": "stdout",
     "output_type": "stream",
     "text": [
      "The Given number is a prime number\n"
     ]
    }
   ],
   "source": [
    "# Question 6: Check if 97 is a prime number\n",
    "# n=97\n",
    "# if n%n==0:\n",
    "#     print(\"97 is a prime number\")\n",
    "# else:\n",
    "#     print(\"97 is not a prime number\")\n",
    "\n",
    "#Another method \n",
    "# n=int(input(\"Enter the Number: \"))\n",
    "# if n%n==0:\n",
    "#     print(\"The Given number is a prime number\")\n",
    "# else:\n",
    "#     print(\"The Given number is not a prime number\")"
   ]
  },
  {
   "cell_type": "code",
   "execution_count": 3,
   "id": "9500f580-ea31-4599-a24c-343e25f40543",
   "metadata": {},
   "outputs": [
    {
     "name": "stdout",
     "output_type": "stream",
     "text": [
      "33\n"
     ]
    }
   ],
   "source": [
    "# Question 8: Calculate the average of numbers: 15, 23, 31, 42, 56\n",
    "# avg=15,23,31,42,56\n",
    "# sum=0\n",
    "# for each in avg:\n",
    "#     sum+=each\n",
    "#     m=sum//5\n",
    "# print(m)"
   ]
  },
  {
   "cell_type": "code",
   "execution_count": null,
   "id": "dd2745ca-3cca-4ec9-acd8-2fa0dd56897f",
   "metadata": {},
   "outputs": [],
   "source": [
    "# Question 9: Find the greatest common divisor (GCD) of 48 and 36\n"
   ]
  },
  {
   "cell_type": "code",
   "execution_count": 39,
   "id": "b3b9a27c-c999-4126-834d-11e5e6d72909",
   "metadata": {},
   "outputs": [],
   "source": [
    "# Question 10: Calculate the sum of first 20 odd numbers\n",
    "# n=1\n",
    "# for each in n:\n",
    "#     each+=2\n",
    "# if n%2=!0 and each<40:\n",
    "    \n",
    "\n",
    "\n",
    "#or\n",
    "#n=1,3,5,7,9,11,13,15,17,19,21,23,25,27,29,31,33,35,37,39\n",
    "#for each in n:\n",
    "   # n+=n\n",
    "#break\n",
    "    #print(n)"
   ]
  },
  {
   "cell_type": "code",
   "execution_count": null,
   "id": "eebe28e4-f7e6-43e1-ae95-92ba82c32088",
   "metadata": {},
   "outputs": [],
   "source": []
  }
 ],
 "metadata": {
  "kernelspec": {
   "display_name": "Python 3 (ipykernel)",
   "language": "python",
   "name": "python3"
  },
  "language_info": {
   "codemirror_mode": {
    "name": "ipython",
    "version": 3
   },
   "file_extension": ".py",
   "mimetype": "text/x-python",
   "name": "python",
   "nbconvert_exporter": "python",
   "pygments_lexer": "ipython3",
   "version": "3.12.4"
  }
 },
 "nbformat": 4,
 "nbformat_minor": 5
}
