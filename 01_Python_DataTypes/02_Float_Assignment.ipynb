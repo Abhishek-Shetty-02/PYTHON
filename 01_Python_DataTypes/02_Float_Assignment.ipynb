{
 "cells": [
  {
   "cell_type": "code",
   "execution_count": 2,
   "id": "ed04c190-1bcc-4901-8028-4474aba29477",
   "metadata": {},
   "outputs": [
    {
     "data": {
      "text/plain": [
       "1.87825"
      ]
     },
     "execution_count": 2,
     "metadata": {},
     "output_type": "execute_result"
    }
   ],
   "source": [
    "# Question 1: Calculate the average of 3.14, 2.718, 1.618, 0.577\n",
    "# a=3.14,2.178,1.618,0.577\n",
    "# sum(a)/4"
   ]
  },
  {
   "cell_type": "code",
   "execution_count": 6,
   "id": "ac7f7817-7784-44a2-a4ac-165dfbf21fef",
   "metadata": {},
   "outputs": [],
   "source": [
    "# Question 2: Convert 98.6 Fahrenheit to Celsius (F = C * 9/5 + 32)\n",
    "\n",
    "# f=98.6\n",
    "# c=(f-32)*5/9\n",
    "# c"
   ]
  },
  {
   "cell_type": "code",
   "execution_count": 23,
   "id": "4f589cb5-2bde-498b-b054-a4bc17f85b1e",
   "metadata": {},
   "outputs": [
    {
     "name": "stdout",
     "output_type": "stream",
     "text": [
      "174.24137499999983\n"
     ]
    }
   ],
   "source": [
    "# Question 3: Calculate the compound interest on $1000 at 5.5% for 3 years\n",
    "# p=1000\n",
    "# t=3\n",
    "# n=1\n",
    "# r=5.5/100\n",
    "# amt=p*(1+r/n)**(n*t)\n",
    "# ci=amt-p\n",
    "# print(ci)"
   ]
  },
  {
   "cell_type": "code",
   "execution_count": 45,
   "id": "58a238c8-df28-47c4-af8f-5850060a812e",
   "metadata": {},
   "outputs": [
    {
     "name": "stdout",
     "output_type": "stream",
     "text": [
      "29.89\n",
      "5.4671747731346585\n"
     ]
    }
   ],
   "source": [
    "# Question 4: Find the hypotenuse of a right triangle with sides 3.5 and 4.2\n",
    "# a=3.5\n",
    "# b=4.2\n",
    "# x=a**2 + b**2\n",
    "# print(x)\n",
    "# hypo=x**0.5\n",
    "# print(hypo)"
   ]
  },
  {
   "cell_type": "code",
   "execution_count": 18,
   "id": "02a6c714-9615-4fc7-b6fb-427d92088257",
   "metadata": {},
   "outputs": [
    {
     "name": "stdout",
     "output_type": "stream",
     "text": [
      "248.34887999999998\n"
     ]
    }
   ],
   "source": [
    "# Question 5: Calculate the volume of a sphere with radius 7.8\n",
    "\n",
    "# V = (4/3)πr³\n",
    "\n",
    "# R=7.8\n",
    "# r = R/2\n",
    "\n",
    "# V = (4/3) * 3.14 * r**3\n",
    "\n",
    "# print(V)"
   ]
  },
  {
   "cell_type": "code",
   "execution_count": 35,
   "id": "184e9007-bcd4-4eff-8c8b-cc34422412e2",
   "metadata": {},
   "outputs": [
    {
     "name": "stdout",
     "output_type": "stream",
     "text": [
      "3.142\n"
     ]
    }
   ],
   "source": [
    "# Question 6: Round 3.14159 to 3 decimal places\n",
    "# a=3.14159\n",
    "# b=round(a,3)\n",
    "# print(b)"
   ]
  },
  {
   "cell_type": "code",
   "execution_count": 8,
   "id": "94916bd4-54d1-4ce9-a507-e297a26ae8bb",
   "metadata": {},
   "outputs": [
    {
     "name": "stdout",
     "output_type": "stream",
     "text": [
      "67.16417910447761\n"
     ]
    }
   ],
   "source": [
    "# Question 7: Calculate the percentage: 45 out of 67\n",
    "\n",
    "# per=45/67*100\n",
    "\n",
    "# print(per)"
   ]
  },
  {
   "cell_type": "code",
   "execution_count": 33,
   "id": "7cd30c9b-6bad-4e55-accb-eb76cf8954c2",
   "metadata": {},
   "outputs": [
    {
     "name": "stdout",
     "output_type": "stream",
     "text": [
      "4.843139477652899\n"
     ]
    }
   ],
   "source": [
    "# Question 8: Find the square root of 23.456\n",
    "# a=23.456\n",
    "# b=a**0.5\n",
    "# print(b)"
   ]
  },
  {
   "cell_type": "code",
   "execution_count": 25,
   "id": "15485a63-6f2b-4f9f-897a-7b99ff16e69d",
   "metadata": {},
   "outputs": [
    {
     "name": "stdout",
     "output_type": "stream",
     "text": [
      "406.25\n"
     ]
    }
   ],
   "source": [
    "# Question 9: Calculate the simple interest: Principal=2500, Rate=6.5%, Time=2.5 years\n",
    "# p=2500\n",
    "# r=6.5\n",
    "# t=2.5\n",
    "# si=p*t*r/100\n",
    "# print(si)"
   ]
  },
  {
   "cell_type": "code",
   "execution_count": 12,
   "id": "fe3a5bf3-2998-4d9c-a321-d62070c3b29e",
   "metadata": {},
   "outputs": [
    {
     "data": {
      "text/plain": [
       "0.7976154681614086"
      ]
     },
     "execution_count": 12,
     "metadata": {},
     "output_type": "execute_result"
    }
   ],
   "source": [
    "# Question 10: Convert 45.7 degrees to radians\n",
    "\n",
    "# import math\n",
    "\n",
    "# x=45.7\n",
    "# math.radians(x)\n"
   ]
  }
 ],
 "metadata": {
  "kernelspec": {
   "display_name": "Python 3 (ipykernel)",
   "language": "python",
   "name": "python3"
  },
  "language_info": {
   "codemirror_mode": {
    "name": "ipython",
    "version": 3
   },
   "file_extension": ".py",
   "mimetype": "text/x-python",
   "name": "python",
   "nbconvert_exporter": "python",
   "pygments_lexer": "ipython3",
   "version": "3.12.4"
  }
 },
 "nbformat": 4,
 "nbformat_minor": 5
}
