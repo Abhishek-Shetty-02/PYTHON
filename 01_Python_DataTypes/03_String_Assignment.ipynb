{
 "cells": [
  {
   "cell_type": "code",
   "execution_count": 1,
   "id": "7f48cd29-b66e-4217-8289-6353f2b578f6",
   "metadata": {},
   "outputs": [
    {
     "name": "stdout",
     "output_type": "stream",
     "text": [
      "gnimmargorP nohtyP\n"
     ]
    }
   ],
   "source": [
    "# Question 1: Reverse the string \"Python Programming\"\n",
    "# str=\"Python Programming\"\n",
    "# a=str[::-1]\n",
    "# print(a)"
   ]
  },
  {
   "cell_type": "code",
   "execution_count": null,
   "id": "db897493-1cd4-4d58-85d0-d41344b03822",
   "metadata": {},
   "outputs": [],
   "source": [
    "# Question 2: Check if \"racecar\" is a palindrome"
   ]
  },
  {
   "cell_type": "code",
   "execution_count": 1,
   "id": "2e05a9bb-7778-45b9-b091-a1ef48cfe74a",
   "metadata": {},
   "outputs": [],
   "source": [
    "# Question 3: Count the number of words in \"Python is a great programming language\"\n",
    "\n",
    "# By Count \n",
    "\n",
    "# str=\"Python is a great programming language\"\n",
    "# res=str.count(\" \") + 1\n",
    "# print(res)\n",
    "\n",
    "\n",
    "#Another Method\n",
    "#print(len(input(\"Enter Input:\").split()))\n",
    "\n",
    "# str=\"Python is a great programming language\"\n",
    "# a=len(str.split())\n",
    "\n",
    "# print(a) #6-HERE COMMA IS EXCLUDED"
   ]
  },
  {
   "cell_type": "code",
   "execution_count": 3,
   "id": "bd0c5a39-2281-420f-9538-0bdfb88b8d58",
   "metadata": {},
   "outputs": [],
   "source": [
    "# Question 4: Convert \"hello world\" to title case\n",
    "# a=\"hello world\"\n",
    "# b=a.title()\n",
    "# print(b)"
   ]
  },
  {
   "cell_type": "code",
   "execution_count": 5,
   "id": "c3511cae-3341-4df9-8d8a-a0771db97c90",
   "metadata": {},
   "outputs": [],
   "source": [
    "# Question 5: Find the length of string \"Data Science\"\n",
    "# str=\"Data Science\"\n",
    "# print(len(str))"
   ]
  },
  {
   "cell_type": "code",
   "execution_count": null,
   "id": "b7b23d7c-08de-4cc0-8e28-10307c5cb52e",
   "metadata": {},
   "outputs": [],
   "source": [
    "# Question 6: Replace all spaces with underscores in \"Machine Learning\""
   ]
  },
  {
   "cell_type": "code",
   "execution_count": 7,
   "id": "6bd15185-9a1a-4194-b5c3-f9424c221585",
   "metadata": {},
   "outputs": [],
   "source": [
    "# Question 7: Check if \"python\" is in \"Python Programming Language\"\n",
    "# str=\"Python Programming Language\"\n",
    "# str1=\"python\"\n",
    "# print(len(str))\n",
    "# a=str.find(str1,1,27)\n",
    "# print(a)\n",
    "\n",
    "# str=\"Python Programming Language\"\n",
    "# str1=\"python\"\n",
    "\n",
    "# if str1 in str:\n",
    "#     print(\"python is in the str\")\n",
    "# else:\n",
    "#     print(\"python is not in str\")\n"
   ]
  },
  {
   "cell_type": "code",
   "execution_count": 7,
   "id": "aa150ee1-f6ee-48b9-9a72-d2b1d8cb8c85",
   "metadata": {},
   "outputs": [
    {
     "name": "stdout",
     "output_type": "stream",
     "text": [
      "Artif\n"
     ]
    }
   ],
   "source": [
    "# Question 8: Extract the first 5 characters from \"Artificial Intelligence\"\n",
    "# str=\"Artificial Intelligence\"\n",
    "# a=str[0:5]\n",
    "# print(a)"
   ]
  },
  {
   "cell_type": "code",
   "execution_count": 9,
   "id": "b25a3199-e1c1-45db-bfe1-7d6fbf920597",
   "metadata": {},
   "outputs": [
    {
     "name": "stdout",
     "output_type": "stream",
     "text": [
      "uppercase\n"
     ]
    }
   ],
   "source": [
    "# Question 9: Convert \"UPPERCASE\" to lowercase\n",
    "# str=\"UPPERCASE\"\n",
    "# a=str.lower()\n",
    "# print(a)\n"
   ]
  },
  {
   "cell_type": "code",
   "execution_count": 149,
   "id": "723f1231-10a0-4ef5-b5fb-eb0bd9fd2221",
   "metadata": {},
   "outputs": [
    {
     "name": "stdout",
     "output_type": "stream",
     "text": [
      "Computer Science\n",
      "None\n"
     ]
    }
   ],
   "source": [
    "# Question 10: Remove all vowels from \"Computer Science\"\n",
    "\n",
    "#By using Regular Expressions\n",
    "\n",
    "# import re\n",
    "# def rem_vow(string):\n",
    "#     return(re.sub(\"[aeiouAEIOU]\",\"\",string))\n",
    "\n",
    "# string=\"Computer Science\"\n",
    "# print(rem_vow(string))\n",
    "\n",
    "#By Using Join\n",
    "\n",
    "# def rem_vow(string):\n",
    "#     vow=['aeiouAEIOU']\n",
    "#     res=[letter for letter in string if letter not in vow]\n",
    "#     res=''.join(res)\n",
    "#     print(res)\n",
    "\n",
    "# string=\"Computer Science\"\n",
    "# print(rem_vow(string))"
   ]
  },
  {
   "cell_type": "code",
   "execution_count": 151,
   "id": "cca1c0ef-2c69-460c-96be-d23e9eb37027",
   "metadata": {},
   "outputs": [],
   "source": [
    "# Question 11: Find the most frequent character in \"mississippi\"\n",
    "# str=\"mississippi\"\n",
    "# a=str.count(\"s\")\n",
    "# b=str.count(\"i\")\n",
    "# print(a)\n",
    "\n",
    "#Another method\n",
    "# str1=\"mississippi\"\n",
    "# count=0\n",
    "# for i in str1:\n",
    "    \n",
    "# print(\"the count of 's' in 'Success' is:\",str1(count))"
   ]
  },
  {
   "cell_type": "code",
   "execution_count": null,
   "id": "6f60b5ff-8d80-414c-9b68-5428023239d2",
   "metadata": {},
   "outputs": [],
   "source": [
    "# Question 12: Check if two strings are anagrams: \"listen\" and \"silent\""
   ]
  },
  {
   "cell_type": "code",
   "execution_count": null,
   "id": "a9e69929-2673-4169-b5a7-3bc58b37ae4f",
   "metadata": {},
   "outputs": [],
   "source": [
    "# Question 13: Capitalize first letter of each word in \"python programming language\""
   ]
  },
  {
   "cell_type": "code",
   "execution_count": null,
   "id": "b6f9058f-5072-4aac-99d6-f172725a22c7",
   "metadata": {},
   "outputs": [],
   "source": [
    "# Question 14: Count consonants in \"Hello World\""
   ]
  },
  {
   "cell_type": "code",
   "execution_count": null,
   "id": "c2fb8387-8eae-4223-9c6e-6e5a0682ea91",
   "metadata": {},
   "outputs": [],
   "source": [
    "# Question 15: Find the longest word in \"Python is a programming language\""
   ]
  },
  {
   "cell_type": "code",
   "execution_count": null,
   "id": "0de2384e-9b49-4d2d-81e7-cb249d6565eb",
   "metadata": {},
   "outputs": [],
   "source": [
    "# Question 16: Remove all punctuation from \"Hello, World! How are you?\"\n",
    "\n",
    " "
   ]
  },
  {
   "cell_type": "code",
   "execution_count": null,
   "id": "edbe6f36-4be1-4763-8961-1ae394a9f2d6",
   "metadata": {},
   "outputs": [],
   "source": [
    "# Question 17: Check if string starts with \"Python\""
   ]
  },
  {
   "cell_type": "code",
   "execution_count": null,
   "id": "4756f62e-4282-4ac3-a6c1-f8b7ae7f782c",
   "metadata": {},
   "outputs": [],
   "source": [
    "# Question 18: Find the index of first occurrence of 'o' in \"Hello World\""
   ]
  },
  {
   "cell_type": "code",
   "execution_count": 153,
   "id": "98f9b229-dc0c-484a-a426-42e9a0b453ca",
   "metadata": {},
   "outputs": [],
   "source": [
    "# Question 19: Split string \"apple,banana,orange\" by comma\n",
    "# str=\"apple,banana,orange\"\n",
    "# a=str.split(\"\",0)\n",
    "# print(a)"
   ]
  },
  {
   "cell_type": "code",
   "execution_count": null,
   "id": "32e1f161-5ce6-41ac-a20f-6f0f8030ed81",
   "metadata": {},
   "outputs": [],
   "source": [
    "# Question 20: Join list ['Python', 'is', 'awesome'] with spaces"
   ]
  },
  {
   "cell_type": "code",
   "execution_count": null,
   "id": "d3d10f41-6c5f-4e5b-bdbf-c123cfc3c181",
   "metadata": {},
   "outputs": [],
   "source": [
    "# Question 21: Check if string contains only digits: \"12345\""
   ]
  },
  {
   "cell_type": "code",
   "execution_count": null,
   "id": "33a20de8-67d9-42db-bbfd-69802c3ce038",
   "metadata": {},
   "outputs": [],
   "source": [
    "# Question 22: Check if string contains only letters: \"HelloWorld\""
   ]
  },
  {
   "cell_type": "code",
   "execution_count": null,
   "id": "490ec890-bb6e-4c22-b135-16b20e432951",
   "metadata": {},
   "outputs": [],
   "source": [
    "# Question 23: Convert \"hello world\" to \"hElLo WoRlD\" (alternating case)"
   ]
  },
  {
   "cell_type": "code",
   "execution_count": null,
   "id": "8c707de9-e8d5-4ff4-9f65-cf61a2635306",
   "metadata": {},
   "outputs": [],
   "source": [
    "# Question 24: Find all positions of 'a' in \"banana\""
   ]
  },
  {
   "cell_type": "code",
   "execution_count": null,
   "id": "c75343ee-787f-46f3-bc29-3205ea5df720",
   "metadata": {},
   "outputs": [],
   "source": [
    "# Question 25: Remove leading and trailing whitespace from \"  Hello World  \""
   ]
  },
  {
   "cell_type": "code",
   "execution_count": null,
   "id": "b8962433-3603-409d-a23a-450c3839b38e",
   "metadata": {},
   "outputs": [],
   "source": [
    "# Question 26: Check if string ends with \"ing\": \"programming\""
   ]
  },
  {
   "cell_type": "code",
   "execution_count": null,
   "id": "737f6cc3-c360-4659-bc0a-4c5921378efd",
   "metadata": {},
   "outputs": [],
   "source": [
    "# Question 27: Replace first occurrence of 'o' with '0' in \"Hello World\""
   ]
  },
  {
   "cell_type": "code",
   "execution_count": null,
   "id": "f0817dda-137d-4506-8e51-d3396d929c49",
   "metadata": {},
   "outputs": [],
   "source": [
    "# Question 28: Find the shortest word in \"Python is a programming language\""
   ]
  },
  {
   "cell_type": "code",
   "execution_count": null,
   "id": "64ff8680-dbba-4174-982a-842cbbe4db2d",
   "metadata": {},
   "outputs": [],
   "source": [
    "# Question 29: Count words that start with 'p' in \"Python programming is powerful\""
   ]
  },
  {
   "cell_type": "code",
   "execution_count": 117,
   "id": "af438776-3242-42bf-897c-0abfc484d7b8",
   "metadata": {},
   "outputs": [
    {
     "name": "stdout",
     "output_type": "stream",
     "text": [
      "nohtyP dlroW olleH\n"
     ]
    }
   ],
   "source": [
    "# Question 30: Reverse words in \"Hello World Python\"\n",
    "# str=\"Hello World Python\"\n",
    "# a=str[::-1]\n",
    "# print(a)"
   ]
  },
  {
   "cell_type": "code",
   "execution_count": null,
   "id": "3c1ad86e-ddcd-4885-aebb-51ed9200a6c5",
   "metadata": {},
   "outputs": [],
   "source": [
    "# Question 31: Check if string is a valid email format: \"user@example.com\""
   ]
  },
  {
   "cell_type": "code",
   "execution_count": null,
   "id": "24f6cb46-03fe-4f78-95d6-d810ceb840a1",
   "metadata": {},
   "outputs": [],
   "source": [
    "# Question 32: Extract domain from \"https://www.example.com/path\""
   ]
  },
  {
   "cell_type": "code",
   "execution_count": null,
   "id": "23e24b06-e1d9-41ec-9dca-b721e54b25b3",
   "metadata": {},
   "outputs": [],
   "source": [
    "# Question 33: Count lines in multi-line string"
   ]
  },
  {
   "cell_type": "code",
   "execution_count": null,
   "id": "a68b643e-6526-4711-bc96-2a1bb62faea1",
   "metadata": {},
   "outputs": [],
   "source": [
    "# Question 34: Find common characters between \"hello\" and \"world\""
   ]
  },
  {
   "cell_type": "code",
   "execution_count": null,
   "id": "45bd28b7-1617-440a-b4b9-de8ad16d54cd",
   "metadata": {},
   "outputs": [],
   "source": [
    "# Question 35: Check if string is a valid phone number: \"+1-555-123-4567\""
   ]
  },
  {
   "cell_type": "code",
   "execution_count": null,
   "id": "b283e211-ee26-4ab5-b636-4a76ff8a1849",
   "metadata": {},
   "outputs": [],
   "source": [
    "# Question 36: Extract numbers from \"abc123def456ghi789\""
   ]
  },
  {
   "cell_type": "code",
   "execution_count": null,
   "id": "f08c89ea-d5b1-4431-82f4-5c51d7fd6731",
   "metadata": {},
   "outputs": [],
   "source": [
    "# Question 37: Convert \"snake_case\" to \"camelCase\""
   ]
  },
  {
   "cell_type": "code",
   "execution_count": null,
   "id": "68d92c6a-9a37-4037-9937-5dcce7e7934b",
   "metadata": {},
   "outputs": [],
   "source": [
    "# Question 38: Check if string is a valid palindrome ignoring case: \"A man a plan a canal Panama\""
   ]
  },
  {
   "cell_type": "code",
   "execution_count": null,
   "id": "283cab57-f817-44d5-9ce4-90d19f5d8c6c",
   "metadata": {},
   "outputs": [],
   "source": [
    "# Question 39: Find the most common word in \"the quick brown fox jumps over the lazy dog\""
   ]
  },
  {
   "cell_type": "code",
   "execution_count": null,
   "id": "bc3e5e72-f88b-4fdb-af02-6f43005d7aaf",
   "metadata": {},
   "outputs": [],
   "source": [
    "# Question 40: Generate acronym from \"National Aeronautics and Space Administration\""
   ]
  },
  {
   "cell_type": "code",
   "execution_count": null,
   "id": "e99b0f04-d940-4897-b5a1-b59191e58e4c",
   "metadata": {},
   "outputs": [],
   "source": [
    "# Question 41: Check if string contains balanced parentheses: \"((()))\""
   ]
  },
  {
   "cell_type": "code",
   "execution_count": null,
   "id": "a02c7125-34d6-4b58-987e-3820c549adbc",
   "metadata": {},
   "outputs": [],
   "source": [
    "# Question 42: Convert \"hello world\" to Morse code"
   ]
  },
  {
   "cell_type": "code",
   "execution_count": null,
   "id": "0fd7629d-e3d9-4c71-bc8f-c47e0c347cbf",
   "metadata": {},
   "outputs": [],
   "source": [
    "# Question 43: Find the longest common substring between \"programming\" and \"grammar\""
   ]
  },
  {
   "cell_type": "code",
   "execution_count": null,
   "id": "2d94c12f-d746-4d54-a13a-4d907a115536",
   "metadata": {},
   "outputs": [],
   "source": [
    "# Question 44: Check if string is a valid URL: \"https://www.google.com\""
   ]
  },
  {
   "cell_type": "code",
   "execution_count": null,
   "id": "2fba7ac4-b138-432c-a1f6-6f9398bbb1c8",
   "metadata": {},
   "outputs": [],
   "source": [
    "# Question 45: Extract all words with length > 5 from \"Python programming is amazing and powerful\""
   ]
  },
  {
   "cell_type": "code",
   "execution_count": null,
   "id": "52cc555d-8c7d-4d32-894d-b73fa08aaf28",
   "metadata": {},
   "outputs": [],
   "source": [
    "# Question 46: Convert \"hello world\" to Pig Latin"
   ]
  },
  {
   "cell_type": "code",
   "execution_count": null,
   "id": "84942411-fe5f-446e-927d-bc389fb5d6be",
   "metadata": {},
   "outputs": [],
   "source": [
    "# Question 47: Check if string is a valid IPv4 address: \"192.168.1.1\""
   ]
  },
  {
   "cell_type": "code",
   "execution_count": null,
   "id": "a688049b-66e1-407d-b87a-eaca0a186921",
   "metadata": {},
   "outputs": [],
   "source": [
    "# Question 48: Find all substrings of \"abc\""
   ]
  },
  {
   "cell_type": "code",
   "execution_count": null,
   "id": "c8a409cc-66e0-47d7-9c10-ba36716052a6",
   "metadata": {},
   "outputs": [],
   "source": [
    "# Question 49: Convert \"hello world\" to ROT13 encoding"
   ]
  },
  {
   "cell_type": "code",
   "execution_count": null,
   "id": "9f3108b6-2448-4ecd-b8aa-3d979d474daf",
   "metadata": {},
   "outputs": [],
   "source": [
    "# Question 50: Check if string is a valid credit card number: \"4532015112830366\""
   ]
  }
 ],
 "metadata": {
  "kernelspec": {
   "display_name": "Python 3 (ipykernel)",
   "language": "python",
   "name": "python3"
  },
  "language_info": {
   "codemirror_mode": {
    "name": "ipython",
    "version": 3
   },
   "file_extension": ".py",
   "mimetype": "text/x-python",
   "name": "python",
   "nbconvert_exporter": "python",
   "pygments_lexer": "ipython3",
   "version": "3.12.4"
  }
 },
 "nbformat": 4,
 "nbformat_minor": 5
}
