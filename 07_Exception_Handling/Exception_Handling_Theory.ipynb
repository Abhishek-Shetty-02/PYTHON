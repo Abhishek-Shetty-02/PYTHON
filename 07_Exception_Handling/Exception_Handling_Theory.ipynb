{
 "cells": [
  {
   "cell_type": "markdown",
   "id": "edf89f64-3cf1-4a15-bca6-5ec9d8623942",
   "metadata": {},
   "source": [
    "# Exception Handling Theory 01"
   ]
  },
  {
   "cell_type": "code",
   "execution_count": 2,
   "id": "32370ef7-ece6-4e34-bf55-79a60302f3e6",
   "metadata": {},
   "outputs": [
    {
     "name": "stdout",
     "output_type": "stream",
     "text": [
      "27\n"
     ]
    }
   ],
   "source": [
    "try:\n",
    "    print(2+25)\n",
    "except:\n",
    "    print(\"Try except block\")"
   ]
  },
  {
   "cell_type": "code",
   "execution_count": 4,
   "id": "d8c70156-bdc3-420c-99b1-b8763cc5d2ce",
   "metadata": {},
   "outputs": [
    {
     "name": "stdin",
     "output_type": "stream",
     "text": [
      " 60\n"
     ]
    },
    {
     "name": "stdout",
     "output_type": "stream",
     "text": [
      "Data\n"
     ]
    }
   ],
   "source": [
    "try:\n",
    "    print(100+ input())\n",
    "except:\n",
    "    print(\"Data\")\n",
    "\n",
    "#O/P: 60 and Data Since Input function treat agruments as a String."
   ]
  },
  {
   "cell_type": "code",
   "execution_count": 8,
   "id": "0f985500-5303-45e9-bad1-709405e2c851",
   "metadata": {},
   "outputs": [
    {
     "name": "stdout",
     "output_type": "stream",
     "text": [
      "Except block will be executed\n",
      "Finally block always executes\n"
     ]
    }
   ],
   "source": [
    "try:\n",
    "    print(4/0)\n",
    "except:\n",
    "    print(\"Except block will be executed\")\n",
    "else:\n",
    "    print(\"Else block will be executed\")\n",
    "finally:\n",
    "    print(\"Finally block always executes\")"
   ]
  },
  {
   "cell_type": "code",
   "execution_count": 6,
   "id": "73a38a3b-a6a3-42c6-bbfe-efb4dfe4a32b",
   "metadata": {},
   "outputs": [
    {
     "name": "stdout",
     "output_type": "stream",
     "text": [
      "Cannot divide by Zero\n",
      "Division Operation is done\n"
     ]
    }
   ],
   "source": [
    "try:\n",
    "    a,b=10,0\n",
    "    result=a/b\n",
    "except:\n",
    "    print(\"Cannot divide by Zero\")\n",
    "else:\n",
    "    print(\"Division Result:\",result)\n",
    "finally:\n",
    "    print(\"Division Operation is done\")"
   ]
  },
  {
   "cell_type": "code",
   "execution_count": 10,
   "id": "ea8d14e9-184b-4289-8ba5-91e016be4e33",
   "metadata": {},
   "outputs": [
    {
     "name": "stdin",
     "output_type": "stream",
     "text": [
      " 100\n"
     ]
    },
    {
     "name": "stdout",
     "output_type": "stream",
     "text": [
      "Converted: 199\n",
      "Conversion Attempt finished \n",
      "\n"
     ]
    }
   ],
   "source": [
    "# Convert given Integer String to Number\n",
    "\n",
    "try:\n",
    "    Value=int(input())   #Not works for Float\n",
    "except ValueError:\n",
    "    print(\"Invalid Integer\")\n",
    "else:\n",
    "    print(\"Converted:\", Value + 99)\n",
    "finally:\n",
    "    print(\"Conversion Attempt finished \\n\")"
   ]
  },
  {
   "cell_type": "code",
   "execution_count": 12,
   "id": "adbc3043-446a-47fc-8970-a7f469afde73",
   "metadata": {},
   "outputs": [
    {
     "name": "stdout",
     "output_type": "stream",
     "text": [
      "Power:  125\n",
      "Computation finished\n",
      "\n"
     ]
    }
   ],
   "source": [
    "#Calculate power of a given number by using Exceptions\n",
    "\n",
    "try:\n",
    "    base,exp=5,3\n",
    "    result=base**exp\n",
    "except Exception as e:\n",
    "    print(\"Error:\",e)\n",
    "else:\n",
    "    print(\"Power: \",result)\n",
    "finally:\n",
    "    print(\"Computation finished\\n\")"
   ]
  },
  {
   "cell_type": "code",
   "execution_count": null,
   "id": "6aab3a13-1177-4904-adbc-f7a6bb7f4449",
   "metadata": {},
   "outputs": [],
   "source": [
    "#Built-in Exceptions\n",
    "\n",
    "# ValueError\n",
    "\n",
    "# try:\n",
    "#     num=int(\"abc\")\n",
    "#     print(num)\n",
    "# except ValueError as e:\n",
    "#     print(e)\n",
    "\n",
    "# TypeError\n",
    "\n",
    "# try:\n",
    "#     result=25 + \"5\"\n",
    "# except TypeError as e:\n",
    "#     print(\"Error\",e\n",
    "\n",
    "# Index Error\n",
    "\n",
    "# try:\n",
    "#     ls=[1,2,3,5,9]\n",
    "#     print(ls[10])   # Specifiy Index Range: ls[20:30] it dont throw error instead, it gives Empty List\n",
    "# except IndexError as e:\n",
    "#     print(\"Error:\",e)\n",
    "\n",
    "# Methods: Multiple except blocks\n",
    "\n",
    "#Except block: It handles only errors which are present in the except block.\n",
    "\n",
    "# try:\n",
    "#     ls=[1,2,3,5,9]\n",
    "#     print(ls[20:30])   # Specifiy Index Range: ls[20:30] it dont throw error instead, it gives Empty List\n",
    "#     print(10/0)\n",
    "# except IndexError as e:  ##Except block: It handles only errors which are present in the except block.\n",
    "#     print(\"Error:\",e)\n",
    "# except:\n",
    "#     print(\"Output\")\n",
    "\n",
    "\n",
    "\n",
    "\n",
    "# try:\n",
    "#     ls=[1,2,3,5,9]\n",
    "#     print(ls[20:30])   # Specifiy Index Range: ls[20:30] it dont throw error instead, it gives Empty List\n",
    "#     print(10/0)\n",
    "# except IndexError as e:  #Except block: It handles only errors which are present in the except block.\n",
    "#     print(\"Error:\",e)\n",
    "# except ZeroDivisionError as e:  #Here we are specifiying the ZeroDivisionError.\n",
    "#     print(\"Error:\",e)\n",
    "# except:\n",
    "#     print(\"Output\")\n",
    "\n",
    "\n",
    "\n",
    "# KeyError\n",
    "\n",
    "# try:\n",
    "#     dict={'a':10}\n",
    "#     print(dict['b'])\n",
    "# except KeyError as e:\n",
    "#     print(\"Error:\",e)\n",
    "\n",
    "\n",
    "\n",
    "# FileNotFoundError\n",
    "\n",
    "# f=open(\"Sample.txt\")\n",
    "# print(f.read())\n",
    "\n",
    "\n",
    "# try:\n",
    "#     f=open(\"Sample.txt\")\n",
    "#     print(f.read())\n",
    "# except FileNotFoundError as e:\n",
    "#     print(\"Error:\",e)\n",
    "\n",
    "\n",
    "# AttributeError\n",
    "\n",
    "# try:\n",
    "#     x=20\n",
    "#     x.append(6)\n",
    "# except AttributeError as e:\n",
    "#     print(\"Error:\",e)\n",
    "\n",
    "\n",
    "# ModuleNotFoundError\n",
    "\n",
    "# try:\n",
    "#     import nomodule\n",
    "# except ModuleNotFoundError as e:\n",
    "#     print(\"Error:\",e)\n",
    "\n",
    "\n",
    "# MemoryError\n",
    "\n",
    "# try:\n",
    "#     output=[1]*100000000000000\n",
    "# except MemoryError as e:\n",
    "#     print(\"Error:\",e)\n",
    "\n",
    "\n",
    "# OverflowError\n",
    "\n",
    "# import math\n",
    "# print(math.exp(99))\n",
    "\n",
    "\n",
    "# RecursionError\n",
    "\n",
    "#DeadLock Triggers in Sql\n",
    "\n",
    "# def f1():\n",
    "#     return f1()\n",
    "# try:\n",
    "#     f1()\n",
    "# except RecursionError as e:\n",
    "#     print(\"Error\",e)\n",
    "\n",
    "\n",
    "# NameError\n",
    "# IndentationError\n",
    "# SyntaxError\n",
    "\n",
    "# UnboundLocalError: Using variables without declaring it.\n",
    "\n",
    "# def function():\n",
    "    \n",
    "#     try:\n",
    "#        print(x)\n",
    "#        x=10\n",
    "#     except:\n",
    "#        print(e)\n",
    "#     function()\n",
    "        \n",
    "\n",
    "# PermissionError: if the file in the read mode, you try to write to that file.\n",
    "\n",
    "\n",
    "# EOFError: End of the File Error\n",
    "\n",
    "\n",
    "# try:\n",
    "#     Value=input(\"Enter Something: \")\n",
    "#     print(\"You Entered:\",Value)\n",
    "# except EOFError as e:\n",
    "#     print(\"Error:\",e)\n",
    "\n",
    "\n",
    "# UnicodeError : Encoding and Decoding\n",
    "\n",
    "# Encoding: The process of converting text data into Bytes.\n",
    "# Different Formats: 1) ASCII  2) UTF utf-8 and utf-16\n",
    "\n",
    "\n",
    "# try:\n",
    "#     b\"\\xff\".decode(\"utf-8\")\n",
    "# except UnicodeError as e:\n",
    "#     print(\"Error:\",e)\n",
    "\n",
    "\n",
    "# try:\n",
    "#     b\"Ã\".encode(\"ascii\")\n",
    "# except UnicodeEncodeError as e:\n",
    "#     print(\"Error:\",e)"
   ]
  },
  {
   "cell_type": "code",
   "execution_count": 14,
   "id": "3d19f3eb-2225-4d71-b124-b0923addab80",
   "metadata": {},
   "outputs": [
    {
     "data": {
      "text/plain": [
       "'\\nHelp-Desk chatbot:\\n\\nConvert json to DataFrame\\n19 Rows, Nu of Columns\\n\\nException handling: handling by writing multiple except blocks\\n         utf-8\\n         utf-16\\n         ascii\\n         latin1\\n\\nAlong with 19 Rows, Nu of Columns, Add new 4 columns with length of the Each Columns \\n\\n\\nNew_Column 01      New_Column 02\\nSubject            len(Subject)\\nDescription        ...........\\nResolution         .........\\nResolution_steps   .........\\n\\n'"
      ]
     },
     "execution_count": 14,
     "metadata": {},
     "output_type": "execute_result"
    }
   ],
   "source": [
    "\n",
    "\"\"\"\n",
    "Help-Desk chatbot:\n",
    "\n",
    "Convert json to DataFrame\n",
    "19 Rows, Nu of Columns\n",
    "\n",
    "Exception handling: handling by writing multiple except blocks\n",
    "         utf-8\n",
    "         utf-16\n",
    "         ascii\n",
    "         latin1\n",
    "\n",
    "Along with 19 Rows, Nu of Columns, Add new 4 columns with length of the Each Columns \n",
    "\n",
    "\n",
    "New_Column 01      New_Column 02\n",
    "Subject            len(Subject)\n",
    "Description        ...........\n",
    "Resolution         .........\n",
    "Resolution_steps   .........\n",
    "\n",
    "\"\"\""
   ]
  },
  {
   "cell_type": "markdown",
   "id": "6ab6c56d-da17-4f81-a3fe-d2ec24cb4ca5",
   "metadata": {},
   "source": [
    "# Exception Handling Theory 02"
   ]
  },
  {
   "cell_type": "code",
   "execution_count": null,
   "id": "4d2b17c3-e196-47c4-824f-135968362282",
   "metadata": {},
   "outputs": [],
   "source": []
  }
 ],
 "metadata": {
  "kernelspec": {
   "display_name": "Python 3 (ipykernel)",
   "language": "python",
   "name": "python3"
  },
  "language_info": {
   "codemirror_mode": {
    "name": "ipython",
    "version": 3
   },
   "file_extension": ".py",
   "mimetype": "text/x-python",
   "name": "python",
   "nbconvert_exporter": "python",
   "pygments_lexer": "ipython3",
   "version": "3.12.4"
  }
 },
 "nbformat": 4,
 "nbformat_minor": 5
}
