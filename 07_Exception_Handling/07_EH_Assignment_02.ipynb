{
 "cells": [
  {
   "cell_type": "markdown",
   "id": "945d9fd0-a20e-4929-8f6b-516767ef97d5",
   "metadata": {},
   "source": [
    "# Basic Level"
   ]
  },
  {
   "cell_type": "code",
   "execution_count": null,
   "id": "6b0176d5-3336-4116-b64c-4808add3a06e",
   "metadata": {},
   "outputs": [],
   "source": [
    "# 1. Write a program to handle division by zero using try-except."
   ]
  },
  {
   "cell_type": "code",
   "execution_count": null,
   "id": "51506056-6131-4695-9c74-2ffb3f56e32c",
   "metadata": {},
   "outputs": [],
   "source": [
    "# 2. Write a program to handle invalid user input (string instead of number)."
   ]
  },
  {
   "cell_type": "code",
   "execution_count": null,
   "id": "6fc63730-f891-467c-973e-6162ac3fc5d0",
   "metadata": {},
   "outputs": [],
   "source": [
    "# 3. Write a program to open a file and handle FileNotFoundError"
   ]
  },
  {
   "cell_type": "code",
   "execution_count": null,
   "id": "3241cc5c-c31b-4c14-b4fc-551aa2c83f8a",
   "metadata": {},
   "outputs": [],
   "source": [
    "# 4. Write a program that handles multiple exceptions (ZeroDivisionError, ValueError)."
   ]
  },
  {
   "cell_type": "code",
   "execution_count": null,
   "id": "02bd65c5-3a52-49d2-93cf-7eb0751cbe89",
   "metadata": {},
   "outputs": [],
   "source": [
    "# 5. Write a program using try-except-else to check if a number is even."
   ]
  },
  {
   "cell_type": "code",
   "execution_count": null,
   "id": "5d79a22a-98c9-4466-91ca-011de0e74704",
   "metadata": {},
   "outputs": [],
   "source": [
    "# 6. Write a program with finally block to always display \"Execution Completed\"."
   ]
  },
  {
   "cell_type": "code",
   "execution_count": null,
   "id": "e9d4f0a2-66e3-482e-a925-e3cd30eb33da",
   "metadata": {},
   "outputs": [],
   "source": [
    "# 7. Write a program to demonstrate nested try-except blocks."
   ]
  },
  {
   "cell_type": "code",
   "execution_count": null,
   "id": "288b608a-1aa7-48b6-b7f0-1bb7b420518d",
   "metadata": {},
   "outputs": [],
   "source": [
    "# 8. Write a program that asks for two numbers and handles both division and conversion errors."
   ]
  },
  {
   "cell_type": "code",
   "execution_count": null,
   "id": "4e47bd2f-51e0-4216-a254-91776f3413ab",
   "metadata": {},
   "outputs": [],
   "source": [
    "# 9. Write a program that raises and handles a TypeError."
   ]
  },
  {
   "cell_type": "code",
   "execution_count": null,
   "id": "b120dd97-bc26-4f84-9fe2-204f301d4709",
   "metadata": {},
   "outputs": [],
   "source": [
    "# 10."
   ]
  },
  {
   "cell_type": "markdown",
   "id": "66403389-528a-4989-88c9-5febdfe01bc1",
   "metadata": {},
   "source": [
    "# Intermediate Level"
   ]
  },
  {
   "cell_type": "code",
   "execution_count": null,
   "id": "e2e7cd10-4e25-46d8-b1c9-38a388ba7b03",
   "metadata": {},
   "outputs": [],
   "source": [
    "# 1. Write a function to withdraw money and raise an exception if balance < withdrawal.\n"
   ]
  },
  {
   "cell_type": "code",
   "execution_count": null,
   "id": "0162fd28-5138-4cf3-aeca-3291590370e2",
   "metadata": {},
   "outputs": [],
   "source": [
    "# 2. Write a function that validates age and raises an exception if age < 18."
   ]
  },
  {
   "cell_type": "code",
   "execution_count": null,
   "id": "a2f29324-f186-40d3-9a07-3da79da9ae29",
   "metadata": {},
   "outputs": [],
   "source": [
    "# 3. Write a program to validate email format and raise a custom exception."
   ]
  },
  {
   "cell_type": "code",
   "execution_count": null,
   "id": "b1435048-245f-449d-a070-73cfc83ab073",
   "metadata": {},
   "outputs": [],
   "source": [
    "# 4. Write a custom exception NegativeNumberError and use it in a square root function."
   ]
  },
  {
   "cell_type": "code",
   "execution_count": null,
   "id": "30401733-4455-48c2-b4a3-2a8f44ebaa5a",
   "metadata": {},
   "outputs": [],
   "source": [
    "# 5. Write a custom exception for InsufficientFundsError in a banking system."
   ]
  },
  {
   "cell_type": "code",
   "execution_count": null,
   "id": "6636a5a4-3573-4dd0-9e28-2e01d526ffd3",
   "metadata": {},
   "outputs": [],
   "source": [
    "# 6. Write a program that handles exceptions while parsing JSON."
   ]
  },
  {
   "cell_type": "code",
   "execution_count": null,
   "id": "3eea9843-a955-4abf-b4e4-45c43e58a81c",
   "metadata": {},
   "outputs": [],
   "source": [
    "# 7. Write a program to retry dividing two numbers 3 times if an error occurs."
   ]
  },
  {
   "cell_type": "code",
   "execution_count": null,
   "id": "5555dd25-3867-4076-9f78-16a1c4548ad0",
   "metadata": {},
   "outputs": [],
   "source": [
    "# 8. Write a program that uses assert to validate positive numbers and handle AssertionError."
   ]
  },
  {
   "cell_type": "code",
   "execution_count": null,
   "id": "04ba2c91-dd65-4113-a7e8-60bd538473ce",
   "metadata": {},
   "outputs": [],
   "source": [
    "# 9. Write a program that logs exceptions to a file using logging module."
   ]
  },
  {
   "cell_type": "code",
   "execution_count": null,
   "id": "f6c8fe38-5d49-43b0-85d2-75dad136850e",
   "metadata": {},
   "outputs": [],
   "source": [
    "# 10. Write a program that raises multiple custom exceptions (InvalidPasswordError, InvalidUsernameError)."
   ]
  },
  {
   "cell_type": "markdown",
   "id": "7f1c8b9b-071f-48e9-a3a7-52b9ec67c787",
   "metadata": {},
   "source": [
    "# Advanced Level"
   ]
  },
  {
   "cell_type": "code",
   "execution_count": null,
   "id": "be159538-0495-4f71-b4d5-7581f6f4accb",
   "metadata": {},
   "outputs": [],
   "source": [
    "# 1. Write a program that demonstrates exception propagation across multiple functions."
   ]
  },
  {
   "cell_type": "code",
   "execution_count": null,
   "id": "365ad7eb-ff2e-4f37-aa69-f48acee2b2cc",
   "metadata": {},
   "outputs": [],
   "source": [
    "# 2. Write a program using exception chaining (raise ... from ...)."
   ]
  },
  {
   "cell_type": "code",
   "execution_count": null,
   "id": "bafd3763-0c4d-418f-b82a-729a24e13242",
   "metadata": {},
   "outputs": [],
   "source": [
    "# 3. Write a program that simulates database connection and raises custom exceptions."
   ]
  },
  {
   "cell_type": "code",
   "execution_count": null,
   "id": "8ea4b37f-81f4-42d6-a53c-5c54cda4fac2",
   "metadata": {},
   "outputs": [],
   "source": [
    "# 4. Write a program that reads from a file using with statement and handles errors."
   ]
  },
  {
   "cell_type": "code",
   "execution_count": null,
   "id": "3d8f988a-a91a-448e-85eb-8157382f01b2",
   "metadata": {},
   "outputs": [],
   "source": [
    "# 5. Write a program that skips bad data rows in a CSV file using exception handling."
   ]
  },
  {
   "cell_type": "code",
   "execution_count": null,
   "id": "1d75cbc9-f9a5-4dbf-b5c4-d51c78581e1e",
   "metadata": {},
   "outputs": [],
   "source": [
    "# 6. Write a program that handles timeout error when connecting to a server (use requests)."
   ]
  },
  {
   "cell_type": "code",
   "execution_count": null,
   "id": "b80019ee-a889-4d89-b676-ee05bb0e2cd7",
   "metadata": {},
   "outputs": [],
   "source": [
    "# 7. Write a program that handles exceptions in a recursive factorial function."
   ]
  },
  {
   "cell_type": "code",
   "execution_count": null,
   "id": "12e46666-4540-4bce-b263-52a01257b2c4",
   "metadata": {},
   "outputs": [],
   "source": [
    "# 8. Write a program that simulates transaction rollback in a banking system using exceptions."
   ]
  },
  {
   "cell_type": "code",
   "execution_count": null,
   "id": "25c262cd-87b6-4a3f-b485-1534bd6035cb",
   "metadata": {},
   "outputs": [],
   "source": [
    "# 9. Write a program to validate credit card numbers and raise exceptions for invalid inputs."
   ]
  },
  {
   "cell_type": "code",
   "execution_count": null,
   "id": "b3125708-c730-46c8-a6f5-d29fa4adc5a8",
   "metadata": {},
   "outputs": [],
   "source": [
    "# 10. Write a program that raises an exception if memory usage goes beyond a threshold."
   ]
  },
  {
   "cell_type": "markdown",
   "id": "2ce0f3f3-4c11-46b0-b9a8-4ba048077bbb",
   "metadata": {},
   "source": [
    "# Data Engineering / Real-World Scenarios"
   ]
  },
  {
   "cell_type": "code",
   "execution_count": null,
   "id": "02c2a610-294e-4a66-b7b3-9369d0e43ea0",
   "metadata": {},
   "outputs": [],
   "source": [
    "# 1. Write a program that raises a custom exception if a data file is missing."
   ]
  },
  {
   "cell_type": "code",
   "execution_count": null,
   "id": "c1ba0b9e-9476-4f6f-a4cc-1302ebead7b7",
   "metadata": {},
   "outputs": [],
   "source": [
    "# 2. Write a program that raises exceptions when schema mismatch occurs in a dataset."
   ]
  },
  {
   "cell_type": "code",
   "execution_count": null,
   "id": "b75b2716-8a2f-4569-bf14-cefde9a9e263",
   "metadata": {},
   "outputs": [],
   "source": [
    "# 3. Write a program that handles KeyError while accessing dictionary values in a dataset."
   ]
  },
  {
   "cell_type": "code",
   "execution_count": null,
   "id": "0c26f35e-1d76-4d83-8045-518e679c5dea",
   "metadata": {},
   "outputs": [],
   "source": [
    "# 4. Write a program to simulate ETL pipeline exception handling (Extract → Transform → Load)."
   ]
  },
  {
   "cell_type": "code",
   "execution_count": null,
   "id": "40430e8a-1518-4f22-aca9-73be4f8c6324",
   "metadata": {},
   "outputs": [],
   "source": [
    "# 5. Write a program to catch exceptions while reading data from an API."
   ]
  },
  {
   "cell_type": "code",
   "execution_count": null,
   "id": "aeb30e2d-2465-4d2e-8776-284b1e938530",
   "metadata": {},
   "outputs": [],
   "source": [
    "# 6. Write a program to handle exceptions while connecting to Azure Blob Storage (mocked)."
   ]
  },
  {
   "cell_type": "code",
   "execution_count": null,
   "id": "205495b1-9704-4b8d-9206-255ccd404b3d",
   "metadata": {},
   "outputs": [],
   "source": [
    "# 7. Write a program that handles exceptions when reading from a corrupted JSON file."
   ]
  },
  {
   "cell_type": "code",
   "execution_count": null,
   "id": "81ed1829-2f51-4447-9b55-437847f2d600",
   "metadata": {},
   "outputs": [],
   "source": [
    "# 8. Write a program that raises an exception when duplicate data is found in a dataset."
   ]
  },
  {
   "cell_type": "code",
   "execution_count": null,
   "id": "f6ffe0e3-3aea-417a-ae60-62dd2fada50f",
   "metadata": {},
   "outputs": [],
   "source": [
    "# 9. Write a program to catch exceptions while writing data into SQL database."
   ]
  },
  {
   "cell_type": "code",
   "execution_count": null,
   "id": "8f5c4a6a-18a8-44ac-b1cd-892a1342f358",
   "metadata": {},
   "outputs": [],
   "source": [
    "# 10. Write a program that retries failed API requests 3 times using exception handling."
   ]
  },
  {
   "cell_type": "markdown",
   "id": "080311a9-ca7a-4e40-8118-91d0ecefc3e9",
   "metadata": {},
   "source": [
    "# Advanced Custom Exceptions"
   ]
  },
  {
   "cell_type": "code",
   "execution_count": null,
   "id": "ed30cd51-b065-491f-8586-0a6696ff43dd",
   "metadata": {},
   "outputs": [],
   "source": [
    "# 1. Write a program to create a hierarchy of custom exceptions for banking (BankError, InsufficientFunds, InvalidAccount)."
   ]
  },
  {
   "cell_type": "code",
   "execution_count": null,
   "id": "20594f7c-e2a7-4f5b-9e27-eb6b970c1d04",
   "metadata": {},
   "outputs": [],
   "source": [
    "# 2. Write a program that raises a custom exception when user enters a weak password."
   ]
  },
  {
   "cell_type": "code",
   "execution_count": null,
   "id": "62bcf8d9-8fd3-4885-9214-58378445b795",
   "metadata": {},
   "outputs": [],
   "source": [
    "# 3. Write a program that handles multiple custom exceptions in an e-commerce system (OutOfStockError, PaymentFailedError)."
   ]
  },
  {
   "cell_type": "code",
   "execution_count": null,
   "id": "90a70553-6a47-4e2d-9238-ad896e67d27c",
   "metadata": {},
   "outputs": [],
   "source": [
    "# 4. Write a program to simulate exception handling in machine learning model training (skip invalid rows)."
   ]
  },
  {
   "cell_type": "code",
   "execution_count": null,
   "id": "42e4806d-fc6d-458b-b67b-8c3799e79299",
   "metadata": {},
   "outputs": [],
   "source": [
    "# 5. Write a program that raises exceptions if missing values are detected in a dataset."
   ]
  },
  {
   "cell_type": "code",
   "execution_count": null,
   "id": "e6b9c3f5-4c7c-4ff6-aa91-5c61e47b7fa4",
   "metadata": {},
   "outputs": [],
   "source": [
    "# 6. Write a program that handles exceptions while saving a model to disk."
   ]
  },
  {
   "cell_type": "code",
   "execution_count": null,
   "id": "6e0566d3-07b8-4aa1-9d67-2342bb2a8535",
   "metadata": {},
   "outputs": [],
   "source": [
    "# 7. Write a program that catches exceptions during multi-threaded execution."
   ]
  },
  {
   "cell_type": "code",
   "execution_count": null,
   "id": "9688cc42-87d8-4ff6-abc2-122b80acc8cb",
   "metadata": {},
   "outputs": [],
   "source": [
    "# 8. Write a program that demonstrates a global exception handler for a Python script."
   ]
  },
  {
   "cell_type": "code",
   "execution_count": null,
   "id": "3ba061bd-21fc-4abd-9766-4ed9389e7d4f",
   "metadata": {},
   "outputs": [],
   "source": [
    "# 9. Write a program that raises custom exceptions for invalid file formats (.csv, .json, .xml)."
   ]
  },
  {
   "cell_type": "code",
   "execution_count": null,
   "id": "327638a7-a48a-4277-a2fb-26c405aaf929",
   "metadata": {},
   "outputs": [],
   "source": [
    "# 10. Write a program to implement centralized exception logging for a Python application."
   ]
  }
 ],
 "metadata": {
  "kernelspec": {
   "display_name": "Python 3 (ipykernel)",
   "language": "python",
   "name": "python3"
  },
  "language_info": {
   "codemirror_mode": {
    "name": "ipython",
    "version": 3
   },
   "file_extension": ".py",
   "mimetype": "text/x-python",
   "name": "python",
   "nbconvert_exporter": "python",
   "pygments_lexer": "ipython3",
   "version": "3.12.4"
  }
 },
 "nbformat": 4,
 "nbformat_minor": 5
}
