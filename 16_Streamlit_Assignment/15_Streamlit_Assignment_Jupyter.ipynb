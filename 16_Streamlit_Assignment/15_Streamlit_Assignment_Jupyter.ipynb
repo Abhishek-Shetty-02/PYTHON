{
 "cells": [
  {
   "cell_type": "markdown",
   "id": "7f8f0e92-b83b-43a4-aaee-3f36a5ab0205",
   "metadata": {},
   "source": [
    "Page 1 — Data Quality"
   ]
  },
  {
   "cell_type": "code",
   "execution_count": 92,
   "id": "5a0b0a3d-7768-4a83-8662-a05c3ec9b6ff",
   "metadata": {},
   "outputs": [
    {
     "data": {
      "text/html": [
       "<div>\n",
       "<style scoped>\n",
       "    .dataframe tbody tr th:only-of-type {\n",
       "        vertical-align: middle;\n",
       "    }\n",
       "\n",
       "    .dataframe tbody tr th {\n",
       "        vertical-align: top;\n",
       "    }\n",
       "\n",
       "    .dataframe thead th {\n",
       "        text-align: right;\n",
       "    }\n",
       "</style>\n",
       "<table border=\"1\" class=\"dataframe\">\n",
       "  <thead>\n",
       "    <tr style=\"text-align: right;\">\n",
       "      <th></th>\n",
       "      <th>SK_ID_CURR</th>\n",
       "      <th>TARGET</th>\n",
       "      <th>NAME_CONTRACT_TYPE</th>\n",
       "      <th>CODE_GENDER</th>\n",
       "      <th>FLAG_OWN_CAR</th>\n",
       "      <th>FLAG_OWN_REALTY</th>\n",
       "      <th>CNT_CHILDREN</th>\n",
       "      <th>AMT_INCOME_TOTAL</th>\n",
       "      <th>AMT_CREDIT</th>\n",
       "      <th>AMT_ANNUITY</th>\n",
       "      <th>...</th>\n",
       "      <th>FLAG_DOCUMENT_18</th>\n",
       "      <th>FLAG_DOCUMENT_19</th>\n",
       "      <th>FLAG_DOCUMENT_20</th>\n",
       "      <th>FLAG_DOCUMENT_21</th>\n",
       "      <th>AMT_REQ_CREDIT_BUREAU_HOUR</th>\n",
       "      <th>AMT_REQ_CREDIT_BUREAU_DAY</th>\n",
       "      <th>AMT_REQ_CREDIT_BUREAU_WEEK</th>\n",
       "      <th>AMT_REQ_CREDIT_BUREAU_MON</th>\n",
       "      <th>AMT_REQ_CREDIT_BUREAU_QRT</th>\n",
       "      <th>AMT_REQ_CREDIT_BUREAU_YEAR</th>\n",
       "    </tr>\n",
       "  </thead>\n",
       "  <tbody>\n",
       "    <tr>\n",
       "      <th>0</th>\n",
       "      <td>100002</td>\n",
       "      <td>1</td>\n",
       "      <td>Cash loans</td>\n",
       "      <td>M</td>\n",
       "      <td>N</td>\n",
       "      <td>Y</td>\n",
       "      <td>0</td>\n",
       "      <td>202500.0</td>\n",
       "      <td>406597.5</td>\n",
       "      <td>24700.5</td>\n",
       "      <td>...</td>\n",
       "      <td>0</td>\n",
       "      <td>0</td>\n",
       "      <td>0</td>\n",
       "      <td>0</td>\n",
       "      <td>0.0</td>\n",
       "      <td>0.0</td>\n",
       "      <td>0.0</td>\n",
       "      <td>0.0</td>\n",
       "      <td>0.0</td>\n",
       "      <td>1.0</td>\n",
       "    </tr>\n",
       "    <tr>\n",
       "      <th>1</th>\n",
       "      <td>100003</td>\n",
       "      <td>0</td>\n",
       "      <td>Cash loans</td>\n",
       "      <td>F</td>\n",
       "      <td>N</td>\n",
       "      <td>N</td>\n",
       "      <td>0</td>\n",
       "      <td>270000.0</td>\n",
       "      <td>1293502.5</td>\n",
       "      <td>35698.5</td>\n",
       "      <td>...</td>\n",
       "      <td>0</td>\n",
       "      <td>0</td>\n",
       "      <td>0</td>\n",
       "      <td>0</td>\n",
       "      <td>0.0</td>\n",
       "      <td>0.0</td>\n",
       "      <td>0.0</td>\n",
       "      <td>0.0</td>\n",
       "      <td>0.0</td>\n",
       "      <td>0.0</td>\n",
       "    </tr>\n",
       "    <tr>\n",
       "      <th>2</th>\n",
       "      <td>100004</td>\n",
       "      <td>0</td>\n",
       "      <td>Revolving loans</td>\n",
       "      <td>M</td>\n",
       "      <td>Y</td>\n",
       "      <td>Y</td>\n",
       "      <td>0</td>\n",
       "      <td>67500.0</td>\n",
       "      <td>135000.0</td>\n",
       "      <td>6750.0</td>\n",
       "      <td>...</td>\n",
       "      <td>0</td>\n",
       "      <td>0</td>\n",
       "      <td>0</td>\n",
       "      <td>0</td>\n",
       "      <td>0.0</td>\n",
       "      <td>0.0</td>\n",
       "      <td>0.0</td>\n",
       "      <td>0.0</td>\n",
       "      <td>0.0</td>\n",
       "      <td>0.0</td>\n",
       "    </tr>\n",
       "    <tr>\n",
       "      <th>3</th>\n",
       "      <td>100006</td>\n",
       "      <td>0</td>\n",
       "      <td>Cash loans</td>\n",
       "      <td>F</td>\n",
       "      <td>N</td>\n",
       "      <td>Y</td>\n",
       "      <td>0</td>\n",
       "      <td>135000.0</td>\n",
       "      <td>312682.5</td>\n",
       "      <td>29686.5</td>\n",
       "      <td>...</td>\n",
       "      <td>0</td>\n",
       "      <td>0</td>\n",
       "      <td>0</td>\n",
       "      <td>0</td>\n",
       "      <td>NaN</td>\n",
       "      <td>NaN</td>\n",
       "      <td>NaN</td>\n",
       "      <td>NaN</td>\n",
       "      <td>NaN</td>\n",
       "      <td>NaN</td>\n",
       "    </tr>\n",
       "    <tr>\n",
       "      <th>4</th>\n",
       "      <td>100007</td>\n",
       "      <td>0</td>\n",
       "      <td>Cash loans</td>\n",
       "      <td>M</td>\n",
       "      <td>N</td>\n",
       "      <td>Y</td>\n",
       "      <td>0</td>\n",
       "      <td>121500.0</td>\n",
       "      <td>513000.0</td>\n",
       "      <td>21865.5</td>\n",
       "      <td>...</td>\n",
       "      <td>0</td>\n",
       "      <td>0</td>\n",
       "      <td>0</td>\n",
       "      <td>0</td>\n",
       "      <td>0.0</td>\n",
       "      <td>0.0</td>\n",
       "      <td>0.0</td>\n",
       "      <td>0.0</td>\n",
       "      <td>0.0</td>\n",
       "      <td>0.0</td>\n",
       "    </tr>\n",
       "  </tbody>\n",
       "</table>\n",
       "<p>5 rows × 122 columns</p>\n",
       "</div>"
      ],
      "text/plain": [
       "   SK_ID_CURR  TARGET NAME_CONTRACT_TYPE CODE_GENDER FLAG_OWN_CAR  \\\n",
       "0      100002       1         Cash loans           M            N   \n",
       "1      100003       0         Cash loans           F            N   \n",
       "2      100004       0    Revolving loans           M            Y   \n",
       "3      100006       0         Cash loans           F            N   \n",
       "4      100007       0         Cash loans           M            N   \n",
       "\n",
       "  FLAG_OWN_REALTY  CNT_CHILDREN  AMT_INCOME_TOTAL  AMT_CREDIT  AMT_ANNUITY  \\\n",
       "0               Y             0          202500.0    406597.5      24700.5   \n",
       "1               N             0          270000.0   1293502.5      35698.5   \n",
       "2               Y             0           67500.0    135000.0       6750.0   \n",
       "3               Y             0          135000.0    312682.5      29686.5   \n",
       "4               Y             0          121500.0    513000.0      21865.5   \n",
       "\n",
       "   ...  FLAG_DOCUMENT_18 FLAG_DOCUMENT_19 FLAG_DOCUMENT_20 FLAG_DOCUMENT_21  \\\n",
       "0  ...                 0                0                0                0   \n",
       "1  ...                 0                0                0                0   \n",
       "2  ...                 0                0                0                0   \n",
       "3  ...                 0                0                0                0   \n",
       "4  ...                 0                0                0                0   \n",
       "\n",
       "  AMT_REQ_CREDIT_BUREAU_HOUR AMT_REQ_CREDIT_BUREAU_DAY  \\\n",
       "0                        0.0                       0.0   \n",
       "1                        0.0                       0.0   \n",
       "2                        0.0                       0.0   \n",
       "3                        NaN                       NaN   \n",
       "4                        0.0                       0.0   \n",
       "\n",
       "   AMT_REQ_CREDIT_BUREAU_WEEK  AMT_REQ_CREDIT_BUREAU_MON  \\\n",
       "0                         0.0                        0.0   \n",
       "1                         0.0                        0.0   \n",
       "2                         0.0                        0.0   \n",
       "3                         NaN                        NaN   \n",
       "4                         0.0                        0.0   \n",
       "\n",
       "   AMT_REQ_CREDIT_BUREAU_QRT  AMT_REQ_CREDIT_BUREAU_YEAR  \n",
       "0                        0.0                         1.0  \n",
       "1                        0.0                         0.0  \n",
       "2                        0.0                         0.0  \n",
       "3                        NaN                         NaN  \n",
       "4                        0.0                         0.0  \n",
       "\n",
       "[5 rows x 122 columns]"
      ]
     },
     "execution_count": 92,
     "metadata": {},
     "output_type": "execute_result"
    }
   ],
   "source": [
    "import numpy as np\n",
    "import pandas as pd\n",
    "import streamlit as st\n",
    "import matplotlib as mpl \n",
    "\n",
    "df=pd.read_csv(\"EDUKRON_DATASETS/application_train.csv\")\n",
    "\n",
    "df.head()\n",
    "\n",
    "# df.columns"
   ]
  },
  {
   "cell_type": "code",
   "execution_count": 38,
   "id": "2503cd7f-9cb2-46ca-bba1-0200e5758ad8",
   "metadata": {},
   "outputs": [
    {
     "data": {
      "text/plain": [
       "0         25.902806\n",
       "1         45.900068\n",
       "2         52.145106\n",
       "3         52.032854\n",
       "4         54.570842\n",
       "            ...    \n",
       "307506    25.535934\n",
       "307507    56.878850\n",
       "307508    40.974675\n",
       "307509    32.747433\n",
       "307510    46.149213\n",
       "Name: DAYS_BIRTH, Length: 307511, dtype: float64"
      ]
     },
     "execution_count": 38,
     "metadata": {},
     "output_type": "execute_result"
    }
   ],
   "source": [
    "data=df['DAYS_BIRTH']\n",
    "AGE_YEARS=(-data/ 365.25)\n",
    "AGE_YEARS"
   ]
  },
  {
   "cell_type": "code",
   "execution_count": 50,
   "id": "52b78e4c-9939-42e8-81ad-510e483b3a29",
   "metadata": {},
   "outputs": [
    {
     "data": {
      "text/plain": [
       "0           1.744011\n",
       "1           3.252567\n",
       "2           0.616016\n",
       "3           8.320329\n",
       "4           8.317591\n",
       "             ...    \n",
       "307506      0.646133\n",
       "307507   -999.980835\n",
       "307508     21.686516\n",
       "307509     13.103354\n",
       "307510      3.455168\n",
       "Name: DAYS_EMPLOYED, Length: 307511, dtype: float64"
      ]
     },
     "execution_count": 50,
     "metadata": {},
     "output_type": "execute_result"
    }
   ],
   "source": [
    "data1=df['DAYS_EMPLOYED'] \n",
    "\n",
    "EMPLOYMENT_YEARS= -data1/365.25\n",
    "EMPLOYMENT_YEARS"
   ]
  },
  {
   "cell_type": "code",
   "execution_count": 70,
   "id": "5ef6e866-5939-41c0-abe2-327fe19e65c2",
   "metadata": {},
   "outputs": [
    {
     "data": {
      "text/plain": [
       "0         0.060749\n",
       "1         0.027598\n",
       "2         0.050000\n",
       "3         0.094941\n",
       "4         0.042623\n",
       "            ...   \n",
       "307506    0.108198\n",
       "307507    0.044524\n",
       "307508    0.044239\n",
       "307509    0.054592\n",
       "307510    0.072767\n",
       "Length: 307511, dtype: float64"
      ]
     },
     "execution_count": 70,
     "metadata": {},
     "output_type": "execute_result"
    }
   ],
   "source": [
    "# Create ratios:\n",
    "\n",
    "DTI = df['AMT_ANNUITY'] / df['AMT_INCOME_TOTAL']\n",
    "DTI\n",
    "\n",
    "LOAN_TO_INCOME = df['AMT_CREDIT'] / df['AMT_INCOME_TOTAL']\n",
    "LOAN_TO_INCOME\n",
    "\n",
    "ANNUITY_TO_CREDIT = df['AMT_ANNUITY'] / df['AMT_CREDIT']\n",
    "ANNUITY_TO_CREDIT"
   ]
  },
  {
   "cell_type": "code",
   "execution_count": null,
   "id": "1dfee2cc-eed6-4b85-ac7b-cb40b48439d4",
   "metadata": {},
   "outputs": [],
   "source": [
    "# Handle missing values (report % and apply strategy: drop columns > 60% missing; impute median/most-frequent for others)\n",
    "\n",
    "total_orders = df['Order ID'].nunique()\n",
    "\n"
   ]
  },
  {
   "cell_type": "code",
   "execution_count": null,
   "id": "73d27414-7578-4d62-800f-5edc0c8f594f",
   "metadata": {},
   "outputs": [],
   "source": []
  },
  {
   "cell_type": "code",
   "execution_count": null,
   "id": "1bd49224-8ce0-408d-8934-399cd5b16b0b",
   "metadata": {},
   "outputs": [],
   "source": []
  },
  {
   "cell_type": "code",
   "execution_count": 90,
   "id": "a2601747-6d40-4490-8a38-45d69b21faeb",
   "metadata": {},
   "outputs": [
    {
     "name": "stdout",
     "output_type": "stream",
     "text": [
      "112500.0\n",
      "147150.0\n",
      "202500.0\n",
      "117000000.0\n"
     ]
    }
   ],
   "source": [
    "# Define income brackets (quantiles): Low (Q1), Mid (Q2–Q3), High (Q4)\n",
    "\n",
    "a=df['AMT_INCOME_TOTAL']\n",
    "# print(a.max())\n",
    "# print(a.min())\n",
    "\n",
    "p25=np.percentile(a,25)\n",
    "p50=np.percentile(a,50)\n",
    "p75=np.percentile(a,75)\n",
    "p100=np.percentile(a,100)\n",
    "print(p25)\n",
    "print(p50)\n",
    "print(p75)\n",
    "print(p100)\n",
    "\n",
    "if a<p25:"
   ]
  },
  {
   "cell_type": "code",
   "execution_count": null,
   "id": "8d05b85d-7afb-430c-9052-89e71bb71384",
   "metadata": {},
   "outputs": [],
   "source": [
    "# Ensure consistent filters (gender, education, family status, housing, income bracket, age range)"
   ]
  },
  {
   "cell_type": "markdown",
   "id": "9751b339-8a86-4416-b0e4-a1d786a17a14",
   "metadata": {},
   "source": [
    "Page 2 — Target & Risk Segmentation"
   ]
  },
  {
   "cell_type": "code",
   "execution_count": 176,
   "id": "78aa1d36-5c18-4877-958d-dc3fb9419fed",
   "metadata": {},
   "outputs": [
    {
     "data": {
      "text/plain": [
       "np.float64(1509894132.75)"
      ]
     },
     "execution_count": 176,
     "metadata": {},
     "output_type": "execute_result"
    }
   ],
   "source": [
    "# Total Applicants = count(SK_ID_CURR)\n",
    "\n",
    "Total_Applicants= df['SK_ID_CURR'].count()\n",
    "Total_Applicants\n",
    "\n",
    "# Default Rate (%) = mean(TARGET) × 100\n",
    "\n",
    "Default_Rate= df['TARGET'].mean() * 100\n",
    "Default_Rate\n",
    "\n",
    "# Repaid Rate (%) = (1 - mean(TARGET)) × 100\n",
    "\n",
    "Repaid_Rate = (1-df['TARGET'].mean()) * 100\n",
    "Repaid_Rate\n",
    "\n",
    "# Total Features = number of columns\n",
    "a=list(df.columns)\n",
    "Total_Features = len(a)\n",
    "Total_Features\n",
    "\n",
    "# Avg Missing per Feature (%) = mean(isnull(col)) × 100 averaged over columns\n",
    "\n",
    "# # Numerical Features\n",
    "# # Categorical Features\n",
    "\n",
    "# Median Age (Years) = median(AGE_YEARS)\n",
    "Median_Age= AGE_YEARS.median()\n",
    "Median_Age\n",
    "\n",
    "# Median Annual Income\n",
    "Median_Annual_Income= df['AMT_INCOME_TOTAL'].median()\n",
    "Median_Annual_Income\n",
    "\n",
    "# Average Credit Amount\n",
    "\n",
    "x=df['AMT_CREDIT'].sum()\n",
    "y=len(list(df.columns))\n",
    "\n",
    "Average_Credit_Amount=x/y\n",
    "Average_Credit_Amount"
   ]
  },
  {
   "cell_type": "markdown",
   "id": "dce9e115-965f-4ac7-a401-f996067059c3",
   "metadata": {},
   "source": [
    "Page 3 — Demographics & Household Profile"
   ]
  },
  {
   "cell_type": "code",
   "execution_count": 223,
   "id": "bb66faef-0215-429b-8938-bc39afccc169",
   "metadata": {},
   "outputs": [
    {
     "data": {
      "text/plain": [
       "0         Secondary / secondary special\n",
       "1                      Higher education\n",
       "2         Secondary / secondary special\n",
       "3         Secondary / secondary special\n",
       "4         Secondary / secondary special\n",
       "                      ...              \n",
       "307506    Secondary / secondary special\n",
       "307507    Secondary / secondary special\n",
       "307508                 Higher education\n",
       "307509    Secondary / secondary special\n",
       "307510                 Higher education\n",
       "Name: NAME_EDUCATION_TYPE, Length: 307511, dtype: object"
      ]
     },
     "execution_count": 223,
     "metadata": {},
     "output_type": "execute_result"
    }
   ],
   "source": [
    "# % Male vs Female\n",
    "# grouped=df['CODE_GENDER']\n",
    "# grouped\n",
    "\n",
    "\n",
    "# Avg Age — Defaulters\n",
    "# Avg Age — Non-Defaulters\n",
    "\n",
    "\n",
    "# % With Children = % (CNT_CHILDREN > 0)\n",
    "\n",
    "# With_Children= CNT_CHILDREN df[CNT_CHILDREN>0]  \n",
    "# With_Children\n",
    "\n",
    "# Avg Family Size = mean(CNT_FAM_MEMBERS)\n",
    "\n",
    "# Avg_Family_Size= df['CNT_FAM_MEMBERS'].mean()\n",
    "# Avg_Family_Size\n",
    "\n",
    "\n",
    "# % Married vs Single (from NAME_FAMILY_STATUS)\n",
    "# % Higher Education (Bachelor+)\n",
    "\n",
    "df['NAME_EDUCATION_TYPE']\n",
    "\n",
    "# % Living With Parents (NAME_HOUSING_TYPE == 'With parents')\n",
    "# % Currently Working (derive from occupation/employment)\n",
    "\n",
    "# Avg Employment Years\n",
    "\n",
    "# x=EMPLOYMENT_YEARS\n",
    "# y=len(list(df.columns))\n",
    "\n",
    "# AVG_EMPLOYMENT_YEARS= x/y\n",
    "# AVG_EMPLOYMENT_YEARS"
   ]
  },
  {
   "cell_type": "markdown",
   "id": "3c363ec0-d9c8-41bf-beb3-a7bb05c114c5",
   "metadata": {},
   "source": [
    "Page 4 — Financial Health & Affordability"
   ]
  },
  {
   "cell_type": "code",
   "execution_count": 249,
   "id": "79aa75d4-23d6-4c4c-b8c0-1559db032b73",
   "metadata": {},
   "outputs": [
    {
     "data": {
      "text/plain": [
       "0         0.001000\n",
       "1         0.001084\n",
       "2         0.000820\n",
       "3         0.001802\n",
       "4         0.001475\n",
       "            ...   \n",
       "307506    0.001434\n",
       "307507    0.001366\n",
       "307508    0.001606\n",
       "307509    0.000969\n",
       "307510    0.002556\n",
       "Length: 307511, dtype: float64"
      ]
     },
     "execution_count": 249,
     "metadata": {},
     "output_type": "execute_result"
    }
   ],
   "source": [
    "# Avg Annual Income\n",
    "\n",
    "x=df['AMT_INCOME_TOTAL']\n",
    "y=len(list(df.columns))\n",
    "\n",
    "Avg_Annual_Income= x/y\n",
    "\n",
    "Avg_Annual_Income\n",
    "\n",
    "# Median Annual Income\n",
    "x=df['AMT_INCOME_TOTAL'].median()\n",
    "x\n",
    "# Avg Credit Amount\n",
    "\n",
    "x=df['AMT_CREDIT']\n",
    "y=len(list(df.columns))\n",
    "\n",
    "Avg_Credit_Amount= x/y\n",
    "\n",
    "Avg_Credit_Amount\n",
    "\n",
    "# Avg Annuity\n",
    "\n",
    "x=df['AMT_ANNUITY']\n",
    "y=len(list(df.columns))\n",
    "\n",
    "Avg_Annuity= x/y\n",
    "\n",
    "Avg_Annuity\n",
    "\n",
    "# Avg Goods Price\n",
    "\n",
    "a=df['AMT_GOODS_PRICE']\n",
    "b=len(list(df.columns))\n",
    "Avg_Goods_Price= a/b\n",
    "Avg_Goods_Price\n",
    "\n",
    "# Avg DTI = mean(AMT_ANNUITY / AMT_INCOME_TOTAL)\n",
    "# a=DTI\n",
    "# b=len(list(df.columns))\n",
    "# Avg_DTI= a/b\n",
    "# Avg_DTI\n",
    "\n",
    "# Avg Loan-to-Income (LTI) = mean(AMT_CREDIT / AMT_INCOME_TOTAL)\n",
    "# Income Gap (Non-def − Def) = mean(income|0) − mean(income|1)\n",
    "# Credit Gap (Non-def − Def) = mean(credit|0) − mean(credit|1)\n",
    "# % High Credit (> 1M)\n"
   ]
  },
  {
   "cell_type": "markdown",
   "id": "a4461cad-dfb5-49bf-a871-a2103d389443",
   "metadata": {},
   "source": [
    "Page 5 — Correlations, Drivers & Interactive Slice-and-Dice"
   ]
  },
  {
   "cell_type": "code",
   "execution_count": null,
   "id": "cb7b0d47-a78f-4de8-b814-e83e31d6bf70",
   "metadata": {},
   "outputs": [],
   "source": [
    "# Top 5 +Corr with TARGET (list)\n",
    "# Top 5 −Corr with TARGET (list)\n",
    "# Most correlated with Income\n",
    "# Most correlated with Credit\n",
    "# Corr(Income, Credit)\n",
    "# Corr(Age, TARGET)\n",
    "# Corr(Employment Years, TARGET)\n",
    "# Corr(Family Size, TARGET)\n",
    "# Variance Explained by Top 5 Features (proxy via |corr|)\n",
    "# # Features with |corr| > 0.5"
   ]
  },
  {
   "cell_type": "code",
   "execution_count": 219,
   "id": "6fc7e9bd-1deb-49c2-926e-e21116ff661c",
   "metadata": {},
   "outputs": [
    {
     "data": {
      "text/plain": [
       "Index(['SK_ID_CURR', 'TARGET', 'NAME_CONTRACT_TYPE', 'CODE_GENDER',\n",
       "       'FLAG_OWN_CAR', 'FLAG_OWN_REALTY', 'CNT_CHILDREN', 'AMT_INCOME_TOTAL',\n",
       "       'AMT_CREDIT', 'AMT_ANNUITY',\n",
       "       ...\n",
       "       'FLAG_DOCUMENT_18', 'FLAG_DOCUMENT_19', 'FLAG_DOCUMENT_20',\n",
       "       'FLAG_DOCUMENT_21', 'AMT_REQ_CREDIT_BUREAU_HOUR',\n",
       "       'AMT_REQ_CREDIT_BUREAU_DAY', 'AMT_REQ_CREDIT_BUREAU_WEEK',\n",
       "       'AMT_REQ_CREDIT_BUREAU_MON', 'AMT_REQ_CREDIT_BUREAU_QRT',\n",
       "       'AMT_REQ_CREDIT_BUREAU_YEAR'],\n",
       "      dtype='object', length=122)"
      ]
     },
     "execution_count": 219,
     "metadata": {},
     "output_type": "execute_result"
    }
   ],
   "source": [
    "df.columns"
   ]
  },
  {
   "cell_type": "code",
   "execution_count": null,
   "id": "dd3f82f0-ed53-41f1-bbb5-cc8d1b990941",
   "metadata": {},
   "outputs": [],
   "source": []
  }
 ],
 "metadata": {
  "kernelspec": {
   "display_name": "Python 3 (ipykernel)",
   "language": "python",
   "name": "python3"
  },
  "language_info": {
   "codemirror_mode": {
    "name": "ipython",
    "version": 3
   },
   "file_extension": ".py",
   "mimetype": "text/x-python",
   "name": "python",
   "nbconvert_exporter": "python",
   "pygments_lexer": "ipython3",
   "version": "3.12.4"
  }
 },
 "nbformat": 4,
 "nbformat_minor": 5
}
