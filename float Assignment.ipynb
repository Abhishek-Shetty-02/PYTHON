{
 "cells": [
  {
   "cell_type": "code",
   "execution_count": 47,
   "id": "ed04c190-1bcc-4901-8028-4474aba29477",
   "metadata": {},
   "outputs": [
    {
     "ename": "TypeError",
     "evalue": "'float' object is not callable",
     "output_type": "error",
     "traceback": [
      "\u001b[1;31m---------------------------------------------------------------------------\u001b[0m",
      "\u001b[1;31mTypeError\u001b[0m                                 Traceback (most recent call last)",
      "Cell \u001b[1;32mIn[47], line 3\u001b[0m\n\u001b[0;32m      1\u001b[0m \u001b[38;5;66;03m# Question 1: Calculate the average of 3.14, 2.718, 1.618, 0.577\u001b[39;00m\n\u001b[0;32m      2\u001b[0m a\u001b[38;5;241m=\u001b[39m\u001b[38;5;241m3.14\u001b[39m,\u001b[38;5;241m2.178\u001b[39m,\u001b[38;5;241m1.618\u001b[39m,\u001b[38;5;241m0.577\u001b[39m\n\u001b[1;32m----> 3\u001b[0m \u001b[38;5;28;43msum\u001b[39;49m\u001b[43m(\u001b[49m\u001b[43ma\u001b[49m\u001b[43m)\u001b[49m\u001b[38;5;241m/\u001b[39m\u001b[38;5;241m4\u001b[39m\n",
      "\u001b[1;31mTypeError\u001b[0m: 'float' object is not callable"
     ]
    }
   ],
   "source": [
    "# Question 1: Calculate the average of 3.14, 2.718, 1.618, 0.577\n",
    "a=3.14,2.178,1.618,0.577\n",
    "sum(a)/4"
   ]
  },
  {
   "cell_type": "code",
   "execution_count": null,
   "id": "ac7f7817-7784-44a2-a4ac-165dfbf21fef",
   "metadata": {},
   "outputs": [],
   "source": [
    "# Question 2: Convert 98.6 Fahrenheit to Celsius (F = C * 9/5 + 32)"
   ]
  },
  {
   "cell_type": "code",
   "execution_count": 23,
   "id": "4f589cb5-2bde-498b-b054-a4bc17f85b1e",
   "metadata": {},
   "outputs": [
    {
     "name": "stdout",
     "output_type": "stream",
     "text": [
      "174.24137499999983\n"
     ]
    }
   ],
   "source": [
    "# Question 3: Calculate the compound interest on $1000 at 5.5% for 3 years\n",
    "p=1000\n",
    "t=3\n",
    "n=1\n",
    "r=5.5/100\n",
    "amt=p*(1+r/n)**(n*t)\n",
    "ci=amt-p\n",
    "print(ci)"
   ]
  },
  {
   "cell_type": "code",
   "execution_count": 45,
   "id": "58a238c8-df28-47c4-af8f-5850060a812e",
   "metadata": {},
   "outputs": [
    {
     "name": "stdout",
     "output_type": "stream",
     "text": [
      "29.89\n",
      "5.4671747731346585\n"
     ]
    }
   ],
   "source": [
    "# Question 4: Find the hypotenuse of a right triangle with sides 3.5 and 4.2\n",
    "a=3.5\n",
    "b=4.2\n",
    "x=a**2 + b**2\n",
    "print(x)\n",
    "hypo=x**0.5\n",
    "print(hypo)"
   ]
  },
  {
   "cell_type": "code",
   "execution_count": null,
   "id": "02a6c714-9615-4fc7-b6fb-427d92088257",
   "metadata": {},
   "outputs": [],
   "source": [
    "# Question 5: Calculate the volume of a sphere with radius 7.8"
   ]
  },
  {
   "cell_type": "code",
   "execution_count": 35,
   "id": "184e9007-bcd4-4eff-8c8b-cc34422412e2",
   "metadata": {},
   "outputs": [
    {
     "name": "stdout",
     "output_type": "stream",
     "text": [
      "3.142\n"
     ]
    }
   ],
   "source": [
    "# Question 6: Round 3.14159 to 3 decimal places\n",
    "a=3.14159\n",
    "b=round(a,3)\n",
    "print(b)"
   ]
  },
  {
   "cell_type": "code",
   "execution_count": null,
   "id": "94916bd4-54d1-4ce9-a507-e297a26ae8bb",
   "metadata": {},
   "outputs": [],
   "source": [
    "# Question 7: Calculate the percentage: 45 out of 67\n"
   ]
  },
  {
   "cell_type": "code",
   "execution_count": 33,
   "id": "7cd30c9b-6bad-4e55-accb-eb76cf8954c2",
   "metadata": {},
   "outputs": [
    {
     "name": "stdout",
     "output_type": "stream",
     "text": [
      "4.843139477652899\n"
     ]
    }
   ],
   "source": [
    "# Question 8: Find the square root of 23.456\n",
    "a=23.456\n",
    "b=a**0.5\n",
    "print(b)"
   ]
  },
  {
   "cell_type": "code",
   "execution_count": 25,
   "id": "15485a63-6f2b-4f9f-897a-7b99ff16e69d",
   "metadata": {},
   "outputs": [
    {
     "name": "stdout",
     "output_type": "stream",
     "text": [
      "406.25\n"
     ]
    }
   ],
   "source": [
    "# Question 9: Calculate the simple interest: Principal=2500, Rate=6.5%, Time=2.5 years\n",
    "p=2500\n",
    "r=6.5\n",
    "t=2.5\n",
    "si=p*t*r/100\n",
    "print(si)"
   ]
  },
  {
   "cell_type": "code",
   "execution_count": null,
   "id": "fe3a5bf3-2998-4d9c-a321-d62070c3b29e",
   "metadata": {},
   "outputs": [],
   "source": []
  }
 ],
 "metadata": {
  "kernelspec": {
   "display_name": "Python 3 (ipykernel)",
   "language": "python",
   "name": "python3"
  },
  "language_info": {
   "codemirror_mode": {
    "name": "ipython",
    "version": 3
   },
   "file_extension": ".py",
   "mimetype": "text/x-python",
   "name": "python",
   "nbconvert_exporter": "python",
   "pygments_lexer": "ipython3",
   "version": "3.12.4"
  }
 },
 "nbformat": 4,
 "nbformat_minor": 5
}
