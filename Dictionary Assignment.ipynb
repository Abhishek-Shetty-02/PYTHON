{
 "cells": [
  {
   "cell_type": "code",
   "execution_count": 3,
   "id": "4a4ebc0b-608a-481c-a3ed-d10544a19386",
   "metadata": {},
   "outputs": [
    {
     "name": "stdout",
     "output_type": "stream",
     "text": [
      "{'ramesh': 25, 'suresh': 28, 'mahesh': 30, 'brijesh': 35}\n"
     ]
    }
   ],
   "source": [
    "# Question 1: Create a dictionary of student names and their ages\n",
    "dict={\"ramesh\":25,\"suresh\":28,\"mahesh\":30,\"brijesh\":35}\n",
    "print(dict)"
   ]
  },
  {
   "cell_type": "code",
   "execution_count": 7,
   "id": "da0f82bd-dde4-4962-bfff-72c145ada247",
   "metadata": {},
   "outputs": [
    {
     "name": "stdout",
     "output_type": "stream",
     "text": [
      "{'a': 1, 'b': 2, 'c': 3, 'd': 4, 'e': 5}\n"
     ]
    }
   ],
   "source": [
    "# Question 2: Add a new key-value pair to dictionary {'a': 1, 'b': 2, 'c': 3}\n",
    "dict={'a': 1, 'b': 2, 'c': 3}\n",
    "dict[\"d\"]=4\n",
    "dict[\"e\"]=5\n",
    "print(dict)"
   ]
  },
  {
   "cell_type": "code",
   "execution_count": 9,
   "id": "09783f33-d9c9-4db6-a014-7ba8a4aeabbe",
   "metadata": {},
   "outputs": [
    {
     "data": {
      "text/plain": [
       "dict_keys(['name', 'age', 'city'])"
      ]
     },
     "execution_count": 9,
     "metadata": {},
     "output_type": "execute_result"
    }
   ],
   "source": [
    "# Question 3: Get all keys from dictionary {'name': 'John', 'age': 25, 'city': 'New York'}\n",
    "dict={'name': 'John', 'age': 25, 'city': 'New York'}\n",
    "dict.keys()"
   ]
  },
  {
   "cell_type": "code",
   "execution_count": 15,
   "id": "50d8015e-d853-4637-9dba-7e24fb458781",
   "metadata": {},
   "outputs": [
    {
     "data": {
      "text/plain": [
       "dict_values([3, 2, 1])"
      ]
     },
     "execution_count": 15,
     "metadata": {},
     "output_type": "execute_result"
    }
   ],
   "source": [
    "# Question 4: Get all values from dictionary {'python': 3, 'java': 2, 'c++': 1}\n",
    "dict={'python': 3, 'java': 2, 'c++': 1}\n",
    "dict.values()"
   ]
  },
  {
   "cell_type": "code",
   "execution_count": 41,
   "id": "58b3ecd3-aa25-4147-8f94-8dc70099cbdb",
   "metadata": {},
   "outputs": [
    {
     "name": "stdout",
     "output_type": "stream",
     "text": [
      "the given key 'age' exists\n"
     ]
    }
   ],
   "source": [
    "# Question 5: Check if key 'age' exists in {'name': 'Alice', 'age': 30, 'city': 'London'}\n",
    "dict={'name': 'Alice', 'age': 30, 'city': 'London'}\n",
    "if 'age' in dict:\n",
    "    print(\"the given key 'age' exists\")\n",
    "else:\n",
    "    print(\"the given key doesnt exists\")\n",
    "\n",
    "\n",
    "#By using Update Method: If key exists or not\n",
    "\n"
   ]
  },
  {
   "cell_type": "code",
   "execution_count": 39,
   "id": "735a2114-fb4f-445e-a364-ca4d3ed5c0a5",
   "metadata": {},
   "outputs": [
    {
     "data": {
      "text/plain": [
       "3"
      ]
     },
     "execution_count": 39,
     "metadata": {},
     "output_type": "execute_result"
    }
   ],
   "source": [
    "# Question 6: Remove key 'temp' from {'a': 1, 'b': 2, 'temp': 3, 'c': 4}\n",
    "dict={'a': 1, 'b': 2, 'temp': 3, 'c': 4}\n",
    "dict.pop('temp')"
   ]
  },
  {
   "cell_type": "code",
   "execution_count": 33,
   "id": "7a13f5f4-f43f-4bad-b550-a7db77876b44",
   "metadata": {},
   "outputs": [
    {
     "data": {
      "text/plain": [
       "255"
      ]
     },
     "execution_count": 33,
     "metadata": {},
     "output_type": "execute_result"
    }
   ],
   "source": [
    "# Question 7: Find the sum of all values in {'math': 85, 'science': 92, 'english': 78}\n",
    "dict={'math': 85, 'science': 92, 'english': 78}\n",
    "sum(dict.values())"
   ]
  },
  {
   "cell_type": "code",
   "execution_count": null,
   "id": "eebf7c4b-173a-491b-a00d-791ad8684b21",
   "metadata": {},
   "outputs": [],
   "source": [
    "# Question 8: Create a dictionary with squares of numbers 1 to 5\n",
    "dict={}\n"
   ]
  },
  {
   "cell_type": "code",
   "execution_count": null,
   "id": "2bd59736-7af7-449f-bf31-5d0020d84af8",
   "metadata": {},
   "outputs": [],
   "source": [
    "# Question 9: Count frequency of each character in string \"hello\""
   ]
  },
  {
   "cell_type": "code",
   "execution_count": 65,
   "id": "05c23b15-f95d-4f43-a0b8-2b8506703143",
   "metadata": {},
   "outputs": [
    {
     "name": "stdout",
     "output_type": "stream",
     "text": [
      "{'a': 1, 'b': 2, 'c': 3, 'd': 4}\n"
     ]
    }
   ],
   "source": [
    "# Question 10: Merge two dictionaries {'a': 1, 'b': 2} and {'c': 3, 'd': 4}\n",
    "\n",
    "#By using funtions-update method\n",
    "#NOTE: all the keys from both dict are unique or not repeated.\n",
    "\n",
    "# def merge(dict1,dict2):\n",
    "#     return dict1.update(dict2)\n",
    "\n",
    "# dict1={'a': 1, 'b': 2}\n",
    "# dict2={'c': 3, 'd': 4}\n",
    "\n",
    "# merge(dict1,dict2)\n",
    "# print(dict1)\n",
    "\n",
    "\n",
    "#By using 'funtions-for loop'\n",
    "\n",
    "# def merge(dict1,dict2):\n",
    "#     for i in dict2.keys():\n",
    "#         dict1[i]=dict2[i]\n",
    "#         return dict1\n",
    "\n",
    "# dict1={'a': 1, 'b': 2}\n",
    "# dict2={'c': 3, 'd': 4}\n",
    "\n",
    "# print(merge(dict1,dict2))\n",
    "\n"
   ]
  },
  {
   "cell_type": "code",
   "execution_count": 71,
   "id": "67c76af6-4fee-4cd8-9bd0-ae5c7c9831e8",
   "metadata": {},
   "outputs": [
    {
     "name": "stdout",
     "output_type": "stream",
     "text": [
      "Person Details:  {'person1': {'name': 'Alice', 'age': 25}, 'person2': {'name': 'David', 'age': 28}, 'person3': {'name': 'Travis', 'age': 37}, 'person4': {'name': 'Dustin', 'age': 45}}\n",
      "Updated nested dictionary:  {'person1': {'name': 'Alice', 'age': 25, 'city': ['Newyork']}, 'person2': {'name': 'David', 'age': 28, 'city': ['New mexico']}, 'person3': {'name': 'Travis', 'age': 37}, 'person4': {'name': 'Dustin', 'age': 45}}\n"
     ]
    }
   ],
   "source": [
    "# Question 11: Create a nested dictionary: {'person': {'name': 'Alice', 'age': 25}}\n",
    "\n",
    "# Each person is added as a key and their information (name, age) is stored in an inner dictionary.\n",
    "\n",
    "dict={}\n",
    "dict['person1']={\"name\":\"Alice\",\"age\":25}\n",
    "dict['person2']={\"name\":\"David\",\"age\":28}\n",
    "dict['person3']={\"name\":\"Travis\",\"age\":37}\n",
    "dict['person4']={\"name\":\"Dustin\",\"age\":45}\n",
    "\n",
    "print(\"Person Details: \",dict)\n",
    "\n",
    "#Adding new attributes or elements to the inner dictionary\n",
    "\n",
    "dict['person1']['city']='Arizona'\n",
    "dict['person2']['city']='New mexico'\n",
    "dict['person1']['city']='Texas'\n",
    "dict['person1']['city']='Newyork'\n",
    "\n",
    "print(\"Updated nested dictionary: \",dict)"
   ]
  },
  {
   "cell_type": "code",
   "execution_count": null,
   "id": "102de442-459b-4008-953b-44f64057eb83",
   "metadata": {},
   "outputs": [],
   "source": [
    "# Question 12: Access nested value 'name' from {'person': {'name': 'Alice', 'age': 25}}"
   ]
  },
  {
   "cell_type": "code",
   "execution_count": null,
   "id": "f6cc2154-b908-4bd3-878a-038f17549581",
   "metadata": {},
   "outputs": [],
   "source": [
    "# Question 13: Create a dictionary with list values: {'fruits': ['apple', 'banana'], 'colors': ['red', 'blue']}"
   ]
  },
  {
   "cell_type": "code",
   "execution_count": null,
   "id": "834ada82-5434-4e94-88a9-2174a63b64f4",
   "metadata": {},
   "outputs": [],
   "source": [
    "# Question 14: Add 'orange' to the 'fruits' list in nested dictionary"
   ]
  },
  {
   "cell_type": "code",
   "execution_count": null,
   "id": "44ed1ba9-2652-4e25-a53c-ae2ee8dd562e",
   "metadata": {},
   "outputs": [],
   "source": [
    "# Question 15: Create a dictionary with tuple values: {'coordinates': (10, 20), 'rgb': (255, 0, 0)}"
   ]
  },
  {
   "cell_type": "code",
   "execution_count": null,
   "id": "c4551246-798d-4a6a-88af-963634d874c4",
   "metadata": {},
   "outputs": [],
   "source": [
    "# Question 16: Extract first coordinate from nested tuple"
   ]
  },
  {
   "cell_type": "code",
   "execution_count": null,
   "id": "eb803ee9-9370-461b-8ec3-4dda49a10442",
   "metadata": {},
   "outputs": [],
   "source": [
    "# Question 17: Create a dictionary with set values: {'vowels': {'a', 'e', 'i'}, 'consonants': {'b', 'c', 'd'}}"
   ]
  },
  {
   "cell_type": "code",
   "execution_count": null,
   "id": "e5ad1110-0b3d-4f57-a2d6-c3689382a548",
   "metadata": {},
   "outputs": [],
   "source": [
    "# Question 18: Add 'o' to vowels set in nested dictionary"
   ]
  },
  {
   "cell_type": "code",
   "execution_count": null,
   "id": "66550126-1e31-4603-b845-a809dfc3d1f7",
   "metadata": {},
   "outputs": [],
   "source": [
    "# Question 19: Create a 3-level nested dictionary: {'company': {'department': {'employee': {'name': 'John', 'id': 123}}}}"
   ]
  },
  {
   "cell_type": "code",
   "execution_count": null,
   "id": "a1f12f15-f78c-4762-9d98-441bc75179bc",
   "metadata": {},
   "outputs": [],
   "source": [
    "# Question 20: Access employee name from 3-level nested dictionary"
   ]
  },
  {
   "cell_type": "code",
   "execution_count": null,
   "id": "8e605d6f-9011-49d7-9ef9-2ca3301361e1",
   "metadata": {},
   "outputs": [],
   "source": [
    "# Question 21: Create a dictionary with mixed data types: {'int': 42, 'float': 3.14, 'str': 'hello', 'bool': True}"
   ]
  },
  {
   "cell_type": "code",
   "execution_count": null,
   "id": "e98437e7-ad30-4f82-ad56-e94d6493fd62",
   "metadata": {},
   "outputs": [],
   "source": [
    "# Question 22: Check data type of each value in mixed dictionary"
   ]
  },
  {
   "cell_type": "code",
   "execution_count": null,
   "id": "f8d5a7c1-fe8d-415b-87b3-1b3b2814853f",
   "metadata": {},
   "outputs": [],
   "source": [
    "# Question 23: Create a dictionary with function values: {'len': len, 'str': str, 'int': int}"
   ]
  },
  {
   "cell_type": "code",
   "execution_count": null,
   "id": "21e55d29-eb03-41a1-a56f-3d5095ab9e90",
   "metadata": {},
   "outputs": [],
   "source": [
    "# Question 24: Apply each function to \"123\" using dictionary"
   ]
  },
  {
   "cell_type": "code",
   "execution_count": null,
   "id": "dceb2f6f-7fc2-48f3-88a8-81d337fe4f05",
   "metadata": {},
   "outputs": [],
   "source": [
    "# Question 25: Create a dictionary with lambda functions: {'double': lambda x: x*2, 'square': lambda x: x**2}"
   ]
  },
  {
   "cell_type": "code",
   "execution_count": null,
   "id": "7ec6a931-a14c-4f32-aacb-9b708e12ff60",
   "metadata": {},
   "outputs": [],
   "source": [
    "# Question 26: Apply each lambda function to 5"
   ]
  },
  {
   "cell_type": "code",
   "execution_count": null,
   "id": "881f7442-6ff1-4b6f-aa6d-2209e6105f0a",
   "metadata": {},
   "outputs": [],
   "source": [
    "# Question 27: Create a dictionary with class values: {'list': list, 'dict': dict, 'set': set}"
   ]
  },
  {
   "cell_type": "code",
   "execution_count": null,
   "id": "47f4f66a-378b-4fc2-a11c-ce1f70f8ae7f",
   "metadata": {},
   "outputs": [],
   "source": [
    "# Question 28: Create instances using class dictionary"
   ]
  },
  {
   "cell_type": "code",
   "execution_count": null,
   "id": "4af2dfd9-3db4-402e-b90d-1afc18ac902a",
   "metadata": {},
   "outputs": [],
   "source": [
    "# Question 29: Create a dictionary with None values: {'a': None, 'b': None, 'c': None}"
   ]
  },
  {
   "cell_type": "code",
   "execution_count": null,
   "id": "5817ad50-08c0-43fc-b7be-d818862fa25e",
   "metadata": {},
   "outputs": [],
   "source": [
    "# Question 30: Replace all None values with 0"
   ]
  },
  {
   "cell_type": "code",
   "execution_count": null,
   "id": "04eddd21-fc4c-47c2-8f34-5f8aa01fc976",
   "metadata": {},
   "outputs": [],
   "source": [
    "# Question 31: Create a dictionary with boolean values: {'is_active': True, 'is_admin': False}"
   ]
  },
  {
   "cell_type": "code",
   "execution_count": null,
   "id": "5a9b7bc6-d19c-4a80-a1d3-8cd7713ed5db",
   "metadata": {},
   "outputs": [],
   "source": [
    "# Question 32: Count True values in boolean dictionary"
   ]
  },
  {
   "cell_type": "code",
   "execution_count": null,
   "id": "937a2a7a-8a7e-4da8-8a43-cc584b120636",
   "metadata": {},
   "outputs": [],
   "source": [
    "# Question 33: Create a dictionary with complex numbers: {'z1': 3+4j, 'z2': 1+2j}"
   ]
  },
  {
   "cell_type": "code",
   "execution_count": null,
   "id": "d610b124-d75f-481a-b6cc-759af43c1628",
   "metadata": {},
   "outputs": [],
   "source": []
  },
  {
   "cell_type": "code",
   "execution_count": null,
   "id": "ce9f497e-29a8-43bf-bce8-f3c4082d73a9",
   "metadata": {},
   "outputs": [],
   "source": []
  },
  {
   "cell_type": "code",
   "execution_count": null,
   "id": "4ce12df0-b305-4111-91e4-3c8e63d19117",
   "metadata": {},
   "outputs": [],
   "source": []
  },
  {
   "cell_type": "code",
   "execution_count": null,
   "id": "be5f374e-13da-4d28-ae4c-9aa019ca8a8a",
   "metadata": {},
   "outputs": [],
   "source": []
  },
  {
   "cell_type": "code",
   "execution_count": null,
   "id": "42d49380-966e-4a7b-8200-1be40619da5a",
   "metadata": {},
   "outputs": [],
   "source": []
  },
  {
   "cell_type": "code",
   "execution_count": null,
   "id": "2b6495fc-aeeb-4f5b-8cee-19cf5a0e0a2b",
   "metadata": {},
   "outputs": [],
   "source": []
  },
  {
   "cell_type": "code",
   "execution_count": null,
   "id": "8875749f-024c-4d3b-ab51-391bcd0d6a75",
   "metadata": {},
   "outputs": [],
   "source": []
  }
 ],
 "metadata": {
  "kernelspec": {
   "display_name": "Python 3 (ipykernel)",
   "language": "python",
   "name": "python3"
  },
  "language_info": {
   "codemirror_mode": {
    "name": "ipython",
    "version": 3
   },
   "file_extension": ".py",
   "mimetype": "text/x-python",
   "name": "python",
   "nbconvert_exporter": "python",
   "pygments_lexer": "ipython3",
   "version": "3.12.4"
  }
 },
 "nbformat": 4,
 "nbformat_minor": 5
}
