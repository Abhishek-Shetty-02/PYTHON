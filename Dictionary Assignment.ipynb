{
 "cells": [
  {
   "cell_type": "code",
   "execution_count": 3,
   "id": "4a4ebc0b-608a-481c-a3ed-d10544a19386",
   "metadata": {},
   "outputs": [
    {
     "name": "stdout",
     "output_type": "stream",
     "text": [
      "{'ramesh': 25, 'suresh': 28, 'mahesh': 30, 'brijesh': 35}\n"
     ]
    }
   ],
   "source": [
    "# Question 1: Create a dictionary of student names and their ages\n",
    "# dict={\"ramesh\":25,\"suresh\":28,\"mahesh\":30,\"brijesh\":35}\n",
    "# print(dict)"
   ]
  },
  {
   "cell_type": "code",
   "execution_count": 7,
   "id": "da0f82bd-dde4-4962-bfff-72c145ada247",
   "metadata": {},
   "outputs": [
    {
     "name": "stdout",
     "output_type": "stream",
     "text": [
      "{'a': 1, 'b': 2, 'c': 3, 'd': 4, 'e': 5}\n"
     ]
    }
   ],
   "source": [
    "# Question 2: Add a new key-value pair to dictionary {'a': 1, 'b': 2, 'c': 3}\n",
    "# dict={'a': 1, 'b': 2, 'c': 3}\n",
    "# dict[\"d\"]=4\n",
    "# dict[\"e\"]=5\n",
    "# print(dict)"
   ]
  },
  {
   "cell_type": "code",
   "execution_count": 9,
   "id": "09783f33-d9c9-4db6-a014-7ba8a4aeabbe",
   "metadata": {},
   "outputs": [
    {
     "data": {
      "text/plain": [
       "dict_keys(['name', 'age', 'city'])"
      ]
     },
     "execution_count": 9,
     "metadata": {},
     "output_type": "execute_result"
    }
   ],
   "source": [
    "# Question 3: Get all keys from dictionary {'name': 'John', 'age': 25, 'city': 'New York'}\n",
    "# dict={'name': 'John', 'age': 25, 'city': 'New York'}\n",
    "# dict.keys()"
   ]
  },
  {
   "cell_type": "code",
   "execution_count": 15,
   "id": "50d8015e-d853-4637-9dba-7e24fb458781",
   "metadata": {},
   "outputs": [
    {
     "data": {
      "text/plain": [
       "dict_values([3, 2, 1])"
      ]
     },
     "execution_count": 15,
     "metadata": {},
     "output_type": "execute_result"
    }
   ],
   "source": [
    "# Question 4: Get all values from dictionary {'python': 3, 'java': 2, 'c++': 1}\n",
    "# dict={'python': 3, 'java': 2, 'c++': 1}\n",
    "# dict.values()"
   ]
  },
  {
   "cell_type": "code",
   "execution_count": 41,
   "id": "58b3ecd3-aa25-4147-8f94-8dc70099cbdb",
   "metadata": {},
   "outputs": [
    {
     "name": "stdout",
     "output_type": "stream",
     "text": [
      "the given key 'age' exists\n"
     ]
    }
   ],
   "source": [
    "# Question 5: Check if key 'age' exists in {'name': 'Alice', 'age': 30, 'city': 'London'}\n",
    "# dict={'name': 'Alice', 'age': 30, 'city': 'London'}\n",
    "# if 'age' in dict:\n",
    "#     print(\"the given key 'age' exists\")\n",
    "# else:\n",
    "#     print(\"the given key doesnt exists\")\n",
    "\n",
    "\n",
    "#By using Update Method: If key exists or not\n",
    "\n"
   ]
  },
  {
   "cell_type": "code",
   "execution_count": 39,
   "id": "735a2114-fb4f-445e-a364-ca4d3ed5c0a5",
   "metadata": {},
   "outputs": [
    {
     "data": {
      "text/plain": [
       "3"
      ]
     },
     "execution_count": 39,
     "metadata": {},
     "output_type": "execute_result"
    }
   ],
   "source": [
    "# Question 6: Remove key 'temp' from {'a': 1, 'b': 2, 'temp': 3, 'c': 4}\n",
    "# dict={'a': 1, 'b': 2, 'temp': 3, 'c': 4}\n",
    "# dict.pop('temp')"
   ]
  },
  {
   "cell_type": "code",
   "execution_count": 33,
   "id": "7a13f5f4-f43f-4bad-b550-a7db77876b44",
   "metadata": {},
   "outputs": [
    {
     "data": {
      "text/plain": [
       "255"
      ]
     },
     "execution_count": 33,
     "metadata": {},
     "output_type": "execute_result"
    }
   ],
   "source": [
    "# Question 7: Find the sum of all values in {'math': 85, 'science': 92, 'english': 78}\n",
    "# dict={'math': 85, 'science': 92, 'english': 78}\n",
    "# sum(dict.values())"
   ]
  },
  {
   "cell_type": "code",
   "execution_count": null,
   "id": "eebf7c4b-173a-491b-a00d-791ad8684b21",
   "metadata": {},
   "outputs": [],
   "source": [
    "# Question 8: Create a dictionary with squares of numbers 1 to 5\n",
    "# dict={}\n"
   ]
  },
  {
   "cell_type": "code",
   "execution_count": null,
   "id": "2bd59736-7af7-449f-bf31-5d0020d84af8",
   "metadata": {},
   "outputs": [],
   "source": [
    "# Question 9: Count frequency of each character in string \"hello\""
   ]
  },
  {
   "cell_type": "code",
   "execution_count": 65,
   "id": "05c23b15-f95d-4f43-a0b8-2b8506703143",
   "metadata": {},
   "outputs": [
    {
     "name": "stdout",
     "output_type": "stream",
     "text": [
      "{'a': 1, 'b': 2, 'c': 3, 'd': 4}\n"
     ]
    }
   ],
   "source": [
    "# Question 10: Merge two dictionaries {'a': 1, 'b': 2} and {'c': 3, 'd': 4}\n",
    "\n",
    "#By using funtions-update method\n",
    "#NOTE: all the keys from both dict are unique or not repeated.\n",
    "\n",
    "# def merge(dict1,dict2):\n",
    "#     return dict1.update(dict2)\n",
    "\n",
    "# dict1={'a': 1, 'b': 2}\n",
    "# dict2={'c': 3, 'd': 4}\n",
    "\n",
    "# merge(dict1,dict2)\n",
    "# print(dict1)\n",
    "\n",
    "\n",
    "#By using 'funtions-for loop'\n",
    "\n",
    "# def merge(dict1,dict2):\n",
    "#     for i in dict2.keys():\n",
    "#         dict1[i]=dict2[i]\n",
    "#         return dict1\n",
    "\n",
    "# dict1={'a': 1, 'b': 2}\n",
    "# dict2={'c': 3, 'd': 4}\n",
    "\n",
    "# print(merge(dict1,dict2))\n",
    "\n"
   ]
  },
  {
   "cell_type": "code",
   "execution_count": 75,
   "id": "67c76af6-4fee-4cd8-9bd0-ae5c7c9831e8",
   "metadata": {},
   "outputs": [
    {
     "name": "stdout",
     "output_type": "stream",
     "text": [
      "Person Details:  {'person1': {'name': 'Alice', 'age': 25}, 'person2': {'name': 'David', 'age': 28}, 'person3': {'name': 'Travis', 'age': 37}, 'person4': {'name': 'Dustin', 'age': 45}}\n",
      "Updated nested dictionary:  {'person1': {'name': 'Alice', 'age': 25, 'city': 'Arizona'}, 'person2': {'name': 'David', 'age': 28, 'city': 'New mexico'}, 'person3': {'name': 'Travis', 'age': 37, 'city': 'Texas'}, 'person4': {'name': 'Dustin', 'age': 45, 'city': 'Newyork'}}\n"
     ]
    }
   ],
   "source": [
    "# Question 11: Create a nested dictionary: {'person': {'name': 'Alice', 'age': 25}}\n",
    "\n",
    "# Each person is added as a key and their information (name, age) is stored in an inner dictionary.\n",
    "\n",
    "# dict={}\n",
    "# dict['person1']={\"name\":\"Alice\",\"age\":25}\n",
    "# dict['person2']={\"name\":\"David\",\"age\":28}\n",
    "# dict['person3']={\"name\":\"Travis\",\"age\":37}\n",
    "# dict['person4']={\"name\":\"Dustin\",\"age\":45}\n",
    "\n",
    "# print(\"Person Details: \",dict)\n",
    "\n",
    "# #Adding new attributes or elements to the inner dictionary\n",
    "\n",
    "# dict['person1']['city']='Arizona'\n",
    "# dict['person2']['city']='New mexico'\n",
    "# dict['person3']['city']='Texas'\n",
    "# dict['person4']['city']='Newyork'\n",
    "\n",
    "# print(\"Updated nested dictionary: \",dict)"
   ]
  },
  {
   "cell_type": "code",
   "execution_count": 87,
   "id": "102de442-459b-4008-953b-44f64057eb83",
   "metadata": {},
   "outputs": [
    {
     "name": "stdout",
     "output_type": "stream",
     "text": [
      "{'person1': {'name': 'Alice', 'age': 25}, 'person2': {'name': 'David', 'age': 28, 'city': 'New mexico'}, 'person3': {'name': 'Travis', 'age': 37, 'city': 'Texas'}, 'person4': {'name': 'Dustin', 'age': 45, 'city': 'Newyork'}}\n",
      "{'person1': {'name': 'Alice', 'age': 25}, 'person2': {'name': 'David', 'age': 28, 'city': 'New mexico'}, 'person3': {'name': 'Travis', 'age': 37, 'city': 'Texas'}}\n"
     ]
    }
   ],
   "source": [
    "# Question 12: Access nested value 'name' from {'person': {'name': 'Alice', 'age': 25}}\n",
    "\n",
    "# dict={'person1': {'name': 'Alice', 'age': 25, 'city': 'Arizona'}, 'person2': {'name': 'David', 'age': 28, 'city': 'New mexico'},\n",
    "#       'person3': {'name': 'Travis', 'age': 37, 'city': 'Texas'}, 'person4': {'name': 'Dustin', 'age': 45, 'city': 'Newyork'}}\n",
    "\n",
    "# print(dict['person1']['name']['age']['city'])\n",
    "\n",
    "#By using Indexes\n",
    "\n",
    "# dict={'person1': {'name': 'Alice', 'age': 25, 'city': 'Arizona'}, 'person2': {'name': 'David', 'age': 28, 'city': 'New mexico'},\n",
    "#        'person3': {'name': 'Travis', 'age': 37, 'city': 'Texas'}, 'person4': {'name': 'Dustin', 'age': 45,'city': 'Newyork'}}\n"
   ]
  },
  {
   "cell_type": "code",
   "execution_count": 89,
   "id": "f6cc2154-b908-4bd3-878a-038f17549581",
   "metadata": {},
   "outputs": [
    {
     "name": "stdout",
     "output_type": "stream",
     "text": [
      "{'fruits': ['apple', 'banana'], 'colors': ['red', 'blue']}\n"
     ]
    }
   ],
   "source": [
    "# Question 13: Create a dictionary with list values: {'fruits': ['apple', 'banana'], 'colors': ['red', 'blue']}\n",
    "\n",
    "#By using indexes\n",
    "\n",
    "# dict={}\n",
    "\n",
    "# dict[\"fruits\"]=[\"apple\",\"banana\"]\n",
    "# dict[\"colors\"]=[\"red\",\"blue\"]\n",
    "# print(dict)\n",
    "\n",
    "#By using Dictionary Comprehension\n",
    "\n"
   ]
  },
  {
   "cell_type": "code",
   "execution_count": 97,
   "id": "834ada82-5434-4e94-88a9-2174a63b64f4",
   "metadata": {},
   "outputs": [],
   "source": [
    "# Question 14: Add 'orange' to the 'fruits' list in nested dictionary\n",
    "# dict={}\n",
    "\n",
    "# dict[\"fruits\"]=[\"apple\",\"banana\"]\n",
    "# dict[\"colors\"]=[\"red\",\"blue\"]\n",
    "# print(\"the original list: \",dict)\n",
    "\n",
    "# #Adding 'orange' to fruits\n",
    "\n",
    "# dict[\"fruits\"][\"orange\"]\n",
    "# print(\"the updated list: \",dict)"
   ]
  },
  {
   "cell_type": "code",
   "execution_count": 107,
   "id": "44ed1ba9-2652-4e25-a53c-ae2ee8dd562e",
   "metadata": {},
   "outputs": [],
   "source": [
    "# Question 15: Create a dictionary with tuple values: {'coordinates': (10, 20), 'rgb': (255, 0, 0)}\n",
    "\n",
    "#By using indexes\n",
    "\n",
    "# dict={}\n",
    "\n",
    "# dict[\"coordinates\"]=[(10,20)]\n",
    "# dict[\"rgb\"]=[250,0,0]\n",
    "# print(dict)\n",
    "\n",
    "#By using dict method\n",
    "\n",
    "# d=dict([(\"coordinates\",(10,20)),(\"rgb\",(255,0,0))])\n",
    "# print(d)\n",
    "\n",
    "#By using defaultdict\n",
    "\n",
    "# from collections import defaultdict\n",
    "# d=defaultdict(tuple)\n",
    "\n",
    "# d['coordinates']=(10,20)\n",
    "# d['rgb']=(250,0,0)\n",
    "\n",
    "# print(dict(d))\n",
    "\n"
   ]
  },
  {
   "cell_type": "code",
   "execution_count": null,
   "id": "c4551246-798d-4a6a-88af-963634d874c4",
   "metadata": {},
   "outputs": [],
   "source": [
    "# Question 16: Extract first coordinate from nested tuple"
   ]
  },
  {
   "cell_type": "code",
   "execution_count": 123,
   "id": "eb803ee9-9370-461b-8ec3-4dda49a10442",
   "metadata": {},
   "outputs": [
    {
     "name": "stdout",
     "output_type": "stream",
     "text": [
      "{'vowels': {'a', 'e', 'i'}, 'consonants': {'b', 'c', 'd'}}\n"
     ]
    }
   ],
   "source": [
    "# Question 17: Create a dictionary with set values: {'vowels': {'a', 'e', 'i'}, 'consonants': {'b', 'c', 'd'}}\n",
    "\n",
    "##By Using dictionary comprehension\n",
    "\n",
    "# dict={key: set() for key in [\"vowels\",\"consonants\"]}\n",
    "# dict['vowels'].update(['a','e','i'])\n",
    "# dict['consonants'].update(['b','c','d'])\n",
    "# print(dict)\n",
    "\n",
    "#By using defaultdict(set)***\n",
    "\n",
    "# from collections import defaultdict\n",
    "\n",
    "# dict=defaultdict(set)\n",
    "\n",
    "# dict['vowels'] |={'a','e','i'}   #' |'  :pipe or vertical bar operator\n",
    "\n",
    "# dict['consonants'] |={'b','c','d'}\n",
    "\n",
    "# print(dict)\n",
    "\n",
    "#By using dict.setdefault()\n",
    "\n",
    "# dict={}\n",
    "\n",
    "# dict.setdefault(\"vowels\",set()).update('a','e','i')\n",
    "# dict.setdefault(\"consonants\",set()).update('b','c','d')\n",
    "\n",
    "# print(dict)\n"
   ]
  },
  {
   "cell_type": "code",
   "execution_count": null,
   "id": "e5ad1110-0b3d-4f57-a2d6-c3689382a548",
   "metadata": {},
   "outputs": [],
   "source": [
    "# Question 18: Add 'o' to vowels set in nested dictionary"
   ]
  },
  {
   "cell_type": "code",
   "execution_count": null,
   "id": "66550126-1e31-4603-b845-a809dfc3d1f7",
   "metadata": {},
   "outputs": [],
   "source": [
    "# Question 19: Create a 3-level nested dictionary: {'company': {'department': {'employee': {'name': 'John', 'id': 123}}}}"
   ]
  },
  {
   "cell_type": "code",
   "execution_count": null,
   "id": "a1f12f15-f78c-4762-9d98-441bc75179bc",
   "metadata": {},
   "outputs": [],
   "source": [
    "# Question 20: Access employee name from 3-level nested dictionary"
   ]
  },
  {
   "cell_type": "code",
   "execution_count": null,
   "id": "8e605d6f-9011-49d7-9ef9-2ca3301361e1",
   "metadata": {},
   "outputs": [],
   "source": [
    "# Question 21: Create a dictionary with mixed data types: {'int': 42, 'float': 3.14, 'str': 'hello', 'bool': True}"
   ]
  },
  {
   "cell_type": "code",
   "execution_count": null,
   "id": "e98437e7-ad30-4f82-ad56-e94d6493fd62",
   "metadata": {},
   "outputs": [],
   "source": [
    "# Question 22: Check data type of each value in mixed dictionary"
   ]
  },
  {
   "cell_type": "code",
   "execution_count": null,
   "id": "f8d5a7c1-fe8d-415b-87b3-1b3b2814853f",
   "metadata": {},
   "outputs": [],
   "source": [
    "# Question 23: Create a dictionary with function values: {'len': len, 'str': str, 'int': int}"
   ]
  },
  {
   "cell_type": "code",
   "execution_count": null,
   "id": "21e55d29-eb03-41a1-a56f-3d5095ab9e90",
   "metadata": {},
   "outputs": [],
   "source": [
    "# Question 24: Apply each function to \"123\" using dictionary"
   ]
  },
  {
   "cell_type": "code",
   "execution_count": null,
   "id": "dceb2f6f-7fc2-48f3-88a8-81d337fe4f05",
   "metadata": {},
   "outputs": [],
   "source": [
    "# Question 25: Create a dictionary with lambda functions: {'double': lambda x: x*2, 'square': lambda x: x**2}"
   ]
  },
  {
   "cell_type": "code",
   "execution_count": null,
   "id": "7ec6a931-a14c-4f32-aacb-9b708e12ff60",
   "metadata": {},
   "outputs": [],
   "source": [
    "# Question 26: Apply each lambda function to 5"
   ]
  },
  {
   "cell_type": "code",
   "execution_count": null,
   "id": "881f7442-6ff1-4b6f-aa6d-2209e6105f0a",
   "metadata": {},
   "outputs": [],
   "source": [
    "# Question 27: Create a dictionary with class values: {'list': list, 'dict': dict, 'set': set}"
   ]
  },
  {
   "cell_type": "code",
   "execution_count": null,
   "id": "47f4f66a-378b-4fc2-a11c-ce1f70f8ae7f",
   "metadata": {},
   "outputs": [],
   "source": [
    "# Question 28: Create instances using class dictionary"
   ]
  },
  {
   "cell_type": "code",
   "execution_count": null,
   "id": "4af2dfd9-3db4-402e-b90d-1afc18ac902a",
   "metadata": {},
   "outputs": [],
   "source": [
    "# Question 29: Create a dictionary with None values: {'a': None, 'b': None, 'c': None}"
   ]
  },
  {
   "cell_type": "code",
   "execution_count": null,
   "id": "5817ad50-08c0-43fc-b7be-d818862fa25e",
   "metadata": {},
   "outputs": [],
   "source": [
    "# Question 30: Replace all None values with 0"
   ]
  },
  {
   "cell_type": "code",
   "execution_count": null,
   "id": "04eddd21-fc4c-47c2-8f34-5f8aa01fc976",
   "metadata": {},
   "outputs": [],
   "source": [
    "# Question 31: Create a dictionary with boolean values: {'is_active': True, 'is_admin': False}"
   ]
  },
  {
   "cell_type": "code",
   "execution_count": null,
   "id": "5a9b7bc6-d19c-4a80-a1d3-8cd7713ed5db",
   "metadata": {},
   "outputs": [],
   "source": [
    "# Question 32: Count True values in boolean dictionary"
   ]
  },
  {
   "cell_type": "code",
   "execution_count": null,
   "id": "937a2a7a-8a7e-4da8-8a43-cc584b120636",
   "metadata": {},
   "outputs": [],
   "source": [
    "# Question 33: Create a dictionary with complex numbers: {'z1': 3+4j, 'z2': 1+2j}"
   ]
  },
  {
   "cell_type": "code",
   "execution_count": null,
   "id": "d610b124-d75f-481a-b6cc-759af43c1628",
   "metadata": {},
   "outputs": [],
   "source": [
    "# Question 34: Find magnitude of each complex number"
   ]
  },
  {
   "cell_type": "code",
   "execution_count": null,
   "id": "ce9f497e-29a8-43bf-bce8-f3c4082d73a9",
   "metadata": {},
   "outputs": [],
   "source": [
    "# Question 35: Create a 4-level nested dictionary"
   ]
  },
  {
   "cell_type": "code",
   "execution_count": null,
   "id": "4ce12df0-b305-4111-91e4-3c8e63d19117",
   "metadata": {},
   "outputs": [],
   "source": [
    "# Question 36: Access deepest value in 4-level nested dictionary"
   ]
  },
  {
   "cell_type": "code",
   "execution_count": null,
   "id": "be5f374e-13da-4d28-ae4c-9aa019ca8a8a",
   "metadata": {},
   "outputs": [],
   "source": [
    "# Question 37: Create a dictionary with range values: {'r1': range(3), 'r2': range(5)}"
   ]
  },
  {
   "cell_type": "code",
   "execution_count": null,
   "id": "42d49380-966e-4a7b-8200-1be40619da5a",
   "metadata": {},
   "outputs": [],
   "source": [
    "# Question 38: Convert each range to list"
   ]
  },
  {
   "cell_type": "code",
   "execution_count": null,
   "id": "2b6495fc-aeeb-4f5b-8cee-19cf5a0e0a2b",
   "metadata": {},
   "outputs": [],
   "source": [
    "# Question 39: Create a dictionary with generator values"
   ]
  },
  {
   "cell_type": "code",
   "execution_count": null,
   "id": "8875749f-024c-4d3b-ab51-391bcd0d6a75",
   "metadata": {},
   "outputs": [],
   "source": [
    "# Question 40: Convert each generator to list"
   ]
  },
  {
   "cell_type": "code",
   "execution_count": null,
   "id": "f6c4c18c-1cc3-4766-9882-234e9b3de4a6",
   "metadata": {},
   "outputs": [],
   "source": [
    "# Question 41: Create a dictionary with iterator values"
   ]
  },
  {
   "cell_type": "code",
   "execution_count": null,
   "id": "c192df0c-68af-431c-95dc-c7cc00d344b2",
   "metadata": {},
   "outputs": [],
   "source": [
    "# Question 42: Extract all elements from each iterator"
   ]
  },
  {
   "cell_type": "code",
   "execution_count": null,
   "id": "3fcdb2ff-b101-46f1-9f95-483ae049e4ad",
   "metadata": {},
   "outputs": [],
   "source": [
    "# Question 43: Create a dictionary with nested lists: {'matrix': [[1, 2], [3, 4]], 'vector': [5, 6, 7]}"
   ]
  },
  {
   "cell_type": "code",
   "execution_count": null,
   "id": "31c6f284-85ea-415a-9733-9a8f294bd1ca",
   "metadata": {},
   "outputs": [],
   "source": [
    "# Question 44: Find sum of each nested list"
   ]
  },
  {
   "cell_type": "code",
   "execution_count": null,
   "id": "b7429c44-2949-4efc-b364-44f59e9a5632",
   "metadata": {},
   "outputs": [],
   "source": [
    "# Question 45: Create a dictionary with nested dictionaries: {'config': {'db': {'host': 'localhost', 'port': 5432}}}"
   ]
  },
  {
   "cell_type": "code",
   "execution_count": null,
   "id": "9a867e86-c291-40e8-a5d6-a99f9bfd4f3d",
   "metadata": {},
   "outputs": [],
   "source": [
    "# Question 46: Access database port from nested configuration"
   ]
  },
  {
   "cell_type": "code",
   "execution_count": null,
   "id": "4f803c41-7303-4f7c-b5b7-fe74db1982ca",
   "metadata": {},
   "outputs": [],
   "source": [
    "# Question 47: Create a dictionary with nested tuples: {'points': ((1, 2), (3, 4)), 'rgb': ((255, 0, 0), (0, 255, 0))}"
   ]
  },
  {
   "cell_type": "code",
   "execution_count": null,
   "id": "d87cdc8e-2a68-49d9-883b-1ba037599857",
   "metadata": {},
   "outputs": [],
   "source": [
    "# Question 48: Extract first point coordinates"
   ]
  },
  {
   "cell_type": "code",
   "execution_count": null,
   "id": "faf1f2ee-726a-4330-8b92-6f36c8983535",
   "metadata": {},
   "outputs": [],
   "source": [
    "# Question 49: Create a dictionary with nested sets: {'groups': {{1, 2, 3}, {4, 5, 6}}, 'categories': {{'a', 'b'}, {'c', 'd'}}}"
   ]
  },
  {
   "cell_type": "code",
   "execution_count": null,
   "id": "ee9c8508-0076-4249-b9f8-45267b7194e4",
   "metadata": {},
   "outputs": [],
   "source": [
    "# Question 50: Find union of all nested sets"
   ]
  }
 ],
 "metadata": {
  "kernelspec": {
   "display_name": "Python 3 (ipykernel)",
   "language": "python",
   "name": "python3"
  },
  "language_info": {
   "codemirror_mode": {
    "name": "ipython",
    "version": 3
   },
   "file_extension": ".py",
   "mimetype": "text/x-python",
   "name": "python",
   "nbconvert_exporter": "python",
   "pygments_lexer": "ipython3",
   "version": "3.12.4"
  }
 },
 "nbformat": 4,
 "nbformat_minor": 5
}
