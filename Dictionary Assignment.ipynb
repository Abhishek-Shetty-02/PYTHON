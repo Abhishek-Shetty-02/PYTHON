{
 "cells": [
  {
   "cell_type": "code",
   "execution_count": 3,
   "id": "4a4ebc0b-608a-481c-a3ed-d10544a19386",
   "metadata": {},
   "outputs": [
    {
     "name": "stdout",
     "output_type": "stream",
     "text": [
      "{'ramesh': 25, 'suresh': 28, 'mahesh': 30, 'brijesh': 35}\n"
     ]
    }
   ],
   "source": [
    "# Question 1: Create a dictionary of student names and their ages\n",
    "dict={\"ramesh\":25,\"suresh\":28,\"mahesh\":30,\"brijesh\":35}\n",
    "print(dict)"
   ]
  },
  {
   "cell_type": "code",
   "execution_count": 7,
   "id": "da0f82bd-dde4-4962-bfff-72c145ada247",
   "metadata": {},
   "outputs": [
    {
     "name": "stdout",
     "output_type": "stream",
     "text": [
      "{'a': 1, 'b': 2, 'c': 3, 'd': 4, 'e': 5}\n"
     ]
    }
   ],
   "source": [
    "# Question 2: Add a new key-value pair to dictionary {'a': 1, 'b': 2, 'c': 3}\n",
    "dict={'a': 1, 'b': 2, 'c': 3}\n",
    "dict[\"d\"]=4\n",
    "dict[\"e\"]=5\n",
    "print(dict)"
   ]
  },
  {
   "cell_type": "code",
   "execution_count": 9,
   "id": "09783f33-d9c9-4db6-a014-7ba8a4aeabbe",
   "metadata": {},
   "outputs": [
    {
     "data": {
      "text/plain": [
       "dict_keys(['name', 'age', 'city'])"
      ]
     },
     "execution_count": 9,
     "metadata": {},
     "output_type": "execute_result"
    }
   ],
   "source": [
    "# Question 3: Get all keys from dictionary {'name': 'John', 'age': 25, 'city': 'New York'}\n",
    "dict={'name': 'John', 'age': 25, 'city': 'New York'}\n",
    "dict.keys()"
   ]
  },
  {
   "cell_type": "code",
   "execution_count": 15,
   "id": "50d8015e-d853-4637-9dba-7e24fb458781",
   "metadata": {},
   "outputs": [
    {
     "data": {
      "text/plain": [
       "dict_values([3, 2, 1])"
      ]
     },
     "execution_count": 15,
     "metadata": {},
     "output_type": "execute_result"
    }
   ],
   "source": [
    "# Question 4: Get all values from dictionary {'python': 3, 'java': 2, 'c++': 1}\n",
    "dict={'python': 3, 'java': 2, 'c++': 1}\n",
    "dict.values()"
   ]
  },
  {
   "cell_type": "code",
   "execution_count": 41,
   "id": "58b3ecd3-aa25-4147-8f94-8dc70099cbdb",
   "metadata": {},
   "outputs": [
    {
     "name": "stdout",
     "output_type": "stream",
     "text": [
      "the given key 'age' exists\n"
     ]
    }
   ],
   "source": [
    "# Question 5: Check if key 'age' exists in {'name': 'Alice', 'age': 30, 'city': 'London'}\n",
    "dict={'name': 'Alice', 'age': 30, 'city': 'London'}\n",
    "if 'age' in dict:\n",
    "    print(\"the given key 'age' exists\")\n",
    "else:\n",
    "    print(\"the given key doesnt exists\")"
   ]
  },
  {
   "cell_type": "code",
   "execution_count": 39,
   "id": "735a2114-fb4f-445e-a364-ca4d3ed5c0a5",
   "metadata": {},
   "outputs": [
    {
     "data": {
      "text/plain": [
       "3"
      ]
     },
     "execution_count": 39,
     "metadata": {},
     "output_type": "execute_result"
    }
   ],
   "source": [
    "# Question 6: Remove key 'temp' from {'a': 1, 'b': 2, 'temp': 3, 'c': 4}\n",
    "dict={'a': 1, 'b': 2, 'temp': 3, 'c': 4}\n",
    "dict.pop('temp')"
   ]
  },
  {
   "cell_type": "code",
   "execution_count": 33,
   "id": "7a13f5f4-f43f-4bad-b550-a7db77876b44",
   "metadata": {},
   "outputs": [
    {
     "data": {
      "text/plain": [
       "255"
      ]
     },
     "execution_count": 33,
     "metadata": {},
     "output_type": "execute_result"
    }
   ],
   "source": [
    "# Question 7: Find the sum of all values in {'math': 85, 'science': 92, 'english': 78}\n",
    "dict={'math': 85, 'science': 92, 'english': 78}\n",
    "sum(dict.values())"
   ]
  },
  {
   "cell_type": "code",
   "execution_count": null,
   "id": "eebf7c4b-173a-491b-a00d-791ad8684b21",
   "metadata": {},
   "outputs": [],
   "source": [
    "# Question 8: Create a dictionary with squares of numbers 1 to 5\n",
    "dict={}\n"
   ]
  },
  {
   "cell_type": "code",
   "execution_count": null,
   "id": "2bd59736-7af7-449f-bf31-5d0020d84af8",
   "metadata": {},
   "outputs": [],
   "source": [
    "# Question 9: Count frequency of each character in string \"hello\""
   ]
  },
  {
   "cell_type": "code",
   "execution_count": 49,
   "id": "05c23b15-f95d-4f43-a0b8-2b8506703143",
   "metadata": {},
   "outputs": [
    {
     "name": "stdout",
     "output_type": "stream",
     "text": [
      "{'a': 1, 'b': 2, 'c': 3}\n"
     ]
    }
   ],
   "source": [
    "# Question 10: Merge two dictionaries {'a': 1, 'b': 2} and {'c': 3, 'd': 4}\n",
    "\n",
    "\n",
    "def merge(dict1,dict2):\n",
    "    for i in dict2.keys():\n",
    "        dict1[i]=dict2[i]\n",
    "        return dict1\n",
    "\n",
    "dict1={'a': 1, 'b': 2}\n",
    "dict2={'c': 3, 'd': 4}\n",
    "\n",
    "print(merge(dict1,dict2))"
   ]
  },
  {
   "cell_type": "code",
   "execution_count": null,
   "id": "67c76af6-4fee-4cd8-9bd0-ae5c7c9831e8",
   "metadata": {},
   "outputs": [],
   "source": [
    "# Question 11: Create a nested dictionary: {'person': {'name': 'Alice', 'age': 25}}"
   ]
  },
  {
   "cell_type": "code",
   "execution_count": null,
   "id": "102de442-459b-4008-953b-44f64057eb83",
   "metadata": {},
   "outputs": [],
   "source": [
    "# Question 12: Access nested value 'name' from {'person': {'name': 'Alice', 'age': 25}}"
   ]
  },
  {
   "cell_type": "code",
   "execution_count": null,
   "id": "f6cc2154-b908-4bd3-878a-038f17549581",
   "metadata": {},
   "outputs": [],
   "source": [
    "# Question 13: Create a dictionary with list values: {'fruits': ['apple', 'banana'], 'colors': ['red', 'blue']}"
   ]
  },
  {
   "cell_type": "code",
   "execution_count": null,
   "id": "834ada82-5434-4e94-88a9-2174a63b64f4",
   "metadata": {},
   "outputs": [],
   "source": [
    "# Question 14: Add 'orange' to the 'fruits' list in nested dictionary"
   ]
  },
  {
   "cell_type": "code",
   "execution_count": null,
   "id": "44ed1ba9-2652-4e25-a53c-ae2ee8dd562e",
   "metadata": {},
   "outputs": [],
   "source": [
    "# Question 15: Create a dictionary with tuple values: {'coordinates': (10, 20), 'rgb': (255, 0, 0)}"
   ]
  },
  {
   "cell_type": "code",
   "execution_count": null,
   "id": "c4551246-798d-4a6a-88af-963634d874c4",
   "metadata": {},
   "outputs": [],
   "source": [
    "# Question 16: Extract first coordinate from nested tuple"
   ]
  },
  {
   "cell_type": "code",
   "execution_count": null,
   "id": "eb803ee9-9370-461b-8ec3-4dda49a10442",
   "metadata": {},
   "outputs": [],
   "source": [
    "# Question 17: Create a dictionary with set values: {'vowels': {'a', 'e', 'i'}, 'consonants': {'b', 'c', 'd'}}"
   ]
  },
  {
   "cell_type": "code",
   "execution_count": null,
   "id": "e5ad1110-0b3d-4f57-a2d6-c3689382a548",
   "metadata": {},
   "outputs": [],
   "source": [
    "# Question 18: Add 'o' to vowels set in nested dictionary"
   ]
  },
  {
   "cell_type": "code",
   "execution_count": null,
   "id": "66550126-1e31-4603-b845-a809dfc3d1f7",
   "metadata": {},
   "outputs": [],
   "source": [
    "# Question 19: Create a 3-level nested dictionary: {'company': {'department': {'employee': {'name': 'John', 'id': 123}}}}"
   ]
  },
  {
   "cell_type": "code",
   "execution_count": null,
   "id": "a1f12f15-f78c-4762-9d98-441bc75179bc",
   "metadata": {},
   "outputs": [],
   "source": [
    "# Question 20: Access employee name from 3-level nested dictionary"
   ]
  },
  {
   "cell_type": "code",
   "execution_count": null,
   "id": "8e605d6f-9011-49d7-9ef9-2ca3301361e1",
   "metadata": {},
   "outputs": [],
   "source": [
    "# Question 21: Create a dictionary with mixed data types: {'int': 42, 'float': 3.14, 'str': 'hello', 'bool': True}"
   ]
  },
  {
   "cell_type": "code",
   "execution_count": null,
   "id": "e98437e7-ad30-4f82-ad56-e94d6493fd62",
   "metadata": {},
   "outputs": [],
   "source": [
    "# Question 22: Check data type of each value in mixed dictionary"
   ]
  },
  {
   "cell_type": "code",
   "execution_count": null,
   "id": "f8d5a7c1-fe8d-415b-87b3-1b3b2814853f",
   "metadata": {},
   "outputs": [],
   "source": [
    "# Question 23: Create a dictionary with function values: {'len': len, 'str': str, 'int': int}"
   ]
  },
  {
   "cell_type": "code",
   "execution_count": null,
   "id": "21e55d29-eb03-41a1-a56f-3d5095ab9e90",
   "metadata": {},
   "outputs": [],
   "source": [
    "# Question 24: Apply each function to \"123\" using dictionary"
   ]
  },
  {
   "cell_type": "code",
   "execution_count": null,
   "id": "dceb2f6f-7fc2-48f3-88a8-81d337fe4f05",
   "metadata": {},
   "outputs": [],
   "source": [
    "# Question 25: Create a dictionary with lambda functions: {'double': lambda x: x*2, 'square': lambda x: x**2}"
   ]
  }
 ],
 "metadata": {
  "kernelspec": {
   "display_name": "Python 3 (ipykernel)",
   "language": "python",
   "name": "python3"
  },
  "language_info": {
   "codemirror_mode": {
    "name": "ipython",
    "version": 3
   },
   "file_extension": ".py",
   "mimetype": "text/x-python",
   "name": "python",
   "nbconvert_exporter": "python",
   "pygments_lexer": "ipython3",
   "version": "3.12.4"
  }
 },
 "nbformat": 4,
 "nbformat_minor": 5
}
