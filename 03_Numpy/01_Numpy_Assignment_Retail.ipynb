{
 "cells": [
  {
   "cell_type": "code",
   "execution_count": 9,
   "id": "5a4c3288-9b4e-451e-b8a8-9ea9e05ae7b7",
   "metadata": {},
   "outputs": [
    {
     "name": "stdout",
     "output_type": "stream",
     "text": [
      "[1 2 3]\n",
      "[[ 2  4  6]\n",
      " [ 8 10 12]]\n"
     ]
    }
   ],
   "source": [
    "#Numpy\n",
    "\n",
    "# import numpy as np\n",
    "\n",
    "# arr=np.array([1,2,3])    #Rank=1\n",
    "\n",
    "# print(arr)\n",
    "\n",
    "# arr=np.array([[2,4,6],   #Rank=2\n",
    "#              [8,10,12]])   #If you miss \"[]\" or \"()\":TypeError: Field elements must be 2- or 3-tuples, got '8' \n",
    "\n",
    "# print(arr)"
   ]
  },
  {
   "cell_type": "code",
   "execution_count": 15,
   "id": "20122a5e-7366-4ef5-8dee-b821800818f5",
   "metadata": {},
   "outputs": [
    {
     "name": "stdout",
     "output_type": "stream",
     "text": [
      "3.0 -7.0 4.0 2.0\n"
     ]
    }
   ],
   "source": [
    "#Numpy Indexing\n",
    "\n",
    "#Accessing all the elements by index\n",
    "\n",
    "# import numpy as np\n",
    "\n",
    "# arr=np.array([[-2,6,8],       #Rank=2\n",
    "#               [-9,1.5,7]])\n",
    "# print(arr)\n",
    "\n",
    "# print(arr[0,0])  #arr[Rows,Columns]\n",
    "# print(arr[0,1])\n",
    "# print(arr[0,2])\n",
    "# print(arr[1,0])\n",
    "# print(arr[1,1])\n",
    "# print(arr[1,2])  \n",
    "\n",
    "# print(arr[0:1]) #First Row\n",
    "\n",
    "# print(arr[1:2]) #Second Row\n",
    "\n",
    "# import numpy as np\n",
    "\n",
    "# arr = np.array([[-1, 2, 0, 4],\n",
    "#                 [4, -0.5, 6, 0],\n",
    "#                 [2.6, 0, 7, 8],\n",
    "#                 [3, -7, 4, 2.0]])\n",
    "\n",
    "# Second Column\n",
    "# print(*arr[0:,1])\n",
    "\n",
    "# Fourth Column\n",
    "# print(*arr[0:,3])\n",
    "\n",
    "# Third row\n",
    "# print(*arr[2:3,0:])\n",
    "\n",
    "# Fourth Row\n",
    "# print(*arr[3,0:4])\n"
   ]
  },
  {
   "cell_type": "code",
   "execution_count": 21,
   "id": "840ef010-d909-4fc3-9954-62c57b126729",
   "metadata": {},
   "outputs": [
    {
     "data": {
      "text/plain": [
       "array([[19, 10,  1,  3],\n",
       "       [ 4, 25, 23, 17],\n",
       "       [13, 15, 39, 46],\n",
       "       [22, 24, 13, 41]], dtype=int32)"
      ]
     },
     "execution_count": 21,
     "metadata": {},
     "output_type": "execute_result"
    }
   ],
   "source": [
    "# import numpy as np\n",
    "\n",
    "# data=np.random.randint(0,50,(4,4))\n",
    "\n",
    "# data\n"
   ]
  },
  {
   "cell_type": "code",
   "execution_count": null,
   "id": "2fb4e6cb-87d5-4994-b4ee-238b03553520",
   "metadata": {},
   "outputs": [],
   "source": []
  },
  {
   "cell_type": "code",
   "execution_count": 1,
   "id": "a0de3c20-a494-4aca-bb8b-cc140db6baf9",
   "metadata": {},
   "outputs": [
    {
     "name": "stdout",
     "output_type": "stream",
     "text": [
      "[[    1 25000   300  1200    10]\n",
      " [    2 32000   450  1500    15]\n",
      " [    3 28000   380  1100     8]\n",
      " [    4 41000   500  1600    20]\n",
      " [    5 35000   420  1400    12]\n",
      " [    6 27000   360  1300     9]\n",
      " [    7 39000   480  1700    18]\n",
      " [    8 30000   400  1250    14]\n",
      " [    9 45000   550  1800    25]\n",
      " [   10 33000   410  1450    11]]\n"
     ]
    }
   ],
   "source": [
    "# Manually created array: [Store ID, Sales, Customers, Inventory, Returns]\n",
    "\n",
    "# import numpy as np\n",
    "\n",
    "# retail_data = np.array([\n",
    "#     [1, 25000, 300, 1200, 10],\n",
    "#     [2, 32000, 450, 1500, 15],\n",
    "#     [3, 28000, 380, 1100, 8],\n",
    "#     [4, 41000, 500, 1600, 20],\n",
    "#     [5, 35000, 420, 1400, 12],\n",
    "#     [6, 27000, 360, 1300, 9],\n",
    "#     [7, 39000, 480, 1700, 18],\n",
    "#     [8, 30000, 400, 1250, 14],\n",
    "#     [9, 45000, 550, 1800, 25],\n",
    "#     [10, 33000, 410, 1450, 11]\n",
    "# ])\n",
    "\n",
    "# print(retail_data)"
   ]
  },
  {
   "cell_type": "markdown",
   "id": "0de09da2-c155-40db-9c53-dcdc491213ad",
   "metadata": {},
   "source": [
    "Basic Performance Analysis"
   ]
  },
  {
   "cell_type": "code",
   "execution_count": 26,
   "id": "884f2978-d4e7-4dfe-b953-7700a45cbffd",
   "metadata": {},
   "outputs": [
    {
     "name": "stdout",
     "output_type": "stream",
     "text": [
      "the total revenue generated across all stores is: 4790500000\n"
     ]
    }
   ],
   "source": [
    "# Retail Data – Business Questions (for `retail_data`)\n",
    "\n",
    "# **Assumed columns:** `[StoreID, Sales, Customers, Inventory, Returns]`\n",
    "\n",
    "## Basic Performance Analysis\n",
    "\n",
    "# Question 1. What is the **total revenue** generated across all stores?\n",
    "# tot_rev = retail_data[:,1].sum() * retail_data[:,3].sum()\n",
    "# tot_rev\n",
    "\n",
    "# print(f\"the total revenue generated across all stores is: {tot_rev}\")"
   ]
  },
  {
   "cell_type": "code",
   "execution_count": 28,
   "id": "98734011-5974-47ce-b83b-001864682a61",
   "metadata": {},
   "outputs": [
    {
     "name": "stdout",
     "output_type": "stream",
     "text": [
      "the store recorded the highest sales is Store id: 9\n"
     ]
    }
   ],
   "source": [
    "# Question 2. Which store recorded the **highest sales**?\n",
    "# a=retail_data[:,1].argmax()+1   # +1: Index starts at 0\n",
    "\n",
    "# print(f\"the store recorded the highest sales is Store id: {a}\")"
   ]
  },
  {
   "cell_type": "code",
   "execution_count": 32,
   "id": "b0c87ae5-8275-4d8b-9db4-0ca67fcc59b8",
   "metadata": {},
   "outputs": [
    {
     "name": "stdout",
     "output_type": "stream",
     "text": [
      "the store recorded the lowest sales is Store id: 1\n"
     ]
    }
   ],
   "source": [
    "# Question 3. Which store recorded the **lowest sales**?\n",
    "# b=retail_data[:,1].argmin()+1   # +1: Index starts at 0\n",
    "\n",
    "# print(f\"the store recorded the lowest sales is Store id: {b}\")"
   ]
  },
  {
   "cell_type": "code",
   "execution_count": 34,
   "id": "217d4b21-9226-4367-94dc-b367cd07f534",
   "metadata": {},
   "outputs": [
    {
     "name": "stdout",
     "output_type": "stream",
     "text": [
      "the average daily sales per store: 33500.0\n"
     ]
    }
   ],
   "source": [
    "# Question 4. What is the **average daily sales** per store?\n",
    "# c=retail_data[:,1].sum() / 10\n",
    "\n",
    "# print(f\"the average daily sales per store: {c}\")"
   ]
  },
  {
   "cell_type": "code",
   "execution_count": 52,
   "id": "634e005d-cd0e-44c4-9c5f-a12d8c8b4a60",
   "metadata": {},
   "outputs": [
    {
     "name": "stdout",
     "output_type": "stream",
     "text": [
      "The stores achieved sales above ₹35,000: [41000 39000 45000]\n"
     ]
    }
   ],
   "source": [
    "# Question 5. How many stores achieved sales **above ₹35,000**?\n",
    "\n",
    "# data = (retail_data[:,1])\n",
    "# x=data[data > 35000]\n",
    "\n",
    "# print(f\"The stores achieved sales above ₹35,000: {x}\")"
   ]
  },
  {
   "cell_type": "markdown",
   "id": "4c22d04c-f01f-4e50-b614-4b98c983b4de",
   "metadata": {},
   "source": [
    "Customer Insights"
   ]
  },
  {
   "cell_type": "code",
   "execution_count": 57,
   "id": "5051c291-6372-456c-b20d-ff185b24c74e",
   "metadata": {},
   "outputs": [
    {
     "name": "stdout",
     "output_type": "stream",
     "text": [
      "The stores achieved sales above ₹35,000: 9\n"
     ]
    }
   ],
   "source": [
    "# Customer Insights\n",
    "# Manually created array: [Store ID, Sales, Customers, Inventory, Returns]\n",
    "\n",
    "# import numpy as np\n",
    "\n",
    "# retail_data = np.array([\n",
    "#     [1, 25000, 300, 1200, 10],\n",
    "#     [2, 32000, 450, 1500, 15],\n",
    "#     [3, 28000, 380, 1100, 8],\n",
    "#     [4, 41000, 500, 1600, 20],\n",
    "#     [5, 35000, 420, 1400, 12],\n",
    "#     [6, 27000, 360, 1300, 9],\n",
    "#     [7, 39000, 480, 1700, 18],\n",
    "#     [8, 30000, 400, 1250, 14],\n",
    "#     [9, 45000, 550, 1800, 25],\n",
    "#     [10, 33000, 410, 1450, 11]\n",
    "# ])\n",
    "\n",
    "\n",
    "# Question 6. Which store had the **highest customer footfall**?\n",
    "# a=retail_data[:,2].argmax()+1\n",
    "\n",
    "# print(f\"The stores achieved sales above ₹35,000: {a}\")"
   ]
  },
  {
   "cell_type": "code",
   "execution_count": 61,
   "id": "b358468b-2599-4450-9e65-adfde82a453f",
   "metadata": {},
   "outputs": [
    {
     "name": "stdout",
     "output_type": "stream",
     "text": [
      "The average number of customers per store: 425.0\n"
     ]
    }
   ],
   "source": [
    "# Question 7. What is the **average number of customers** per store?\n",
    "# b=retail_data[:,2].mean()\n",
    "\n",
    "# print(f\"The average number of customers per store: {b}\")"
   ]
  },
  {
   "cell_type": "code",
   "execution_count": 66,
   "id": "7f5f08a0-72e1-4ebb-aeb3-3af5393a8a0c",
   "metadata": {},
   "outputs": [
    {
     "name": "stdout",
     "output_type": "stream",
     "text": [
      "The stores have more than 450 customers are: [500 480 550]\n"
     ]
    }
   ],
   "source": [
    "# Question 8. How many stores have **more than 450 customers**?\n",
    "# dat = retail_data[:,2]\n",
    "# x=dat[dat>450]\n",
    "\n",
    "# print(f\"The stores have more than 450 customers are: {x}\")"
   ]
  },
  {
   "cell_type": "code",
   "execution_count": 68,
   "id": "c2b66344-1a96-4bf6-8c08-7de657898ca1",
   "metadata": {},
   "outputs": [
    {
     "name": "stdout",
     "output_type": "stream",
     "text": [
      "The store has the lowest customer count: 1\n"
     ]
    }
   ],
   "source": [
    "# Question 9. Which store has the **lowest customer count**?\n",
    "# y=retail_data[:,2].argmin()+1\n",
    "\n",
    "# print(f\"The store has the lowest customer count: {y}\")"
   ]
  },
  {
   "cell_type": "code",
   "execution_count": 70,
   "id": "2e00e2f9-21ba-4ef3-b7ec-6c8377592988",
   "metadata": {},
   "outputs": [
    {
     "name": "stdout",
     "output_type": "stream",
     "text": [
      "A store where high sales do not correspond to high customers: [[    5 35000   420  1400    12]]\n"
     ]
    }
   ],
   "source": [
    "# Question 10. Is there any store where **high sales do not correspond to high customers**?\n",
    "# sales = retail_data[:,1].mean()\n",
    "# customers = retail_data[:,2].mean()\n",
    "\n",
    "# z= retail_data[(retail_data[:,1] > sales) & (retail_data[:,2] < customers)]\n",
    "\n",
    "# print(f\"A store where high sales do not correspond to high customers: {z}\")"
   ]
  },
  {
   "cell_type": "markdown",
   "id": "ac648c58-404e-417e-96e4-109eef0e18a0",
   "metadata": {},
   "source": [
    "Inventory & Returns Analysis"
   ]
  },
  {
   "cell_type": "code",
   "execution_count": 72,
   "id": "1f173be9-15fc-4abb-a237-3d44c5bad772",
   "metadata": {},
   "outputs": [
    {
     "name": "stdout",
     "output_type": "stream",
     "text": [
      "The total inventory across all stores: 14300\n"
     ]
    }
   ],
   "source": [
    "# Inventory & Returns Analysis\n",
    "# Manually created array: [Store ID, Sales, Customers, Inventory, Returns]\n",
    "\n",
    "# import numpy as np\n",
    "\n",
    "# retail_data = np.array([\n",
    "#     [1, 25000, 300, 1200, 10],\n",
    "#     [2, 32000, 450, 1500, 15],\n",
    "#     [3, 28000, 380, 1100, 8],\n",
    "#     [4, 41000, 500, 1600, 20],\n",
    "#     [5, 35000, 420, 1400, 12],\n",
    "#     [6, 27000, 360, 1300, 9],\n",
    "#     [7, 39000, 480, 1700, 18],\n",
    "#     [8, 30000, 400, 1250, 14],\n",
    "#     [9, 45000, 550, 1800, 25],\n",
    "#     [10, 33000, 410, 1450, 11]\n",
    "# ])\n",
    "\n",
    "# Question 11. What is the **total inventory** across all stores?\n",
    "# a=retail_data[:,3].sum()\n",
    "\n",
    "# print(f\"The total inventory across all stores: {a}\")"
   ]
  },
  {
   "cell_type": "code",
   "execution_count": 74,
   "id": "0d102390-ddca-4f49-90fe-8e05a8705c25",
   "metadata": {},
   "outputs": [
    {
     "name": "stdout",
     "output_type": "stream",
     "text": [
      "A store has the highest inventory stock: 9\n"
     ]
    }
   ],
   "source": [
    "# Question 12. Which store has the **highest inventory stock**?\n",
    "# b=retail_data[:,3].argmax()+1\n",
    "\n",
    "# print(f\"A store has the highest inventory stock: {b}\")"
   ]
  },
  {
   "cell_type": "code",
   "execution_count": 76,
   "id": "f0507ece-4440-42ce-a5ba-8fee59a0e205",
   "metadata": {},
   "outputs": [
    {
     "name": "stdout",
     "output_type": "stream",
     "text": [
      "A stores have inventory less than 1300 units: [[    1 25000   300  1200    10]\n",
      " [    3 28000   380  1100     8]\n",
      " [    8 30000   400  1250    14]]\n"
     ]
    }
   ],
   "source": [
    "# Question 13. How many stores have **inventory less than 1300 units**?\n",
    "# lowest_inve = retail_data[(retail_data[:,3]) < 1300]\n",
    "\n",
    "# print(f\"A stores have inventory less than 1300 units: {lowest_inve}\")"
   ]
  },
  {
   "cell_type": "code",
   "execution_count": 78,
   "id": "f393fb80-f354-4059-a01c-4f9257d866df",
   "metadata": {},
   "outputs": [
    {
     "name": "stdout",
     "output_type": "stream",
     "text": [
      "A store has the highest return rate: 9\n"
     ]
    }
   ],
   "source": [
    "# Question 14. Which store has the **highest return rate** (returns ÷ inventory)?\n",
    "# ret_rate = (retail_data[:,4]) / (retail_data[:,3])\n",
    "# x=ret_rate.argmax()+1\n",
    "\n",
    "# print(f\"A store has the highest return rate: {x}\")"
   ]
  },
  {
   "cell_type": "code",
   "execution_count": 80,
   "id": "82141494-00d6-43c7-b53d-62b54bb37b18",
   "metadata": {},
   "outputs": [
    {
     "name": "stdout",
     "output_type": "stream",
     "text": [
      "A stores have returns greater than 15 units: [[    4 41000   500  1600    20]\n",
      " [    7 39000   480  1700    18]\n",
      " [    9 45000   550  1800    25]]\n"
     ]
    }
   ],
   "source": [
    "# Question 15. Which stores have **returns greater than 15 units**?\n",
    "# returns = retail_data[(retail_data[:,4]) > 15]\n",
    "\n",
    "# print(f\"A stores have returns greater than 15 units: {returns}\")"
   ]
  },
  {
   "cell_type": "markdown",
   "id": "d0af599e-187d-41b0-bea8-a7e243f08d09",
   "metadata": {},
   "source": [
    "Sales & Customer Correlation"
   ]
  },
  {
   "cell_type": "code",
   "execution_count": null,
   "id": "3591cdbc-d92d-4662-8b97-2fe2b5761281",
   "metadata": {},
   "outputs": [],
   "source": [
    "# Sales & Customer Correlation\n",
    "# Manually created array: [Store ID, Sales, Customers, Inventory, Returns]\n",
    "\n",
    "import numpy as np\n",
    "\n",
    "retail_data = np.array([\n",
    "    [1, 25000, 300, 1200, 10],\n",
    "    [2, 32000, 450, 1500, 15],\n",
    "    [3, 28000, 380, 1100, 8],\n",
    "    [4, 41000, 500, 1600, 20],\n",
    "    [5, 35000, 420, 1400, 12],\n",
    "    [6, 27000, 360, 1300, 9],\n",
    "    [7, 39000, 480, 1700, 18],\n",
    "    [8, 30000, 400, 1250, 14],\n",
    "    [9, 45000, 550, 1800, 25],\n",
    "    [10, 33000, 410, 1450, 11]\n",
    "])\n",
    "\n",
    "# Question 16. Is there a **positive correlation** between sales and customers?\n",
    "\n",
    "# print(f\"Is there a positive correlation between sales and customers: {}\")"
   ]
  },
  {
   "cell_type": "code",
   "execution_count": 86,
   "id": "6919f05b-1869-4cba-87db-e712a7770efa",
   "metadata": {},
   "outputs": [
    {
     "name": "stdout",
     "output_type": "stream",
     "text": [
      "A store has high customer visits but low sales: [[    2 32000   450  1500    15]]\n"
     ]
    }
   ],
   "source": [
    "# Question 17. Which store has **high customer visits but low sales**?\n",
    "first = retail_data[:,2].mean()\n",
    "sec = retail_data[:,1].mean()\n",
    "res = retail_data[(retail_data[:,2] > first) & (retail_data[:,1] < sec)]\n",
    "res\n",
    "\n",
    "print(f\"A store has high customer visits but low sales: {res}\")"
   ]
  },
  {
   "cell_type": "code",
   "execution_count": 92,
   "id": "9bdd6ee9-014e-413b-948b-841158bfebba",
   "metadata": {},
   "outputs": [
    {
     "name": "stdout",
     "output_type": "stream",
     "text": [
      "A store has high customer visits but low sales: [[    5 35000   420  1400    12]]\n"
     ]
    }
   ],
   "source": [
    "# Question 18. Which store has **low customers but high sales**?\n",
    "p= retail_data[:,2].mean()\n",
    "q = retail_data[:,1].mean()\n",
    "r = retail_data[(retail_data[:,2] < first) & (retail_data[:,1] > sec)]\n",
    "r\n",
    "\n",
    "print(f\"A store has high customer visits but low sales: {r}\")"
   ]
  },
  {
   "cell_type": "code",
   "execution_count": 90,
   "id": "1b7dad1b-c077-467d-a819-6da613dba6fe",
   "metadata": {},
   "outputs": [
    {
     "name": "stdout",
     "output_type": "stream",
     "text": [
      "A stores have sales per customer above ₹90: 3\n"
     ]
    }
   ],
   "source": [
    "# Question 19. How many stores have **sales per customer above ₹90**?\n",
    "a = retail_data[:,1] / retail_data[:,2]\n",
    "b = np.sum(res > 90)\n",
    "\n",
    "print(f\"A stores have sales per customer above ₹90: {b}\")"
   ]
  },
  {
   "cell_type": "code",
   "execution_count": 96,
   "id": "32a4749f-9cc1-40e2-a74b-11f0241b41d8",
   "metadata": {},
   "outputs": [],
   "source": [
    "# Question 20. Which stores could **benefit from customer acquisition campaigns** (low customers, high inventory)?\n"
   ]
  },
  {
   "cell_type": "markdown",
   "id": "29f31318-7649-459c-a09f-57492f53df0a",
   "metadata": {},
   "source": [
    "Profitability & Growth"
   ]
  },
  {
   "cell_type": "code",
   "execution_count": 100,
   "id": "5b457678-8f01-4a89-bb57-90755e2bbcf1",
   "metadata": {},
   "outputs": [
    {
     "name": "stdout",
     "output_type": "stream",
     "text": [
      "The profit per store for all stores: [5000. 6400. 5600. 8200. 7000. 5400. 7800. 6000. 9000. 6600.]\n"
     ]
    }
   ],
   "source": [
    "# Profitability & Growth\n",
    "# Manually created array: [Store ID, Sales, Customers, Inventory, Returns]\n",
    "\n",
    "import numpy as np\n",
    "\n",
    "retail_data = np.array([\n",
    "    [1, 25000, 300, 1200, 10],\n",
    "    [2, 32000, 450, 1500, 15],\n",
    "    [3, 28000, 380, 1100, 8],\n",
    "    [4, 41000, 500, 1600, 20],\n",
    "    [5, 35000, 420, 1400, 12],\n",
    "    [6, 27000, 360, 1300, 9],\n",
    "    [7, 39000, 480, 1700, 18],\n",
    "    [8, 30000, 400, 1250, 14],\n",
    "    [9, 45000, 550, 1800, 25],\n",
    "    [10, 33000, 410, 1450, 11]\n",
    "])\n",
    "\n",
    "# Question 21. If profit margin is **20% of sales**, what is the **profit per store**?\n",
    "pps= 0.20 * retail_data[:,1]\n",
    "\n",
    "print(f\"The profit per store for all stores: {pps}\")"
   ]
  },
  {
   "cell_type": "code",
   "execution_count": 104,
   "id": "0f6552d9-dd48-44f4-8f56-8da249cfe78b",
   "metadata": {},
   "outputs": [
    {
     "name": "stdout",
     "output_type": "stream",
     "text": [
      "The store has the highest profit with store id: 9\n"
     ]
    }
   ],
   "source": [
    "# Question 22. Which store has the **highest profit**?\n",
    "highest_profit =(retail_data[:,1] * 0.20).argmax()+1\n",
    "\n",
    "print(f\"The store has the highest profit with store id: {highest_profit}\")"
   ]
  },
  {
   "cell_type": "code",
   "execution_count": 108,
   "id": "af29a6eb-ee09-40a8-ba47-bf788ad61be9",
   "metadata": {},
   "outputs": [
    {
     "name": "stdout",
     "output_type": "stream",
     "text": [
      "The store has the lowest profit with store id: 1\n"
     ]
    }
   ],
   "source": [
    "# Question 23. Which store has the **lowest profit**?\n",
    "lowest_profit= (retail_data[:,1] * 0.20).argmin()+1\n",
    "\n",
    "print(f\"The store has the lowest profit with store id: {lowest_profit}\")"
   ]
  },
  {
   "cell_type": "code",
   "execution_count": 110,
   "id": "2823e232-c600-4672-a31d-fd42ecdb70c8",
   "metadata": {},
   "outputs": [
    {
     "name": "stdout",
     "output_type": "stream",
     "text": [
      "The new sales figures for all stores: [2500. 3200. 2800. 4100. 3500. 2700. 3900. 3000. 4500. 3300.]\n"
     ]
    }
   ],
   "source": [
    "# Question 24. If sales increase by **10% next month**, what are the **new sales figures**?\n",
    "x=retail_data[:,1] * 0.10\n",
    "\n",
    "print(f\"The new sales figures for all stores: {x}\")"
   ]
  },
  {
   "cell_type": "code",
   "execution_count": 112,
   "id": "b80f6778-e1c9-40f9-b652-862a6c5f02f4",
   "metadata": {},
   "outputs": [
    {
     "name": "stdout",
     "output_type": "stream",
     "text": [
      "The total profit change with the 10% sales increase: [27500. 35200. 30800. 45100. 38500. 29700. 42900. 33000. 49500. 36300.]\n"
     ]
    }
   ],
   "source": [
    "# Question 25. How will **total profit** change with the 10% sales increase?\n",
    "z=(retail_data[:,1] * 0.10) + retail_data[:,1]\n",
    "\n",
    "print(f\"The total profit change with the 10% sales increase: {z}\")"
   ]
  },
  {
   "cell_type": "code",
   "execution_count": 116,
   "id": "a9a8b3d4-b2a6-4198-bc90-3333941c0ad0",
   "metadata": {},
   "outputs": [
    {
     "name": "stdout",
     "output_type": "stream",
     "text": [
      "The stores need inventory restocking based on sales and current stock: [[    5 35000   420  1400    12]]\n"
     ]
    }
   ],
   "source": [
    "# Operational Strategy\n",
    "# Manually created array: [Store ID, Sales, Customers, Inventory, Returns]\n",
    "\n",
    "import numpy as np\n",
    "\n",
    "retail_data = np.array([\n",
    "    [1, 25000, 300, 1200, 10],\n",
    "    [2, 32000, 450, 1500, 15],\n",
    "    [3, 28000, 380, 1100, 8],\n",
    "    [4, 41000, 500, 1600, 20],\n",
    "    [5, 35000, 420, 1400, 12],\n",
    "    [6, 27000, 360, 1300, 9],\n",
    "    [7, 39000, 480, 1700, 18],\n",
    "    [8, 30000, 400, 1250, 14],\n",
    "    [9, 45000, 550, 1800, 25],\n",
    "    [10, 33000, 410, 1450, 11]\n",
    "])\n",
    "\n",
    "# Question 26. Which stores need **inventory restocking** based on sales and current stock?\n",
    "sales = retail_data[:,1].mean()\n",
    "inventory = retail_data[:,4].mean()\n",
    "re_stock = retail_data[(retail_data[:,1] > sales) & (retail_data[:,4] < inventory)]\n",
    "\n",
    "print(f\"The stores need inventory restocking based on sales and current stock: {re_stock}\")"
   ]
  },
  {
   "cell_type": "code",
   "execution_count": 120,
   "id": "e6b21e6d-effa-40fd-b39a-57ccb3be94b8",
   "metadata": {},
   "outputs": [
    {
     "name": "stdout",
     "output_type": "stream",
     "text": [
      "The stores show high returns percentage and might require quality checks: [[    2 32000   450  1500    15]\n",
      " [    4 41000   500  1600    20]\n",
      " [    7 39000   480  1700    18]\n",
      " [    9 45000   550  1800    25]]\n"
     ]
    }
   ],
   "source": [
    "# Question 27. Which stores show **high returns percentage** and might require **quality checks**?\n",
    "average = retail_data[:,4].mean()\n",
    "res = retail_data[(retail_data[:,4] > average)]\n",
    "\n",
    "print(f\"The stores show high returns percentage and might require quality checks: {res}\")"
   ]
  },
  {
   "cell_type": "code",
   "execution_count": null,
   "id": "eac4a0dc-1f24-4d36-b8d9-70e11830c598",
   "metadata": {},
   "outputs": [],
   "source": [
    "# Question 28. Which store is the **best performer overall** (sales, customers, inventory turnover)?\n",
    "inventory_turnover = retail_data[:, 1] / retail_data[:, 4]\n",
    "\n",
    "# Normalize metrics (min-max scaling)\n",
    "sales_norm = (retail_data[:, 1] - retail_data[:, 1].min()) / (retail_data[:, 1].max() - retail_data[:, 1].min())\n",
    "customers_norm = (retail_data[:, 2] - retail_data[:, 2].min()) / (retail_data[:, 2].max() - retail_data[:, 2].min())\n",
    "turnover_norm = (inventory_turnover - inventory_turnover.min()) / (inventory_turnover.max() - inventory_turnover.min())\n",
    "\n",
    "# Composite score (equal weights)\n",
    "overall_score = sales_norm + customers_norm + turnover_norm\n",
    "\n",
    "# Find best performer\n",
    "best_index = np.argmax(overall_score)\n",
    "best_store = retail_data[best_index]\n",
    "\n",
    "print(f\"Best performer overall: Store ID {int(best_store[0])}\")\n",
    "print(f\"Sales: {best_store[1]}, Customers: {best_store[2]}, Inventory: {best_store[4]}\")"
   ]
  },
  {
   "cell_type": "code",
   "execution_count": null,
   "id": "d676d466-ce69-45df-9331-2f3529c203d7",
   "metadata": {},
   "outputs": [],
   "source": [
    "# Question 29. Which store is the **worst performer overall**?\n",
    "inventory_turnover = retail_data[:, 1] / retail_data[:, 4]\n",
    "\n",
    "# Normalize metrics (min-max scaling)\n",
    "sales_norm = (retail_data[:, 1] - retail_data[:, 1].min()) / (retail_data[:, 1].max() - retail_data[:, 1].min())\n",
    "customers_norm = (retail_data[:, 2] - retail_data[:, 2].min()) / (retail_data[:, 2].max() - retail_data[:, 2].min())\n",
    "turnover_norm = (inventory_turnover - inventory_turnover.min()) / (inventory_turnover.max() - inventory_turnover.min())\n",
    "\n",
    "# Composite score (equal weights)\n",
    "overall_score = sales_norm + customers_norm + turnover_norm\n",
    "\n",
    "# Find worst performer\n",
    "worst_index = np.argmin(overall_score)\n",
    "worst_store = retail_data[worst_index]\n",
    "\n",
    "print(f\"Worst performer overall: Store ID {int(worst_store[0])}\")\n",
    "print(f\"Sales: {worst_store[1]}, Customers: {worst_store[2]}, Inventory: {worst_store[4]}\")"
   ]
  },
  {
   "cell_type": "code",
   "execution_count": 122,
   "id": "493ec448-2d6b-4338-a20f-00c30f34a9fe",
   "metadata": {},
   "outputs": [
    {
     "name": "stdout",
     "output_type": "stream",
     "text": [
      "The stores can be considered for expansion based on strong sales and customer metrics: [[    4 41000   500  1600    20]\n",
      " [    7 39000   480  1700    18]\n",
      " [    9 45000   550  1800    25]]\n"
     ]
    }
   ],
   "source": [
    "# Question 30. Which stores can be considered for **expansion** based on strong sales and customer metrics?\n",
    "a = retail_data[:,1].mean()\n",
    "b = retail_data[:,2].mean()\n",
    "res = retail_data[(retail_data[:,1] > a) & (retail_data[:,2] > b)]\n",
    "\n",
    "print(f\"The stores can be considered for expansion based on strong sales and customer metrics: {res}\")"
   ]
  }
 ],
 "metadata": {
  "kernelspec": {
   "display_name": "Python 3 (ipykernel)",
   "language": "python",
   "name": "python3"
  },
  "language_info": {
   "codemirror_mode": {
    "name": "ipython",
    "version": 3
   },
   "file_extension": ".py",
   "mimetype": "text/x-python",
   "name": "python",
   "nbconvert_exporter": "python",
   "pygments_lexer": "ipython3",
   "version": "3.12.4"
  }
 },
 "nbformat": 4,
 "nbformat_minor": 5
}
