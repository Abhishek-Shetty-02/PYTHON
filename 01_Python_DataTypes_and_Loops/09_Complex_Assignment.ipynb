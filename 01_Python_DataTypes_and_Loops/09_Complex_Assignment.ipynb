{
 "cells": [
  {
   "cell_type": "code",
   "execution_count": 1,
   "id": "42407247-90de-4285-82ab-8ea8971d535b",
   "metadata": {},
   "outputs": [
    {
     "name": "stdout",
     "output_type": "stream",
     "text": [
      "(5+3j)\n"
     ]
    }
   ],
   "source": [
    "# Question 1: Create complex number 5 + 3j\n",
    "\n",
    "# import cmath\n",
    "\n",
    "# x=5\n",
    "# y=3\n",
    "\n",
    "# z=complex(x,y)\n",
    "# print(z)"
   ]
  },
  {
   "cell_type": "code",
   "execution_count": 3,
   "id": "14490484-b06f-4e53-afd5-8099b1674291",
   "metadata": {},
   "outputs": [
    {
     "name": "stdout",
     "output_type": "stream",
     "text": [
      "The real part of the complex number:  7.0\n",
      "The imaginary part of the complex number:  -2.0\n"
     ]
    }
   ],
   "source": [
    "# Question 2: Find the real part of complex number 7 - 2j\n",
    "\n",
    "# import cmath\n",
    "\n",
    "# com=7 - 2j\n",
    "\n",
    "# print(\"The real part of the complex number: \",com.real)\n",
    "# print(\"The imaginary part of the complex number: \",com.imag)"
   ]
  },
  {
   "cell_type": "code",
   "execution_count": 5,
   "id": "3f919443-0474-46ab-83e5-eb828a623ed0",
   "metadata": {},
   "outputs": [
    {
     "name": "stdout",
     "output_type": "stream",
     "text": [
      "The real part of the complex number:  4.0\n"
     ]
    }
   ],
   "source": [
    "# Question 3: Find the imaginary part of complex number 4 + 6j\n",
    "# import cmath\n",
    "\n",
    "# com_num=4 + 6j\n",
    "# print(\"The real part of the complex number: \",com_num.real)\n"
   ]
  },
  {
   "cell_type": "code",
   "execution_count": 9,
   "id": "2c9d44f9-a01e-44a1-8ae3-1d6a49c965e5",
   "metadata": {},
   "outputs": [
    {
     "name": "stdout",
     "output_type": "stream",
     "text": [
      "(4+6j)\n"
     ]
    }
   ],
   "source": [
    "# Question 4: Add two complex numbers: (3 + 2j) and (1 + 4j)\n",
    "\n",
    "# com_num1=(3 + 2j)\n",
    "# com_num2=(1 + 4j)\n",
    "\n",
    "# x=com_num1 + com_num2\n",
    "\n",
    "# print(x)"
   ]
  },
  {
   "cell_type": "code",
   "execution_count": 13,
   "id": "4e3511b7-9280-4cdf-bc16-c46410948c53",
   "metadata": {},
   "outputs": [
    {
     "name": "stdout",
     "output_type": "stream",
     "text": [
      "(-4+7j)\n"
     ]
    }
   ],
   "source": [
    "# Question 5: Multiply two complex numbers: (2 + 3j) and (1 + 2j)\n",
    "\n",
    "# com_num1=(2 + 3j)\n",
    "# com_num2=(1 + 2j)\n",
    "\n",
    "# x=com_num1 * com_num2\n",
    "\n",
    "# print(x)"
   ]
  },
  {
   "cell_type": "code",
   "execution_count": 27,
   "id": "66f62dfd-3d70-4199-b0fb-76780510c439",
   "metadata": {},
   "outputs": [],
   "source": [
    "# Question 6: Find the magnitude of complex number 6 + 8j\n",
    "# com_num=6 + 8j\n",
    "# x=abs(com_num)\n",
    "# print(x)"
   ]
  },
  {
   "cell_type": "code",
   "execution_count": 25,
   "id": "d8b30264-1f07-4c1d-869a-27bd22bd3f15",
   "metadata": {},
   "outputs": [
    {
     "name": "stdout",
     "output_type": "stream",
     "text": [
      "(5+7j)\n"
     ]
    }
   ],
   "source": [
    "# Question 7: Find the conjugate of complex number 5 - 7j\n",
    "# com_num=5 - 7j\n",
    "\n",
    "# x=com_num.conjugate()\n",
    "# print(x)"
   ]
  },
  {
   "cell_type": "code",
   "execution_count": 11,
   "id": "61247b1f-3961-4df9-b60c-c3286965e450",
   "metadata": {},
   "outputs": [
    {
     "name": "stdout",
     "output_type": "stream",
     "text": [
      "(7+3j)\n"
     ]
    }
   ],
   "source": [
    "# Question 8: Subtract complex numbers: (10 + 5j) - (3 + 2j)\n",
    "# com_num1=(10 + 5j)\n",
    "# com_num2=(3 + 2j)\n",
    "\n",
    "# x=com_num1 - com_num2\n",
    "\n",
    "# print(x)"
   ]
  },
  {
   "cell_type": "code",
   "execution_count": 15,
   "id": "0b422a9e-dedc-4b99-8859-9dfd226a42fd",
   "metadata": {},
   "outputs": [
    {
     "name": "stdout",
     "output_type": "stream",
     "text": [
      "(4.4+0.8j)\n"
     ]
    }
   ],
   "source": [
    "# Question 9: Divide complex numbers: (8 + 6j) / (2 + 1j)\n",
    "# com_num1=(8 + 6j)\n",
    "# com_num2=(2 + 1j)\n",
    "\n",
    "# x=com_num1/com_num2\n",
    "\n",
    "# print(x)"
   ]
  },
  {
   "cell_type": "code",
   "execution_count": 19,
   "id": "fc093c1b-5009-4bc4-b511-9700957f3deb",
   "metadata": {},
   "outputs": [
    {
     "name": "stdout",
     "output_type": "stream",
     "text": [
      "The phase of complex number:  0.7853981633974483\n"
     ]
    }
   ],
   "source": [
    "# Question 10: Find the phase angle of complex number 1 + 1j\n",
    "\n",
    "# import cmath\n",
    "# import math\n",
    "\n",
    "# x=1\n",
    "# y=1\n",
    "# z=complex(x,y)\n",
    "# print(\"The phase of complex number: \",cmath.phase(z))"
   ]
  }
 ],
 "metadata": {
  "kernelspec": {
   "display_name": "Python 3 (ipykernel)",
   "language": "python",
   "name": "python3"
  },
  "language_info": {
   "codemirror_mode": {
    "name": "ipython",
    "version": 3
   },
   "file_extension": ".py",
   "mimetype": "text/x-python",
   "name": "python",
   "nbconvert_exporter": "python",
   "pygments_lexer": "ipython3",
   "version": "3.12.4"
  }
 },
 "nbformat": 4,
 "nbformat_minor": 5
}
