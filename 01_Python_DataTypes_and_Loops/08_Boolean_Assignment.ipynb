{
 "cells": [
  {
   "cell_type": "code",
   "execution_count": 27,
   "id": "0ad07c0f-e232-4b5e-8885-93f66d6ca8c5",
   "metadata": {},
   "outputs": [],
   "source": [
    "# Question 1: Check if 25 is greater than 20 and less than 30\n",
    "# x=25\n",
    "# if x>20 and x<30:\n",
    "#     print(True)\n",
    "# else:\n",
    "#     print(False)"
   ]
  },
  {
   "cell_type": "code",
   "execution_count": 29,
   "id": "6672a860-a460-42aa-b500-0b399d12a8ca",
   "metadata": {},
   "outputs": [],
   "source": [
    "# Question 2: Check if string \"python\" is equal to \"Python\" (case sensitive)\n",
    "# str1=\"python\"\n",
    "# str2=\"Python\" \n",
    "\n",
    "# if str1==str2:\n",
    "#     print(True)\n",
    "# else:\n",
    "#     print(False)\n"
   ]
  },
  {
   "cell_type": "code",
   "execution_count": 31,
   "id": "4db9532b-ba42-4c29-a5ec-1d996277db7a",
   "metadata": {},
   "outputs": [],
   "source": [
    "# Question 3: Check if 15 is divisible by both 3 and 5\n",
    "# x=15\n",
    " \n",
    "# if x%3==0 and x%5==0:\n",
    "#     print(True)\n",
    "# else:\n",
    "#     print(False)"
   ]
  },
  {
   "cell_type": "code",
   "execution_count": 33,
   "id": "8411a1ff-45e7-42ec-91df-6defd8791147",
   "metadata": {},
   "outputs": [],
   "source": [
    "# Question 4: Check if 7 is not equal to 8\n",
    "\n",
    "# x=7\n",
    " \n",
    "# if x!=8:\n",
    "#     print(True)\n",
    "# else:\n",
    "#     print(False)"
   ]
  },
  {
   "cell_type": "code",
   "execution_count": 35,
   "id": "1332eb3b-150b-4091-ab18-329922ba4d9a",
   "metadata": {},
   "outputs": [],
   "source": [
    "# Question 5: Check if 100 is greater than 50 or less than 25\n",
    "\n",
    "# x=100\n",
    "# if x>50 or x<25:\n",
    "#     print(True)\n",
    "# else:\n",
    "#     print(False)"
   ]
  },
  {
   "cell_type": "code",
   "execution_count": 37,
   "id": "4af45ff8-7c07-4260-9f3a-7e1cc19d297e",
   "metadata": {},
   "outputs": [],
   "source": [
    "# Question 6: Check if 0 is false in Python\n",
    "\n",
    "# x=0\n",
    "# if x is False:\n",
    "#     print(True)\n",
    "# else:\n",
    "#     print(False)"
   ]
  },
  {
   "cell_type": "code",
   "execution_count": 39,
   "id": "64e5178d-c1b3-4621-87e4-0b81c474358c",
   "metadata": {},
   "outputs": [],
   "source": [
    "# Question 7: Check if empty string \"\" is false in Python\n",
    "\n",
    "# x=\"\"\n",
    "# if x is False:\n",
    "#     print(True)\n",
    "# else:\n",
    "#     print(False)"
   ]
  },
  {
   "cell_type": "code",
   "execution_count": 41,
   "id": "d1e8bc71-f25b-4182-9c8b-0bfdccc7c53d",
   "metadata": {},
   "outputs": [],
   "source": [
    "# Question 8: Check if 42 is truthy in Python\n",
    "\n",
    "#Doubt\n",
    "\n",
    "# x=42\n",
    "# if x is True:\n",
    "#     print(True)\n",
    "# else:\n",
    "#     print(False)"
   ]
  },
  {
   "cell_type": "code",
   "execution_count": 43,
   "id": "a9fa65a6-22cf-4d06-a740-09ee236297bb",
   "metadata": {},
   "outputs": [],
   "source": [
    "# Question 9: Check if 10 is between 5 and 15 (inclusive)\n",
    "\n",
    "# x=10\n",
    "# if x>=5 and x<=15:\n",
    "#     print(True)\n",
    "# else:\n",
    "#     print(False)"
   ]
  },
  {
   "cell_type": "code",
   "execution_count": 45,
   "id": "7a40dff7-d80a-428d-87e1-0ba145f64d50",
   "metadata": {},
   "outputs": [],
   "source": [
    "# Question 10: Check if 3.14 is greater than 3 and less than 4\n",
    "\n",
    "# x=3.14\n",
    "# if x>3 and x<4:\n",
    "#     print(True)\n",
    "# else:\n",
    "#     print(False)"
   ]
  }
 ],
 "metadata": {
  "kernelspec": {
   "display_name": "Python 3 (ipykernel)",
   "language": "python",
   "name": "python3"
  },
  "language_info": {
   "codemirror_mode": {
    "name": "ipython",
    "version": 3
   },
   "file_extension": ".py",
   "mimetype": "text/x-python",
   "name": "python",
   "nbconvert_exporter": "python",
   "pygments_lexer": "ipython3",
   "version": "3.12.4"
  }
 },
 "nbformat": 4,
 "nbformat_minor": 5
}
