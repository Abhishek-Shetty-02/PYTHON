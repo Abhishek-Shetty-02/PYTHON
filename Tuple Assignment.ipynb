{
 "cells": [
  {
   "cell_type": "code",
   "execution_count": null,
   "id": "bc61f469-4ee8-4f09-9c7e-07d003ba3df0",
   "metadata": {},
   "outputs": [],
   "source": [
    "# Question 1: Create a tuple of first 10 natural numbers"
   ]
  },
  {
   "cell_type": "code",
   "execution_count": null,
   "id": "0993f347-6c45-46c5-8762-e642d9a59e6d",
   "metadata": {},
   "outputs": [],
   "source": [
    "# Question 2: Find the length of tuple (1, 2, 3, 4, 5, 6, 7, 8, 9, 10)"
   ]
  },
  {
   "cell_type": "code",
   "execution_count": null,
   "id": "14c67a80-a6c0-4642-a6e8-57d5a07a8657",
   "metadata": {},
   "outputs": [],
   "source": [
    "# Question 3: Access the 3rd element from tuple ('a', 'b', 'c', 'd', 'e')"
   ]
  },
  {
   "cell_type": "code",
   "execution_count": null,
   "id": "7f3dbfda-f114-4e99-a1a8-f4d6c44164c0",
   "metadata": {},
   "outputs": [],
   "source": [
    "# Question 4: Find the maximum value in tuple (23, 45, 12, 67, 34, 89, 56)"
   ]
  },
  {
   "cell_type": "code",
   "execution_count": null,
   "id": "f9ca2217-cc1f-4ee9-9d75-b4f97a98c00d",
   "metadata": {},
   "outputs": [],
   "source": [
    "# Question 5: Count how many times 5 appears in (1, 5, 2, 5, 3, 5, 4, 5, 6)"
   ]
  },
  {
   "cell_type": "code",
   "execution_count": null,
   "id": "b27ac0e3-cf4e-4861-b0bb-3634bbbb8768",
   "metadata": {},
   "outputs": [],
   "source": [
    "# Question 6: Create a tuple of mixed data types (integer, float, string, boolean)"
   ]
  },
  {
   "cell_type": "code",
   "execution_count": null,
   "id": "fe39acea-0fe1-494e-b9bd-d1ed3d8fb170",
   "metadata": {},
   "outputs": [],
   "source": [
    "# Question 7: Find the index of element 'python' in ('java', 'python', 'c++', 'javascript')"
   ]
  },
  {
   "cell_type": "code",
   "execution_count": null,
   "id": "1bed3e34-e30c-4be7-b89a-511b123ad9ce",
   "metadata": {},
   "outputs": [],
   "source": [
    "# Question 8: Check if 25 exists in tuple (10, 20, 30, 40, 50)"
   ]
  },
  {
   "cell_type": "code",
   "execution_count": null,
   "id": "61e4b634-c094-4ae9-8144-ff5baddac1d5",
   "metadata": {},
   "outputs": [],
   "source": [
    "# Question 9: Create a tuple of first 5 even numbers"
   ]
  },
  {
   "cell_type": "code",
   "execution_count": null,
   "id": "9eba4950-20bb-4480-acd6-972d1a7d6ac8",
   "metadata": {},
   "outputs": [],
   "source": [
    "# Question 10: Find the average of numbers in tuple (15, 23, 31, 42, 56, 78)"
   ]
  }
 ],
 "metadata": {
  "kernelspec": {
   "display_name": "Python 3 (ipykernel)",
   "language": "python",
   "name": "python3"
  },
  "language_info": {
   "codemirror_mode": {
    "name": "ipython",
    "version": 3
   },
   "file_extension": ".py",
   "mimetype": "text/x-python",
   "name": "python",
   "nbconvert_exporter": "python",
   "pygments_lexer": "ipython3",
   "version": "3.12.4"
  }
 },
 "nbformat": 4,
 "nbformat_minor": 5
}
