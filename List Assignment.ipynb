{
 "cells": [
  {
   "cell_type": "code",
   "execution_count": 35,
   "id": "5516da75-accc-45d0-81e1-a1ee3ea99118",
   "metadata": {},
   "outputs": [],
   "source": [
    "# Question 1: Create a list of first 10 square numbersl\n",
    "# ls=[]\n",
    "# for each in ls(range(1,10)):\n",
    "    \n",
    "# print(ls)\n",
    "\n"
   ]
  },
  {
   "cell_type": "code",
   "execution_count": 37,
   "id": "4407d561-18c9-4685-8e9e-9c5d76991234",
   "metadata": {},
   "outputs": [],
   "source": [
    "# Question 2: Find the sum of all even numbers in [1, 2, 3, 4, 5, 6, 7, 8, 9, 10]\n",
    "# ls=[1, 2, 3, 4, 5, 6, 7, 8, 9, 10]\n",
    "# for each in ls:\n",
    "#     if each%2==0:\n",
    "#         ls+=each\n",
    "# print(ls)"
   ]
  },
  {
   "cell_type": "code",
   "execution_count": 65,
   "id": "d67d9fbd-2695-4590-86d6-002d4d6d1ffa",
   "metadata": {},
   "outputs": [
    {
     "name": "stdout",
     "output_type": "stream",
     "text": [
      "the original list is:  [1, 2, 2, 3, 4, 4, 5, 6, 6, 7]\n",
      "the list after removing the duplicates:  [1, 2, 3, 4, 5, 6, 7]\n"
     ]
    }
   ],
   "source": [
    "# Question 3: Remove duplicates from [1, 2, 2, 3, 4, 4, 5, 6, 6, 7]\n",
    "# ls=[1, 2, 2, 3, 4, 4, 5, 6, 6, 7]\n",
    "# print(\"the original list is: \",str(ls))\n",
    "# res=[]\n",
    "# for each in ls:\n",
    "#     if each not in res:\n",
    "#         res.append(each)\n",
    "# print(\"the list after removing the duplicates: \",str(res))"
   ]
  },
  {
   "cell_type": "code",
   "execution_count": 41,
   "id": "619cbbb9-8d96-4adb-b21c-3b76cc3e888c",
   "metadata": {},
   "outputs": [
    {
     "name": "stdout",
     "output_type": "stream",
     "text": [
      "[90, 64, 34, 25, 22, 12, 11]\n"
     ]
    }
   ],
   "source": [
    "# Question 4: Sort the list [64, 34, 25, 12, 22, 11, 90] in descending order\n",
    "# ls=[64, 34, 25, 12, 22, 11, 90]\n",
    "# for each in ls:\n",
    "#     ls.sort(reverse=True)\n",
    "# print(ls)"
   ]
  },
  {
   "cell_type": "code",
   "execution_count": null,
   "id": "790e1a3c-757c-4bc6-93e9-2b6fa18a8b58",
   "metadata": {},
   "outputs": [],
   "source": [
    "# Question 5: Find the average of numbers in [15, 23, 31, 42, 56, 78, 91]"
   ]
  },
  {
   "cell_type": "code",
   "execution_count": null,
   "id": "303c01f6-81c1-485f-843c-a2fb6fa90ecd",
   "metadata": {},
   "outputs": [],
   "source": [
    "# Question 6: Create a list of first 15 Fibonacci numbers"
   ]
  },
  {
   "cell_type": "code",
   "execution_count": 85,
   "id": "94596de7-a28e-4e52-9e31-0dfae4329d70",
   "metadata": {},
   "outputs": [],
   "source": [
    "# Question 7: Find the second largest number in [45, 67, 23, 89, 12, 34, 78]\n",
    "#By using Sorting \n",
    "# Note: While this method is simple but sorting the list can be less efficient when dealing with large datasets.\n",
    "\n",
    "# ls=[45, 67, 23, 89, 12, 34, 78]\n",
    "# ls.sort(reverse=True)\n",
    "# print(ls)\n",
    "# secondnum=ls[-6]\n",
    "# print(\"the second largest number in ls is: \",secondnum)\n",
    "\n",
    "#Another Method"
   ]
  },
  {
   "cell_type": "code",
   "execution_count": 43,
   "id": "69923408-87fb-4ab7-88d1-690d926429e3",
   "metadata": {},
   "outputs": [
    {
     "name": "stdout",
     "output_type": "stream",
     "text": [
      "[10, 9, 8, 7, 6, 5, 4, 3, 2, 1]\n"
     ]
    }
   ],
   "source": [
    "# Question 8: Reverse the list [1, 2, 3, 4, 5, 6, 7, 8, 9, 10]\n",
    "# ls=[1, 2, 3, 4, 5, 6, 7, 8, 9, 10]\n",
    "# for each in ls:\n",
    "#     ls.sort(reverse=True)\n",
    "# print(ls)"
   ]
  },
  {
   "cell_type": "code",
   "execution_count": 145,
   "id": "a52fba23-832b-4684-9ffb-03949583b64d",
   "metadata": {},
   "outputs": [],
   "source": [
    "# Question 9: Count how many times 5 appears in [1, 5, 2, 5, 3, 5, 4, 5, 6]\n",
    "# ls=[1, 5, 2, 5, 3, 5, 4, 5, 6]\n",
    "# print(ls.count(5))"
   ]
  },
  {
   "cell_type": "code",
   "execution_count": null,
   "id": "c5e815f5-acc4-4343-beb1-01f320b7e22c",
   "metadata": {},
   "outputs": [],
   "source": [
    "# Question 10: Create a list of prime numbers between 1 and 50\n",
    "# ls=[]\n",
    "# num=int(input(\"Enter the number of elements in the list: \"))\n",
    "# for ele in range(1,num+1):\n",
    "#     ele=int(input(\"enter the elemets: \"))\n",
    "#     ls1=ls.append(ele)\n",
    "# res=ls1.sort()  \n",
    "# print(res)"
   ]
  },
  {
   "cell_type": "code",
   "execution_count": 147,
   "id": "e7601a2e-a5da-462e-9656-21df3286e6db",
   "metadata": {},
   "outputs": [
    {
     "name": "stdout",
     "output_type": "stream",
     "text": [
      "[1, 2, 3, 4, 5, 6, 7, 8, 9]\n"
     ]
    }
   ],
   "source": [
    "# Question 11: Flatten nested list [[1, 2, 3], [4, 5, 6], [7, 8, 9]]\n",
    "#By Using Sum\n",
    "#sum() function can be used to flatten a list of lists. It works by starting with an empty list and adding each sublist to it.\n",
    "\n",
    "# ls=[[1, 2, 3], [4, 5, 6], [7, 8, 9]]\n",
    "# flatten_ls=sum(ls,[])\n",
    "# print(flatten_ls)\n",
    "\n",
    "#By Using 'for loop'\n",
    "# ls=[[1, 2, 3], [4, 5, 6], [7, 8, 9]]\n",
    "# res=[]\n",
    "# for sublist in ls:\n",
    "#     for item in sublist:\n",
    "#         res.append(item)\n",
    "# print(res)\n",
    "\n",
    "\n",
    "#By Using List Comprehension\n",
    "# ls=[[1, 2, 3], [4, 5, 6], [7, 8, 9]]\n",
    "# res=[item for sublist in ls for item in sublist]\n",
    "# print(res)\n"
   ]
  },
  {
   "cell_type": "code",
   "execution_count": null,
   "id": "bb60c496-fbc9-4667-8911-c49ea35badc2",
   "metadata": {},
   "outputs": [],
   "source": [
    "# Question 12: Find common elements between [1, 2, 3, 4, 5] and [4, 5, 6, 7, 8]"
   ]
  },
  {
   "cell_type": "code",
   "execution_count": 103,
   "id": "09b31306-5f58-4308-b06f-de5dea597d1a",
   "metadata": {},
   "outputs": [
    {
     "name": "stdout",
     "output_type": "stream",
     "text": [
      "[1, 2, 3, 4, 5, 6]\n"
     ]
    }
   ],
   "source": [
    "# Question 13: Create a list of lists: [[1, 2], [3, 4], [5, 6]]\n",
    "\n",
    "#By using Sum \n",
    "#this method doesnt work for mixed data types.\n",
    "#TypeError: can only concatenate list (not \"int\") to list\n",
    "\n",
    "# ls=[[1, 2], [3, 4], [5, 6]]\n",
    "# flatten_ls=sum(ls,[])\n",
    "# print(flatten_ls) "
   ]
  },
  {
   "cell_type": "code",
   "execution_count": 129,
   "id": "003a978f-228a-4a9f-9ebc-ed355131ec0e",
   "metadata": {},
   "outputs": [],
   "source": [
    "# Question 14: Find the sum of each sublist in [[1, 2, 3], [4, 5, 6], [7, 8, 9]]\n",
    "\n",
    "#By using Zip\n",
    "#zip(*lists) unpacks the inner lists and groups their corresponding elements together.\n",
    "\n",
    "# ls=[[1, 2, 3], [4, 5, 6], [7, 8, 9]]\n",
    "# a=[sum(x) for x in zip(*ls)]\n",
    "\n",
    "# #zip (1,4,7),(2,5,8),(3,6,9)\n",
    "# print(a)\n",
    "\n",
    "#By using Map\n",
    "# ls=[[1, 2, 3], [4, 5, 6], [7, 8, 9]]\n",
    "\n",
    "# a=[list(map(sum,zip(*ls)))]\n",
    "# print(a)"
   ]
  },
  {
   "cell_type": "code",
   "execution_count": null,
   "id": "a36cb8ec-5957-4678-b67c-3c1d139cd525",
   "metadata": {},
   "outputs": [],
   "source": [
    "# Question 15: Transpose the matrix [[1, 2, 3], [4, 5, 6], [7, 8, 9]]"
   ]
  },
  {
   "cell_type": "code",
   "execution_count": null,
   "id": "879de620-5d7c-4dfe-bee3-81595399e2da",
   "metadata": {},
   "outputs": [],
   "source": [
    "# Question 16: Find the maximum value in each sublist of [[1, 5, 3], [9, 2, 7], [4, 8, 6]]"
   ]
  },
  {
   "cell_type": "code",
   "execution_count": null,
   "id": "d96c5c86-170d-443d-b49b-a4ff9f93f188",
   "metadata": {},
   "outputs": [],
   "source": [
    "# Question 17: Create a 3D list: [[[1, 2], [3, 4]], [[5, 6], [7, 8]]]"
   ]
  },
  {
   "cell_type": "code",
   "execution_count": null,
   "id": "9b47656a-eef1-481c-9dc9-a03df75c7f7d",
   "metadata": {},
   "outputs": [],
   "source": [
    "# Question 18: Find the sum of all elements in 3D list [[[1, 2], [3, 4]], [[5, 6], [7, 8]]]"
   ]
  },
  {
   "cell_type": "code",
   "execution_count": 139,
   "id": "edd85f09-5739-431e-a260-e592fd25c69d",
   "metadata": {},
   "outputs": [
    {
     "name": "stdout",
     "output_type": "stream",
     "text": [
      "[1, 2, 3, 4, 5, 6, 7, 8, 9]\n",
      "[]\n"
     ]
    }
   ],
   "source": [
    "# Question 19: Extract all even numbers from nested list [[1, 2, 3], [4, 5, 6], [7, 8, 9]]\n",
    "# flatten_ls=[[1, 2, 3], [4, 5, 6], [7, 8, 9]]\n",
    "# ls=sum(flatten_ls,[])\n",
    "# print(ls)\n",
    "# res=[]\n",
    "# if each%2==0 in ls:\n",
    "#     ls.append(each)\n",
    "# print(res)"
   ]
  },
  {
   "cell_type": "code",
   "execution_count": 143,
   "id": "c0ff472f-6f9c-47c3-8c3b-585a02a88098",
   "metadata": {},
   "outputs": [],
   "source": [
    "# Question 20: Create a list of mixed data types: [1, \"hello\", 3.14, True, [1, 2, 3]]\n",
    " \n",
    "#The Sum method doesnt work for mixed data types.\n",
    "#TypeError: can only concatenate list (not \"int\") to list\n",
    "\n",
    "# ls=[1, \"hello\", 3.14, True, [1, 2, 3]]\n",
    "# new_ls=sum(ls,[])\n",
    "# print(new_ls) \n",
    "\n"
   ]
  },
  {
   "cell_type": "code",
   "execution_count": null,
   "id": "c3a3f146-8fbe-4900-a9e1-2503f4e4e042",
   "metadata": {},
   "outputs": [],
   "source": [
    "# Question 21: Find the length of each string in [\"apple\", \"banana\", \"cherry\", \"date\"]"
   ]
  },
  {
   "cell_type": "code",
   "execution_count": null,
   "id": "87d5f22f-01ee-4cd8-afb4-75ef85663de6",
   "metadata": {},
   "outputs": [],
   "source": [
    "# Question 22: Create a list of tuples: [(1, 'a'), (2, 'b'), (3, 'c')]"
   ]
  },
  {
   "cell_type": "code",
   "execution_count": 151,
   "id": "b971f940-691b-4c99-9c66-1a87c44c5c0c",
   "metadata": {},
   "outputs": [],
   "source": [
    "# Question 23: Extract first element from each tuple in [(1, 'a'), (2, 'b'), (3, 'c')]\n",
    "\n",
    "#By using ZIP doesnt work \n",
    "#zip(*lists) unpacks the inner lists and groups their corresponding elements together.\n",
    "\n",
    "#Note: TypeError: unsupported operand type(s) for +: 'int' and 'str'\n",
    "\n",
    "# ls=[(1, 'a'), (2, 'b'), (3, 'c')]\n",
    "\n",
    "# a=[sum(x) for x in zip(*ls)]\n",
    "\n",
    "# # #zip (1,2,3),('a','b','c')\n",
    "# print(a)\n",
    "\n",
    "\n"
   ]
  },
  {
   "cell_type": "code",
   "execution_count": null,
   "id": "980b4d39-e8db-4903-a9a3-0c4465f40c04",
   "metadata": {},
   "outputs": [],
   "source": [
    "# Question 24: Create a list of dictionaries: [{'name': 'Alice', 'age': 25}, {'name': 'Bob', 'age': 30}]"
   ]
  },
  {
   "cell_type": "code",
   "execution_count": null,
   "id": "b5726b66-7b25-423c-bb18-d0b0c817d5d0",
   "metadata": {},
   "outputs": [],
   "source": [
    "# Question 25: Extract all 'name' values from list of dictionaries"
   ]
  },
  {
   "cell_type": "code",
   "execution_count": null,
   "id": "7ab25e9e-7857-46f3-aec7-fa72351a3808",
   "metadata": {},
   "outputs": [],
   "source": [
    "# Question 26: Find the person with maximum age in list of dictionaries"
   ]
  },
  {
   "cell_type": "code",
   "execution_count": null,
   "id": "74beba08-7d3e-440a-ad83-d54f55c6c26d",
   "metadata": {},
   "outputs": [],
   "source": [
    "# Question 27: Create a 4D list: [[[[1, 2], [3, 4]], [[5, 6], [7, 8]]], [[[9, 10], [11, 12]], [[13, 14], [15, 16]]]]"
   ]
  },
  {
   "cell_type": "code",
   "execution_count": null,
   "id": "3b868723-c37d-48c4-aada-21d3fdacf615",
   "metadata": {},
   "outputs": [],
   "source": [
    "# Question 28: Find the maximum value in 4D list"
   ]
  },
  {
   "cell_type": "code",
   "execution_count": null,
   "id": "8bef500b-862f-4614-b984-9f74f7dba966",
   "metadata": {},
   "outputs": [],
   "source": [
    "# Question 29: Create a list of sets: [{1, 2, 3}, {4, 5, 6}, {7, 8, 9}]"
   ]
  },
  {
   "cell_type": "code",
   "execution_count": null,
   "id": "f7c98c56-239e-49b2-bed4-6c3ec57d4483",
   "metadata": {},
   "outputs": [],
   "source": [
    "# Question 30: Find the union of all sets in list of sets"
   ]
  },
  {
   "cell_type": "code",
   "execution_count": null,
   "id": "b764ab51-7365-4812-bfdd-8492dd9c782a",
   "metadata": {},
   "outputs": [],
   "source": []
  },
  {
   "cell_type": "code",
   "execution_count": null,
   "id": "a2c1bff0-c5ea-4d73-9260-755656c1f506",
   "metadata": {},
   "outputs": [],
   "source": []
  },
  {
   "cell_type": "code",
   "execution_count": null,
   "id": "42a95d3e-4d85-4859-ac3f-a595a8c00193",
   "metadata": {},
   "outputs": [],
   "source": []
  }
 ],
 "metadata": {
  "kernelspec": {
   "display_name": "Python 3 (ipykernel)",
   "language": "python",
   "name": "python3"
  },
  "language_info": {
   "codemirror_mode": {
    "name": "ipython",
    "version": 3
   },
   "file_extension": ".py",
   "mimetype": "text/x-python",
   "name": "python",
   "nbconvert_exporter": "python",
   "pygments_lexer": "ipython3",
   "version": "3.12.4"
  }
 },
 "nbformat": 4,
 "nbformat_minor": 5
}
