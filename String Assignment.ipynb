{
 "cells": [
  {
   "cell_type": "code",
   "execution_count": 1,
   "id": "7f48cd29-b66e-4217-8289-6353f2b578f6",
   "metadata": {},
   "outputs": [
    {
     "name": "stdout",
     "output_type": "stream",
     "text": [
      "gnimmargorP nohtyP\n"
     ]
    }
   ],
   "source": [
    "# Question 1: Reverse the string \"Python Programming\"\n",
    "str=\"Python Programming\"\n",
    "a=str[::-1]\n",
    "print(a)"
   ]
  },
  {
   "cell_type": "code",
   "execution_count": null,
   "id": "db897493-1cd4-4d58-85d0-d41344b03822",
   "metadata": {},
   "outputs": [],
   "source": [
    "# Question 2: Check if \"racecar\" is a palindrome"
   ]
  },
  {
   "cell_type": "code",
   "execution_count": 84,
   "id": "2e05a9bb-7778-45b9-b091-a1ef48cfe74a",
   "metadata": {},
   "outputs": [
    {
     "name": "stdout",
     "output_type": "stream",
     "text": [
      "6\n"
     ]
    }
   ],
   "source": [
    "# Question 3: Count the number of words in \"Python is a great programming language\"\n",
    "\n",
    "# By Count \n",
    "str=\"Python is a great programming language\"\n",
    "res=str.count(\" \") + 1\n",
    "print(res)\n",
    "\n",
    "\n",
    "#Another Method\n",
    "#print(len(input(\"Enter Input:\").split()))\n",
    "\n",
    "# str=\"Python is a great programming language\"\n",
    "# a=len(str.split())\n",
    "\n",
    "# print(a) #6-HERE COMMA IS EXCLUDED"
   ]
  },
  {
   "cell_type": "code",
   "execution_count": 72,
   "id": "bd0c5a39-2281-420f-9538-0bdfb88b8d58",
   "metadata": {},
   "outputs": [
    {
     "name": "stdout",
     "output_type": "stream",
     "text": [
      "Hello World\n"
     ]
    }
   ],
   "source": [
    "# Question 4: Convert \"hello world\" to title case\n",
    "a=\"hello world\"\n",
    "b=a.title()\n",
    "print(b)"
   ]
  },
  {
   "cell_type": "code",
   "execution_count": 13,
   "id": "c3511cae-3341-4df9-8d8a-a0771db97c90",
   "metadata": {},
   "outputs": [
    {
     "name": "stdout",
     "output_type": "stream",
     "text": [
      "12\n"
     ]
    }
   ],
   "source": [
    "# Question 5: Find the length of string \"Data Science\"\n",
    "str=\"Data Science\"\n",
    "print(len(str))"
   ]
  },
  {
   "cell_type": "code",
   "execution_count": null,
   "id": "b7b23d7c-08de-4cc0-8e28-10307c5cb52e",
   "metadata": {},
   "outputs": [],
   "source": [
    "# Question 6: Replace all spaces with underscores in \"Machine Learning\""
   ]
  },
  {
   "cell_type": "code",
   "execution_count": 129,
   "id": "6bd15185-9a1a-4194-b5c3-f9424c221585",
   "metadata": {},
   "outputs": [
    {
     "name": "stdout",
     "output_type": "stream",
     "text": [
      "27\n",
      "-1\n",
      "python is not in str\n"
     ]
    }
   ],
   "source": [
    "# Question 7: Check if \"python\" is in \"Python Programming Language\"\n",
    "# str=\"Python Programming Language\"\n",
    "# str1=\"python\"\n",
    "# print(len(str))\n",
    "# a=str.find(str1,1,27)\n",
    "# print(a)\n",
    "\n",
    "str=\"Python Programming Language\"\n",
    "str1=\"python\"\n",
    "\n",
    "if str1 in str:\n",
    "    print(\"python is in the str\")\n",
    "else:\n",
    "    print(\"python is not in str\")\n"
   ]
  },
  {
   "cell_type": "code",
   "execution_count": 7,
   "id": "aa150ee1-f6ee-48b9-9a72-d2b1d8cb8c85",
   "metadata": {},
   "outputs": [
    {
     "name": "stdout",
     "output_type": "stream",
     "text": [
      "Artif\n"
     ]
    }
   ],
   "source": [
    "# Question 8: Extract the first 5 characters from \"Artificial Intelligence\"\n",
    "str=\"Artificial Intelligence\"\n",
    "a=str[0:5]\n",
    "print(a)"
   ]
  },
  {
   "cell_type": "code",
   "execution_count": 9,
   "id": "b25a3199-e1c1-45db-bfe1-7d6fbf920597",
   "metadata": {},
   "outputs": [
    {
     "name": "stdout",
     "output_type": "stream",
     "text": [
      "uppercase\n"
     ]
    }
   ],
   "source": [
    "# Question 9: Convert \"UPPERCASE\" to lowercase\n",
    "str=\"UPPERCASE\"\n",
    "a=str.lower()\n",
    "print(a)\n"
   ]
  },
  {
   "cell_type": "code",
   "execution_count": 149,
   "id": "723f1231-10a0-4ef5-b5fb-eb0bd9fd2221",
   "metadata": {},
   "outputs": [
    {
     "name": "stdout",
     "output_type": "stream",
     "text": [
      "Computer Science\n",
      "None\n"
     ]
    }
   ],
   "source": [
    "# Question 10: Remove all vowels from \"Computer Science\"\n",
    "\n",
    "#By using Regular Expressions\n",
    "\n",
    "# import re\n",
    "# def rem_vow(string):\n",
    "#     return(re.sub(\"[aeiouAEIOU]\",\"\",string))\n",
    "\n",
    "# string=\"Computer Science\"\n",
    "# print(rem_vow(string))\n",
    "\n",
    "#By Using Join\n",
    "\n",
    "# def rem_vow(string):\n",
    "#     vow=['aeiouAEIOU']\n",
    "#     res=[letter for letter in string if letter not in vow]\n",
    "#     res=''.join(res)\n",
    "#     print(res)\n",
    "\n",
    "# string=\"Computer Science\"\n",
    "# print(rem_vow(string))"
   ]
  },
  {
   "cell_type": "code",
   "execution_count": 151,
   "id": "cca1c0ef-2c69-460c-96be-d23e9eb37027",
   "metadata": {},
   "outputs": [],
   "source": [
    "# Question 11: Find the most frequent character in \"mississippi\"\n",
    "# str=\"mississippi\"\n",
    "# a=str.count(\"s\")\n",
    "# b=str.count(\"i\")\n",
    "# print(a)\n",
    "\n",
    "#Another method\n",
    "# str1=\"mississippi\"\n",
    "# count=0\n",
    "# for i in str1:\n",
    "    \n",
    "# print(\"the count of 's' in 'Success' is:\",str1(count))"
   ]
  },
  {
   "cell_type": "code",
   "execution_count": null,
   "id": "c2fb8387-8eae-4223-9c6e-6e5a0682ea91",
   "metadata": {},
   "outputs": [],
   "source": [
    "# Question 14: Count consonants in \"Hello World\"\n",
    "str=\"Hello World\""
   ]
  },
  {
   "cell_type": "code",
   "execution_count": null,
   "id": "0de2384e-9b49-4d2d-81e7-cb249d6565eb",
   "metadata": {},
   "outputs": [],
   "source": [
    "\n",
    "\n",
    " "
   ]
  },
  {
   "cell_type": "code",
   "execution_count": null,
   "id": "edbe6f36-4be1-4763-8961-1ae394a9f2d6",
   "metadata": {},
   "outputs": [],
   "source": []
  },
  {
   "cell_type": "code",
   "execution_count": 153,
   "id": "98f9b229-dc0c-484a-a426-42e9a0b453ca",
   "metadata": {},
   "outputs": [],
   "source": [
    "# Question 19: Split string \"apple,banana,orange\" by comma\n",
    "# str=\"apple,banana,orange\"\n",
    "# a=str.split(\"\",0)\n",
    "# print(a)"
   ]
  },
  {
   "cell_type": "code",
   "execution_count": null,
   "id": "32e1f161-5ce6-41ac-a20f-6f0f8030ed81",
   "metadata": {},
   "outputs": [],
   "source": [
    "# Question 20: Join list ['Python', 'is', 'awesome'] with spaces"
   ]
  },
  {
   "cell_type": "code",
   "execution_count": null,
   "id": "d3d10f41-6c5f-4e5b-bdbf-c123cfc3c181",
   "metadata": {},
   "outputs": [],
   "source": []
  },
  {
   "cell_type": "code",
   "execution_count": null,
   "id": "33a20de8-67d9-42db-bbfd-69802c3ce038",
   "metadata": {},
   "outputs": [],
   "source": []
  },
  {
   "cell_type": "code",
   "execution_count": null,
   "id": "490ec890-bb6e-4c22-b135-16b20e432951",
   "metadata": {},
   "outputs": [],
   "source": []
  },
  {
   "cell_type": "code",
   "execution_count": null,
   "id": "8c707de9-e8d5-4ff4-9f65-cf61a2635306",
   "metadata": {},
   "outputs": [],
   "source": []
  },
  {
   "cell_type": "code",
   "execution_count": null,
   "id": "c75343ee-787f-46f3-bc29-3205ea5df720",
   "metadata": {},
   "outputs": [],
   "source": []
  },
  {
   "cell_type": "code",
   "execution_count": 117,
   "id": "af438776-3242-42bf-897c-0abfc484d7b8",
   "metadata": {},
   "outputs": [
    {
     "name": "stdout",
     "output_type": "stream",
     "text": [
      "nohtyP dlroW olleH\n"
     ]
    }
   ],
   "source": [
    "# Question 30: Reverse words in \"Hello World Python\"\n",
    "str=\"Hello World Python\"\n",
    "a=str[::-1]\n",
    "print(a)"
   ]
  },
  {
   "cell_type": "code",
   "execution_count": null,
   "id": "3c1ad86e-ddcd-4885-aebb-51ed9200a6c5",
   "metadata": {},
   "outputs": [],
   "source": []
  }
 ],
 "metadata": {
  "kernelspec": {
   "display_name": "Python 3 (ipykernel)",
   "language": "python",
   "name": "python3"
  },
  "language_info": {
   "codemirror_mode": {
    "name": "ipython",
    "version": 3
   },
   "file_extension": ".py",
   "mimetype": "text/x-python",
   "name": "python",
   "nbconvert_exporter": "python",
   "pygments_lexer": "ipython3",
   "version": "3.12.4"
  }
 },
 "nbformat": 4,
 "nbformat_minor": 5
}
