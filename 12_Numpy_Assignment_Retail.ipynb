{
 "cells": [
  {
   "cell_type": "code",
   "execution_count": 9,
   "id": "5a4c3288-9b4e-451e-b8a8-9ea9e05ae7b7",
   "metadata": {},
   "outputs": [
    {
     "name": "stdout",
     "output_type": "stream",
     "text": [
      "[1 2 3]\n",
      "[[ 2  4  6]\n",
      " [ 8 10 12]]\n"
     ]
    }
   ],
   "source": [
    "#Numpy\n",
    "\n",
    "# import numpy as np\n",
    "\n",
    "# arr=np.array([1,2,3])    #Rank=1\n",
    "\n",
    "# print(arr)\n",
    "\n",
    "# arr=np.array([[2,4,6],   #Rank=2\n",
    "#              [8,10,12]])   #If you miss \"[]\" or \"()\":TypeError: Field elements must be 2- or 3-tuples, got '8' \n",
    "\n",
    "# print(arr)"
   ]
  },
  {
   "cell_type": "code",
   "execution_count": 15,
   "id": "20122a5e-7366-4ef5-8dee-b821800818f5",
   "metadata": {},
   "outputs": [
    {
     "name": "stdout",
     "output_type": "stream",
     "text": [
      "3.0 -7.0 4.0 2.0\n"
     ]
    }
   ],
   "source": [
    "#Numpy Indexing\n",
    "\n",
    "#Accessing all the elements by index\n",
    "\n",
    "# import numpy as np\n",
    "\n",
    "# arr=np.array([[-2,6,8],       #Rank=2\n",
    "#               [-9,1.5,7]])\n",
    "# print(arr)\n",
    "\n",
    "# print(arr[0,0])  #arr[Rows,Columns]\n",
    "# print(arr[0,1])\n",
    "# print(arr[0,2])\n",
    "# print(arr[1,0])\n",
    "# print(arr[1,1])\n",
    "# print(arr[1,2])  \n",
    "\n",
    "# print(arr[0:1]) #First Row\n",
    "\n",
    "# print(arr[1:2]) #Second Row\n",
    "\n",
    "# import numpy as np\n",
    "\n",
    "# arr = np.array([[-1, 2, 0, 4],\n",
    "#                 [4, -0.5, 6, 0],\n",
    "#                 [2.6, 0, 7, 8],\n",
    "#                 [3, -7, 4, 2.0]])\n",
    "\n",
    "# Second Column\n",
    "# print(*arr[0:,1])\n",
    "\n",
    "# Fourth Column\n",
    "# print(*arr[0:,3])\n",
    "\n",
    "# Third row\n",
    "# print(*arr[2:3,0:])\n",
    "\n",
    "# Fourth Row\n",
    "# print(*arr[3,0:4])\n"
   ]
  },
  {
   "cell_type": "code",
   "execution_count": 21,
   "id": "840ef010-d909-4fc3-9954-62c57b126729",
   "metadata": {},
   "outputs": [
    {
     "data": {
      "text/plain": [
       "array([[19, 10,  1,  3],\n",
       "       [ 4, 25, 23, 17],\n",
       "       [13, 15, 39, 46],\n",
       "       [22, 24, 13, 41]], dtype=int32)"
      ]
     },
     "execution_count": 21,
     "metadata": {},
     "output_type": "execute_result"
    }
   ],
   "source": [
    "# import numpy as np\n",
    "\n",
    "# data=np.random.randint(0,50,(4,4))\n",
    "\n",
    "# data\n"
   ]
  },
  {
   "cell_type": "code",
   "execution_count": null,
   "id": "a60125fa-b7a3-4a8c-8c06-0849acfefdbb",
   "metadata": {},
   "outputs": [],
   "source": []
  },
  {
   "cell_type": "code",
   "execution_count": null,
   "id": "1bbe75cb-3d5f-4db1-9d2f-6c9280614c14",
   "metadata": {},
   "outputs": [],
   "source": []
  },
  {
   "cell_type": "code",
   "execution_count": null,
   "id": "88dc6572-082d-4753-9747-b0bb234f2031",
   "metadata": {},
   "outputs": [],
   "source": []
  },
  {
   "cell_type": "code",
   "execution_count": null,
   "id": "fce233fa-ed3a-4720-9ad6-86f81704e66f",
   "metadata": {},
   "outputs": [],
   "source": []
  },
  {
   "cell_type": "code",
   "execution_count": null,
   "id": "2fb4e6cb-87d5-4994-b4ee-238b03553520",
   "metadata": {},
   "outputs": [],
   "source": []
  },
  {
   "cell_type": "code",
   "execution_count": null,
   "id": "a0de3c20-a494-4aca-bb8b-cc140db6baf9",
   "metadata": {},
   "outputs": [],
   "source": [
    "# Manually created array: [Store ID, Sales, Customers, Inventory, Returns]\n",
    "\n",
    "# import numpy as np\n",
    "\n",
    "# retail_data = np.array([\n",
    "#     [1, 25000, 300, 1200, 10],\n",
    "#     [2, 32000, 450, 1500, 15],\n",
    "#     [3, 28000, 380, 1100, 8],\n",
    "#     [4, 41000, 500, 1600, 20],\n",
    "#     [5, 35000, 420, 1400, 12],\n",
    "#     [6, 27000, 360, 1300, 9],\n",
    "#     [7, 39000, 480, 1700, 18],\n",
    "#     [8, 30000, 400, 1250, 14],\n",
    "#     [9, 45000, 550, 1800, 25],\n",
    "#     [10, 33000, 410, 1450, 11]\n",
    "# ])\n",
    "\n",
    "# print(retail_data)"
   ]
  },
  {
   "cell_type": "code",
   "execution_count": null,
   "id": "884f2978-d4e7-4dfe-b953-7700a45cbffd",
   "metadata": {},
   "outputs": [],
   "source": [
    "# Retail Data – Business Questions (for `retail_data`)\n",
    "\n",
    "# **Assumed columns:** `[StoreID, Sales, Customers, Inventory, Returns]`\n",
    "\n",
    "## Basic Performance Analysis\n",
    "\n",
    "# Question 1. What is the **total revenue** generated across all stores?\n"
   ]
  },
  {
   "cell_type": "code",
   "execution_count": null,
   "id": "98734011-5974-47ce-b83b-001864682a61",
   "metadata": {},
   "outputs": [],
   "source": [
    "# Question 2. Which store recorded the **highest sales**?"
   ]
  },
  {
   "cell_type": "code",
   "execution_count": null,
   "id": "b0c87ae5-8275-4d8b-9db4-0ca67fcc59b8",
   "metadata": {},
   "outputs": [],
   "source": [
    "# Question 3. Which store recorded the **lowest sales**?\n",
    "\n"
   ]
  },
  {
   "cell_type": "code",
   "execution_count": null,
   "id": "217d4b21-9226-4367-94dc-b367cd07f534",
   "metadata": {},
   "outputs": [],
   "source": [
    "# Question 4. What is the **average daily sales** per store?"
   ]
  },
  {
   "cell_type": "code",
   "execution_count": null,
   "id": "634e005d-cd0e-44c4-9c5f-a12d8c8b4a60",
   "metadata": {},
   "outputs": [],
   "source": [
    "# Question 5. How many stores achieved sales **above ₹35,000**?"
   ]
  },
  {
   "cell_type": "code",
   "execution_count": null,
   "id": "5051c291-6372-456c-b20d-ff185b24c74e",
   "metadata": {},
   "outputs": [],
   "source": [
    "# Customer Insights\n",
    "\n",
    "# Question 6. Which store had the **highest customer footfall**?\n"
   ]
  },
  {
   "cell_type": "code",
   "execution_count": null,
   "id": "b358468b-2599-4450-9e65-adfde82a453f",
   "metadata": {},
   "outputs": [],
   "source": [
    "# Question 7. What is the **average number of customers** per store?\n"
   ]
  },
  {
   "cell_type": "code",
   "execution_count": null,
   "id": "7f5f08a0-72e1-4ebb-aeb3-3af5393a8a0c",
   "metadata": {},
   "outputs": [],
   "source": [
    "# Question 8. How many stores have **more than 450 customers**?"
   ]
  },
  {
   "cell_type": "code",
   "execution_count": null,
   "id": "c2b66344-1a96-4bf6-8c08-7de657898ca1",
   "metadata": {},
   "outputs": [],
   "source": [
    "# Question 9. Which store has the **lowest customer count**?"
   ]
  },
  {
   "cell_type": "code",
   "execution_count": null,
   "id": "2e00e2f9-21ba-4ef3-b7ec-6c8377592988",
   "metadata": {},
   "outputs": [],
   "source": [
    "# Question 10. Is there any store where **high sales do not correspond to high customers**?"
   ]
  },
  {
   "cell_type": "code",
   "execution_count": null,
   "id": "1f173be9-15fc-4abb-a237-3d44c5bad772",
   "metadata": {},
   "outputs": [],
   "source": [
    "# Inventory & Returns Analysis\n",
    "\n",
    "# Question 11. What is the **total inventory** across all stores?\n"
   ]
  },
  {
   "cell_type": "code",
   "execution_count": null,
   "id": "0d102390-ddca-4f49-90fe-8e05a8705c25",
   "metadata": {},
   "outputs": [],
   "source": [
    "# Question 12. Which store has the **highest inventory stock**?\n"
   ]
  },
  {
   "cell_type": "code",
   "execution_count": null,
   "id": "f0507ece-4440-42ce-a5ba-8fee59a0e205",
   "metadata": {},
   "outputs": [],
   "source": [
    "# Question 13. How many stores have **inventory less than 1300 units**?\n"
   ]
  },
  {
   "cell_type": "code",
   "execution_count": null,
   "id": "f393fb80-f354-4059-a01c-4f9257d866df",
   "metadata": {},
   "outputs": [],
   "source": [
    "# Question 14. Which store has the **highest return rate** (returns ÷ inventory)?\n"
   ]
  },
  {
   "cell_type": "code",
   "execution_count": null,
   "id": "82141494-00d6-43c7-b53d-62b54bb37b18",
   "metadata": {},
   "outputs": [],
   "source": [
    "# Question 15. Which stores have **returns greater than 15 units**?"
   ]
  },
  {
   "cell_type": "code",
   "execution_count": null,
   "id": "3591cdbc-d92d-4662-8b97-2fe2b5761281",
   "metadata": {},
   "outputs": [],
   "source": [
    "# Sales & Customer Correlation\n",
    "\n",
    "# Question 16. Is there a **positive correlation** between sales and customers?\n"
   ]
  },
  {
   "cell_type": "code",
   "execution_count": null,
   "id": "6919f05b-1869-4cba-87db-e712a7770efa",
   "metadata": {},
   "outputs": [],
   "source": [
    "# Question 17. Which store has **high customer visits but low sales**?\n"
   ]
  },
  {
   "cell_type": "code",
   "execution_count": null,
   "id": "9bdd6ee9-014e-413b-948b-841158bfebba",
   "metadata": {},
   "outputs": [],
   "source": [
    "# Question 18. Which store has **low customers but high sales**?\n"
   ]
  },
  {
   "cell_type": "code",
   "execution_count": null,
   "id": "1b7dad1b-c077-467d-a819-6da613dba6fe",
   "metadata": {},
   "outputs": [],
   "source": [
    "# Question 19. How many stores have **sales per customer above ₹90**?\n"
   ]
  },
  {
   "cell_type": "code",
   "execution_count": null,
   "id": "32a4749f-9cc1-40e2-a74b-11f0241b41d8",
   "metadata": {},
   "outputs": [],
   "source": [
    "# Question 20. Which stores could **benefit from customer acquisition campaigns** (low customers, high inventory)?"
   ]
  },
  {
   "cell_type": "code",
   "execution_count": null,
   "id": "5b457678-8f01-4a89-bb57-90755e2bbcf1",
   "metadata": {},
   "outputs": [],
   "source": [
    "# Profitability & Growth\n",
    "\n",
    "# Question 21. If profit margin is **20% of sales**, what is the **profit per store**?\n",
    "\n"
   ]
  },
  {
   "cell_type": "code",
   "execution_count": null,
   "id": "0f6552d9-dd48-44f4-8f56-8da249cfe78b",
   "metadata": {},
   "outputs": [],
   "source": [
    "# Question 22. Which store has the **highest profit**?\n"
   ]
  },
  {
   "cell_type": "code",
   "execution_count": null,
   "id": "af29a6eb-ee09-40a8-ba47-bf788ad61be9",
   "metadata": {},
   "outputs": [],
   "source": [
    "# Question 23. Which store has the **lowest profit**?\n"
   ]
  },
  {
   "cell_type": "code",
   "execution_count": null,
   "id": "2823e232-c600-4672-a31d-fd42ecdb70c8",
   "metadata": {},
   "outputs": [],
   "source": [
    "# Question 24. If sales increase by **10% next month**, what are the **new sales figures**?\n"
   ]
  },
  {
   "cell_type": "code",
   "execution_count": null,
   "id": "b80f6778-e1c9-40f9-b652-862a6c5f02f4",
   "metadata": {},
   "outputs": [],
   "source": [
    "# Question 25. How will **total profit** change with the 10% sales increase?"
   ]
  },
  {
   "cell_type": "code",
   "execution_count": null,
   "id": "a9a8b3d4-b2a6-4198-bc90-3333941c0ad0",
   "metadata": {},
   "outputs": [],
   "source": [
    "# Operational Strategy\n",
    "\n",
    "# Question 26. Which stores need **inventory restocking** based on sales and current stock?\n"
   ]
  },
  {
   "cell_type": "code",
   "execution_count": null,
   "id": "e6b21e6d-effa-40fd-b39a-57ccb3be94b8",
   "metadata": {},
   "outputs": [],
   "source": [
    "# Question 27. Which stores show **high returns percentage** and might require **quality checks**?\n"
   ]
  },
  {
   "cell_type": "code",
   "execution_count": null,
   "id": "eac4a0dc-1f24-4d36-b8d9-70e11830c598",
   "metadata": {},
   "outputs": [],
   "source": [
    "# Question 28. Which store is the **best performer overall** (sales, customers, inventory turnover)?\n"
   ]
  },
  {
   "cell_type": "code",
   "execution_count": null,
   "id": "d676d466-ce69-45df-9331-2f3529c203d7",
   "metadata": {},
   "outputs": [],
   "source": [
    "# Question 29. Which store is the **worst performer overall**?\n"
   ]
  },
  {
   "cell_type": "code",
   "execution_count": null,
   "id": "493ec448-2d6b-4338-a20f-00c30f34a9fe",
   "metadata": {},
   "outputs": [],
   "source": [
    "# Question 30. Which stores can be considered for **expansion** based on strong sales and customer metrics?\n"
   ]
  }
 ],
 "metadata": {
  "kernelspec": {
   "display_name": "Python 3 (ipykernel)",
   "language": "python",
   "name": "python3"
  },
  "language_info": {
   "codemirror_mode": {
    "name": "ipython",
    "version": 3
   },
   "file_extension": ".py",
   "mimetype": "text/x-python",
   "name": "python",
   "nbconvert_exporter": "python",
   "pygments_lexer": "ipython3",
   "version": "3.12.4"
  }
 },
 "nbformat": 4,
 "nbformat_minor": 5
}
