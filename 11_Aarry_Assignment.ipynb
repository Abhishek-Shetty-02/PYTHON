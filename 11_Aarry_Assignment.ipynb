{
 "cells": [
  {
   "cell_type": "code",
   "execution_count": 45,
   "id": "4c52573c-ce88-4a65-849d-62109c95b697",
   "metadata": {},
   "outputs": [
    {
     "name": "stdout",
     "output_type": "stream",
     "text": [
      "1\n",
      "2\n",
      "3\n",
      "4\n",
      "5\n"
     ]
    }
   ],
   "source": [
    "# import array as arr\n",
    "# a=arr.array('i',[1,2,3])\n",
    "# print(a)\n",
    "\n",
    "# print(*a)  #* used for unpacking the array: O/P: 1 2 3\n",
    "    "
   ]
  },
  {
   "cell_type": "code",
   "execution_count": 47,
   "id": "923a15cf-1211-4cef-86dc-219115d03f68",
   "metadata": {},
   "outputs": [
    {
     "name": "stdout",
     "output_type": "stream",
     "text": [
      "12345"
     ]
    }
   ],
   "source": [
    "#Accessing the array elements\n",
    "\n",
    "# import array as arr\n",
    "# a=arr.array('i',[1,2,3,5,7,11])\n",
    "# print(a[2])\n",
    "# print(a[5])\n",
    "\n",
    "# print(a[-2])\n",
    "# print(a[-6])\n",
    "\n",
    "# import array as arr\n",
    "# a=arr.array('i',[1,2,3,4,5])\n",
    "\n",
    "# for i in range(0,5):\n",
    "#     print(a[i],end='')"
   ]
  },
  {
   "cell_type": "code",
   "execution_count": 29,
   "id": "e5e11b70-30e2-4179-a483-b5522cc03096",
   "metadata": {},
   "outputs": [
    {
     "name": "stdout",
     "output_type": "stream",
     "text": [
      "array('i', [1, 2, 3, 100])\n"
     ]
    }
   ],
   "source": [
    "#Insert v/s Append\n",
    "\n",
    "# import array as arr\n",
    "# a=arr.array('i',[1,2,3])\n",
    "# a.insert(0,10)\n",
    "# print(a)\n",
    "\n",
    "# b=arr.array('i',[1,2,3])\n",
    "# b.append(100)\n",
    "# print(b)"
   ]
  },
  {
   "cell_type": "code",
   "execution_count": 95,
   "id": "868f8696-584b-4e4e-987e-cde4e9dc30f2",
   "metadata": {},
   "outputs": [
    {
     "name": "stdout",
     "output_type": "stream",
     "text": [
      "array('i', [1, 2, 3, 5, 11, 5, 17])\n",
      "1 2 3 11 5 17\n"
     ]
    }
   ],
   "source": [
    "#Remove v/s Pop\n",
    "\n",
    "import array as arr\n",
    "a=arr.array('i',[1,2,3,5,7,11,5,17])\n",
    "a.remove(7)\n",
    "print(a)\n",
    "\n",
    "# a.remove(10)\n",
    "# print(a)\n",
    "\n",
    "a.remove(5)\n",
    "print(*a)\n",
    "\n",
    "\n",
    "# import array as arr\n",
    "# a=arr.array('i',[1,2,3,5,7,11,5,17])\n",
    "\n",
    "# a.pop()\n",
    "# print(*a)\n",
    "\n",
    "# a.pop(0)\n",
    "# print(*a)\n",
    "\n",
    "# a.pop(5)\n",
    "# print(*a)"
   ]
  },
  {
   "cell_type": "code",
   "execution_count": 7,
   "id": "172e44cb-ed7b-4062-82b9-7be10e8ac738",
   "metadata": {},
   "outputs": [
    {
     "name": "stdout",
     "output_type": "stream",
     "text": [
      "array('i', [1, 2, 3, 4, 5])\n",
      "1\n",
      "2\n",
      "3\n",
      "4\n",
      "5\n"
     ]
    }
   ],
   "source": [
    "#ARRAY\n",
    "# Question 1. Create an array of 5 integers and display the array items. Access individual element through indexes.\n",
    "\n",
    "# import array as arr\n",
    "\n",
    "# a=arr.array('i',[1,2,3,4,5])  # @Datatype, if int gave: TypeError: array() argument 1 must be a unicode character, not type\n",
    "# print(a)\n",
    "\n",
    "# print(a[0])\n",
    "# print(a[1])\n",
    "# print(a[2])\n",
    "# print(a[3])\n",
    "# print(a[4])"
   ]
  },
  {
   "cell_type": "code",
   "execution_count": 31,
   "id": "eff074a9-296d-42fd-b672-98d9610791ab",
   "metadata": {},
   "outputs": [],
   "source": [
    "# Question 2. Append a new item to the end of the array.\n",
    "\n",
    "# import array as arr\n",
    "\n",
    "# a=arr.array('i',['Tom Aspinal','Jon Jones','Masvidal','Arman','Charles','Justin'])\n",
    "\n",
    "# a.append('Dustin')\n",
    "\n",
    "# print(a)"
   ]
  },
  {
   "cell_type": "code",
   "execution_count": 57,
   "id": "e8542745-51d4-44a3-8db5-dd85de5997e6",
   "metadata": {},
   "outputs": [],
   "source": [
    "# Question 3. Reverse the order of the items in the array.\n",
    "\n",
    "#By using the Indexes\n",
    "\n",
    "# import array as arr\n",
    "\n",
    "# a=arr.array('i',[1,2,3,4,5])\n",
    "\n",
    "# print(a[::-1])\n",
    "\n",
    "#By using the Reverse method\n",
    "#Doubt\n",
    "\n",
    "# import array as arr\n",
    "\n",
    "# a=arr.array('i',[2,4,6,8,10])\n",
    "\n",
    "# b=a.reverse()\n",
    "\n",
    "# print(b)  #None"
   ]
  },
  {
   "cell_type": "code",
   "execution_count": 79,
   "id": "fdcd2193-395b-4905-9dbf-33aa0c782e4e",
   "metadata": {},
   "outputs": [],
   "source": [
    "# Question 4. Get the length in bytes of one array item in the internal representation.\n",
    "\n",
    "#By Using the itemsize method\n",
    "\n",
    "\n",
    "#In Python, the itemsize attribute of a NumPy array provides the size (in bytes) of a single element in the array. \n",
    "#This is determined by the data type (dtype) of the array elements.\n",
    "#This attribute is particularly useful when working with large datasets, as it helps you estimate memory usage.\n",
    "\n",
    "# import array as arr\n",
    "\n",
    "# a=arr.array('i',[10,20,30,40,50])\n",
    "\n",
    "# b=arr.array('float',[1.7,2.9,6.8,0.3,5.3])\n",
    "\n",
    "# print(\"The Array: \" + str(a))\n",
    "\n",
    "# print(\"The Length of the Array: \" + str(a.itemsize))\n",
    "\n",
    "# print(\"The Length of the Array: \" + str(b.itemsize))"
   ]
  },
  {
   "cell_type": "code",
   "execution_count": null,
   "id": "68fed8fc-8cf6-4529-9c98-8d8976e58f12",
   "metadata": {},
   "outputs": [],
   "source": [
    "# Question 5. Get the current memory address and the length in elements of the buffer used to hold an arrays? contents and also find the size \n"
   ]
  },
  {
   "cell_type": "code",
   "execution_count": 113,
   "id": "50adf1c9-0188-48d2-9ef7-503190cfa8e5",
   "metadata": {},
   "outputs": [
    {
     "name": "stdout",
     "output_type": "stream",
     "text": [
      "The element 9 occurs 3 times\n"
     ]
    }
   ],
   "source": [
    "# Question 6. Get the number of occurrences of a specified element in an array\n",
    "\n",
    "\n",
    "#By using Count Method\n",
    "\n",
    "# import array as arr\n",
    "\n",
    "# a=arr.array('i',[1,2,9,3,5,7,9,99,9,45,77])\n",
    "\n",
    "# element=9\n",
    "\n",
    "# count=a.count(9)\n",
    "\n",
    "# print(f\"The element {element} occurs {count} times\")\n",
    "\n"
   ]
  },
  {
   "cell_type": "code",
   "execution_count": 55,
   "id": "382bd124-0225-4a8a-b39a-a340d0d7ac42",
   "metadata": {},
   "outputs": [
    {
     "name": "stdout",
     "output_type": "stream",
     "text": [
      "The Orginal Array: array('i', [1, 2, 3, 5, 7])\n",
      "The Extend Array: array('i', [1, 2, 3, 5, 7, 1, 2, 3, 5, 7])\n"
     ]
    }
   ],
   "source": [
    "# Question 7. Append items from inerrable to the end of the array\n",
    "\n",
    "#By using the Extend Method\n",
    "\n",
    "# import array as arr\n",
    "\n",
    "# a=arr.array('i',[1,2,3,5,7])\n",
    "\n",
    "# print(\"The Orginal Array: \" + str(a))\n",
    "\n",
    "# b=a.extend(a)\n",
    "\n",
    "# print(\"The Extend Array: \" + str(a))"
   ]
  },
  {
   "cell_type": "code",
   "execution_count": null,
   "id": "0b866b77-bfb6-4189-80b9-ec06a5e39edf",
   "metadata": {},
   "outputs": [],
   "source": [
    "# Question 8. Convert an array to an array of machine values and return the bytes representation\n"
   ]
  },
  {
   "cell_type": "code",
   "execution_count": 37,
   "id": "125d222a-7eea-4e03-82d4-6db66e3f2cdd",
   "metadata": {},
   "outputs": [
    {
     "name": "stdout",
     "output_type": "stream",
     "text": [
      "array('i', [1, 2, 3, 5, 7, 11, 13, 17])\n"
     ]
    }
   ],
   "source": [
    "# Question 9. Append items from a specified list.\n",
    "\n",
    "#By using Extend Method\n",
    "\n",
    "# import array as arr\n",
    "\n",
    "# a=arr.array('i',[1,2,3,5,7])\n",
    "\n",
    "# list=[11,13,17]\n",
    "\n",
    "# a.extend(list)\n",
    "\n",
    "# print(a)\n",
    "\n",
    "\n"
   ]
  },
  {
   "cell_type": "code",
   "execution_count": null,
   "id": "3b621978-e3e7-4dc7-9e36-6bc882320800",
   "metadata": {},
   "outputs": [],
   "source": [
    "# Question 10. Insert a new item before the second element in an existing array.\n"
   ]
  },
  {
   "cell_type": "code",
   "execution_count": 107,
   "id": "49e4ba10-672b-4191-9d8d-600894789be3",
   "metadata": {},
   "outputs": [
    {
     "name": "stdout",
     "output_type": "stream",
     "text": [
      "array('i', [2, 4, 6, 10, 20])\n"
     ]
    }
   ],
   "source": [
    "# Question 11. Remove a specified item using the index from an array.\n",
    "\n",
    "#By using the indexes\n",
    "\n",
    "# import array as arr\n",
    "\n",
    "# a=arr.array('i',[2,4,6,8,10,20])\n",
    "\n",
    "# a.remove(a[3])\n",
    "\n",
    "# print(a)\n",
    "\n"
   ]
  },
  {
   "cell_type": "code",
   "execution_count": 101,
   "id": "39dd54e7-3428-427e-8691-242dc773e441",
   "metadata": {},
   "outputs": [
    {
     "name": "stdout",
     "output_type": "stream",
     "text": [
      "2\n"
     ]
    }
   ],
   "source": [
    "# Question 12. Remove the first occurrence of a specified element from an array.\n",
    "\n",
    "#By using Index() method\n",
    "\n",
    "# import array as arr\n",
    "\n",
    "# a=arr.array('i',[1,2,9,3,5,7,9,99])\n",
    "\n",
    "# print(a.index(9))  # the first occurrence of 9 is index at 2\n",
    "\n",
    "# b=a.pop(2)\n",
    "\n",
    "# print(\"The Updated array: \" + str(a))\n"
   ]
  },
  {
   "cell_type": "code",
   "execution_count": null,
   "id": "0917bb19-c017-43c6-817a-8001180d4084",
   "metadata": {},
   "outputs": [],
   "source": [
    "# Question 13. Convert an array to an ordinary list with the same items."
   ]
  }
 ],
 "metadata": {
  "kernelspec": {
   "display_name": "Python 3 (ipykernel)",
   "language": "python",
   "name": "python3"
  },
  "language_info": {
   "codemirror_mode": {
    "name": "ipython",
    "version": 3
   },
   "file_extension": ".py",
   "mimetype": "text/x-python",
   "name": "python",
   "nbconvert_exporter": "python",
   "pygments_lexer": "ipython3",
   "version": "3.12.4"
  }
 },
 "nbformat": 4,
 "nbformat_minor": 5
}
